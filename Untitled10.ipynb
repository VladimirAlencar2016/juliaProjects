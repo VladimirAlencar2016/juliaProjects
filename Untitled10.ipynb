{
 "cells": [
  {
   "cell_type": "code",
   "execution_count": 2,
   "metadata": {
    "collapsed": false
   },
   "outputs": [
    {
     "name": "stderr",
     "output_type": "stream",
     "text": [
      "INFO: Precompiling module PyCall...\n"
     ]
    },
    {
     "ename": "LoadError",
     "evalue": "LoadError: syntax: incomplete: unterminated multi-line comment #= ... =#\nwhile loading In[2], in expression starting on line 6",
     "output_type": "error",
     "traceback": [
      "LoadError: syntax: incomplete: unterminated multi-line comment #= ... =#\nwhile loading In[2], in expression starting on line 6",
      ""
     ]
    }
   ],
   "source": [
    "using PyCall\n",
    "# pyeval(\"2+2\") #=> 4\n",
    "# pyeval(\"str(5)\") #=> \"5\"\n",
    "\n",
    "# doing things by hand, for fun :)\n",
    "math = pyimport(:math) #=> PyObject <module 'math'>\n",
    "pycall(math[\"sin\"],Float64,1) #=> 0.8414709848078965"
   ]
  },
  {
   "cell_type": "code",
   "execution_count": 4,
   "metadata": {
    "collapsed": false
   },
   "outputs": [
    {
     "data": {
      "text/plain": [
       "0.8414709848078965"
      ]
     },
     "execution_count": 4,
     "metadata": {},
     "output_type": "execute_result"
    }
   ],
   "source": [
    "using PyCall\n",
    "math = pyimport(:math) \n",
    "pycall(math[\"sin\"],Float64,1) "
   ]
  },
  {
   "cell_type": "code",
   "execution_count": 5,
   "metadata": {
    "collapsed": false
   },
   "outputs": [
    {
     "data": {
      "text/plain": [
       "4"
      ]
     },
     "execution_count": 5,
     "metadata": {},
     "output_type": "execute_result"
    }
   ],
   "source": [
    "pyeval(\"2+2\")"
   ]
  },
  {
   "cell_type": "code",
   "execution_count": null,
   "metadata": {
    "collapsed": true
   },
   "outputs": [],
   "source": []
  }
 ],
 "metadata": {
  "kernelspec": {
   "display_name": "Julia 0.4.3",
   "language": "julia",
   "name": "julia-0.4"
  },
  "language_info": {
   "file_extension": ".jl",
   "mimetype": "application/julia",
   "name": "julia",
   "version": "0.4.3"
  }
 },
 "nbformat": 4,
 "nbformat_minor": 0
}
