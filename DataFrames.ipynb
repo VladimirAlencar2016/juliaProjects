{
 "cells": [
  {
   "cell_type": "code",
   "execution_count": null,
   "metadata": {
    "collapsed": false
   },
   "outputs": [],
   "source": [
    "Pkg.add(\"DataFrames\")\n",
    "Pkg.add(\"RDatasets\")"
   ]
  },
  {
   "cell_type": "code",
   "execution_count": null,
   "metadata": {
    "collapsed": false
   },
   "outputs": [],
   "source": [
    "RDatasets, DataFrames\n",
    "anscombe = dataset(\"datasets\",\"anscombe\")"
   ]
  },
  {
   "cell_type": "code",
   "execution_count": null,
   "metadata": {
    "collapsed": false
   },
   "outputs": [],
   "source": [
    "using RDatasets, DataFrames\n",
    "anscombe = dataset(\"datasets\",\"anscombe\")"
   ]
  },
  {
   "cell_type": "code",
   "execution_count": null,
   "metadata": {
    "collapsed": false
   },
   "outputs": [],
   "source": [
    " typeof(anscombe)"
   ]
  },
  {
   "cell_type": "code",
   "execution_count": null,
   "metadata": {
    "collapsed": false
   },
   "outputs": [],
   "source": [
    " names(anscombe)"
   ]
  },
  {
   "cell_type": "code",
   "execution_count": null,
   "metadata": {
    "collapsed": false
   },
   "outputs": [],
   "source": [
    "size(anscombe) # number of rows, number of columns\n"
   ]
  },
  {
   "cell_type": "code",
   "execution_count": null,
   "metadata": {
    "collapsed": false
   },
   "outputs": [],
   "source": [
    " head(anscombe)"
   ]
  },
  {
   "cell_type": "code",
   "execution_count": null,
   "metadata": {
    "collapsed": false
   },
   "outputs": [],
   "source": [
    "tail(anscombe)"
   ]
  },
  {
   "cell_type": "code",
   "execution_count": null,
   "metadata": {
    "collapsed": false
   },
   "outputs": [],
   "source": [
    "showcols(anscombe)"
   ]
  },
  {
   "cell_type": "code",
   "execution_count": null,
   "metadata": {
    "collapsed": false
   },
   "outputs": [],
   "source": [
    "anscombe[:Y2]"
   ]
  },
  {
   "cell_type": "code",
   "execution_count": null,
   "metadata": {
    "collapsed": false
   },
   "outputs": [],
   "source": [
    " anscombe[6]"
   ]
  },
  {
   "cell_type": "code",
   "execution_count": null,
   "metadata": {
    "collapsed": false
   },
   "outputs": [],
   "source": [
    "anscombe[4:6,[:X2,:X4]]"
   ]
  },
  {
   "cell_type": "code",
   "execution_count": null,
   "metadata": {
    "collapsed": false
   },
   "outputs": [],
   "source": [
    "anscombe[[4,6, 9],[:X2,:X4]]"
   ]
  },
  {
   "cell_type": "code",
   "execution_count": null,
   "metadata": {
    "collapsed": false
   },
   "outputs": [],
   "source": [
    "anscombe[[4,6,8,11],:]"
   ]
  },
  {
   "cell_type": "code",
   "execution_count": null,
   "metadata": {
    "collapsed": false
   },
   "outputs": [],
   "source": [
    "anscombe[:, [:X1, :Y1]]"
   ]
  },
  {
   "cell_type": "code",
   "execution_count": null,
   "metadata": {
    "collapsed": false
   },
   "outputs": [],
   "source": [
    "anscombe[anscombe[:Y1] .> 7.0, :]"
   ]
  },
  {
   "cell_type": "code",
   "execution_count": null,
   "metadata": {
    "collapsed": false
   },
   "outputs": [],
   "source": [
    "mean(anscombe[:X2])"
   ]
  },
  {
   "cell_type": "code",
   "execution_count": null,
   "metadata": {
    "collapsed": false
   },
   "outputs": [],
   "source": [
    "colwise(mean, anscombe)"
   ]
  },
  {
   "cell_type": "code",
   "execution_count": null,
   "metadata": {
    "collapsed": false
   },
   "outputs": [],
   "source": [
    "for col in eachcol(anscombe)\n",
    "   println(col)\n",
    "end"
   ]
  },
  {
   "cell_type": "code",
   "execution_count": null,
   "metadata": {
    "collapsed": false
   },
   "outputs": [],
   "source": [
    "for r in eachrow(anscombe)\n",
    "    println(r)\n",
    "end"
   ]
  },
  {
   "cell_type": "code",
   "execution_count": null,
   "metadata": {
    "collapsed": false
   },
   "outputs": [],
   "source": [
    "for row in eachrow(anscombe)\n",
    "          println(mean(convert(Array, row)))\n",
    "       end"
   ]
  },
  {
   "cell_type": "code",
   "execution_count": null,
   "metadata": {
    "collapsed": false
   },
   "outputs": [],
   "source": [
    "# print a header\n",
    "println(\"Column\\tMeanX\\tMedianX\\tStdDev X\\tMeanY\\t\\t\\tStdDev Y\\t\\tCorr\\t\")\n",
    "\n",
    "map((xcol,ycol) -> println(\n",
    "    xcol,                   \"\\t\",\n",
    "    mean(anscombe[xcol]),   \"\\t\", \n",
    "    median(anscombe[xcol]), \"\\t\", \n",
    "    std(anscombe[xcol]),    \"\\t\", \n",
    "    mean(anscombe[ycol]),   \"\\t\", \n",
    "    std(anscombe[ycol]),    \"\\t\", \n",
    "    cor(anscombe[xcol], anscombe[ycol])), \n",
    "    \n",
    "    [:X1, :X2, :X3, :X4], \n",
    "    [:Y1, :Y2, :Y3, :Y4]);"
   ]
  },
  {
   "cell_type": "code",
   "execution_count": null,
   "metadata": {
    "collapsed": false
   },
   "outputs": [],
   "source": [
    "describe(anscombe)"
   ]
  },
  {
   "cell_type": "code",
   "execution_count": null,
   "metadata": {
    "collapsed": false
   },
   "outputs": [],
   "source": [
    "\n",
    "using Gadfly\n",
    "set_default_plot_size(20cm, 10cm)\n",
    "p1 = plot(x=anscombe[:X1], y=anscombe[:Y1],\n",
    "    Geom.point, \n",
    "    Geom.smooth(method=:lm),\n",
    "    Guide.xticks(ticks=[3:20]),\n",
    "    Guide.yticks(ticks=[3:20]),\n",
    "    Guide.xlabel(\"X1\"), \n",
    "    Guide.ylabel(\"Y1\"),\n",
    "    Guide.title(\"Anscombe Quartet: 1\"))\n",
    "\n",
    "p2 = plot(x=anscombe[:X2], y=anscombe[:Y2],\n",
    "    Geom.point, \n",
    "    Geom.smooth(method=:lm),\n",
    "    Guide.xticks(ticks=[3:20]),\n",
    "    Guide.yticks(ticks=[3:20]),\n",
    "    Guide.xlabel(\"X2\"), \n",
    "    Guide.ylabel(\"Y2\"), \n",
    "    Guide.title(\"Anscombe Quartet: 2\"))\n",
    "\n",
    "p3 = plot(x=anscombe[:X3], y=anscombe[:Y3],\n",
    "    Geom.point, \n",
    "    Geom.smooth(method=:lm),\n",
    "    Guide.xticks(ticks=[3:20]),\n",
    "    Guide.yticks(ticks=[3:20]),\n",
    "    Guide.xlabel(\"X3\"), \n",
    "    Guide.ylabel(\"Y3\"), \n",
    "    Guide.title(\"Anscombe Quartet: 3\"))\n",
    "\n",
    "p4 = plot(x=anscombe[:X4], y=anscombe[:Y4],\n",
    "    Geom.point, \n",
    "    Geom.smooth(method=:lm),\n",
    "    Guide.xticks(ticks=[3:20]),\n",
    "    Guide.yticks(ticks=[3:20]),\n",
    "    Guide.xlabel(\"X4\"), \n",
    "    Guide.ylabel(\"Y4\"), \n",
    "    Guide.title(\"Anscombe Quartet: 4\"))\n",
    "\n",
    "plot1 = hstack(p1, p2)"
   ]
  },
  {
   "cell_type": "code",
   "execution_count": null,
   "metadata": {
    "collapsed": true
   },
   "outputs": [],
   "source": [
    "using Gadfly"
   ]
  },
  {
   "cell_type": "code",
   "execution_count": null,
   "metadata": {
    "collapsed": false
   },
   "outputs": [],
   "source": [
    "set_default_plot_size(20cm, 10cm)\n",
    "p1 = plot(x=anscombe[:X1], y=anscombe[:Y1],\n",
    "    Geom.point, \n",
    "    Geom.smooth(method=:lm),\n",
    "    Guide.xticks(ticks=[3:20]),\n",
    "    Guide.yticks(ticks=[3:20]),\n",
    "    Guide.xlabel(\"X1\"), \n",
    "    Guide.ylabel(\"Y1\"),\n",
    "    Guide.title(\"Anscombe Quartet: 1\"))\n",
    "\n",
    "p2 = plot(x=anscombe[:X2], y=anscombe[:Y2],\n",
    "    Geom.point, \n",
    "    Geom.smooth(method=:lm),\n",
    "    Guide.xticks(ticks=[3:20]),\n",
    "    Guide.yticks(ticks=[3:20]),\n",
    "    Guide.xlabel(\"X2\"), \n",
    "    Guide.ylabel(\"Y2\"), \n",
    "    Guide.title(\"Anscombe Quartet: 2\"))\n",
    "\n",
    "p3 = plot(x=anscombe[:X3], y=anscombe[:Y3],\n",
    "    Geom.point, \n",
    "    Geom.smooth(method=:lm),\n",
    "    Guide.xticks(ticks=[3:20]),\n",
    "    Guide.yticks(ticks=[3:20]),\n",
    "    Guide.xlabel(\"X3\"), \n",
    "    Guide.ylabel(\"Y3\"), \n",
    "    Guide.title(\"Anscombe Quartet: 3\"))\n",
    "\n",
    "p4 = plot(x=anscombe[:X4], y=anscombe[:Y4],\n",
    "    Geom.point, \n",
    "    Geom.smooth(method=:lm),\n",
    "    Guide.xticks(ticks=[3:20]),\n",
    "    Guide.yticks(ticks=[3:20]),\n",
    "    Guide.xlabel(\"X4\"), \n",
    "    Guide.ylabel(\"Y4\"), \n",
    "    Guide.title(\"Anscombe Quartet: 4\"))\n",
    "\n",
    "plot1 = vstack(p1, p2,p3,p4)\n",
    "# plot2 = hstack(p3,p4)"
   ]
  },
  {
   "cell_type": "code",
   "execution_count": null,
   "metadata": {
    "collapsed": true
   },
   "outputs": [],
   "source": []
  },
  {
   "cell_type": "code",
   "execution_count": null,
   "metadata": {
    "collapsed": false
   },
   "outputs": [],
   "source": [
    "\n",
    "plot1 = hstack(p1, p2)"
   ]
  },
  {
   "cell_type": "code",
   "execution_count": null,
   "metadata": {
    "collapsed": false
   },
   "outputs": [],
   "source": [
    "plot2 = hstack(p3, p4)"
   ]
  },
  {
   "cell_type": "code",
   "execution_count": null,
   "metadata": {
    "collapsed": false
   },
   "outputs": [],
   "source": [
    "plot3 = plot(dataset(\"datasets\", \"anscombe\"), x=:X1, y=:Y1, Geom.point)"
   ]
  },
  {
   "cell_type": "code",
   "execution_count": null,
   "metadata": {
    "collapsed": false
   },
   "outputs": [],
   "source": [
    "Pkg.add(\"GLM\")"
   ]
  },
  {
   "cell_type": "code",
   "execution_count": null,
   "metadata": {
    "collapsed": true
   },
   "outputs": [],
   "source": [
    "using GLM"
   ]
  },
  {
   "cell_type": "code",
   "execution_count": null,
   "metadata": {
    "collapsed": false
   },
   "outputs": [],
   "source": [
    "linearmodel = fit(LinearModel, Y1 ~ X1, anscombe)"
   ]
  },
  {
   "cell_type": "code",
   "execution_count": null,
   "metadata": {
    "collapsed": false
   },
   "outputs": [],
   "source": [
    " names(linearmodel)"
   ]
  },
  {
   "cell_type": "code",
   "execution_count": null,
   "metadata": {
    "collapsed": false
   },
   "outputs": [],
   "source": [
    "summary(linearmodel)"
   ]
  },
  {
   "cell_type": "code",
   "execution_count": null,
   "metadata": {
    "collapsed": false
   },
   "outputs": [],
   "source": [
    "coef(linearmodel)"
   ]
  },
  {
   "cell_type": "code",
   "execution_count": null,
   "metadata": {
    "collapsed": false
   },
   "outputs": [],
   "source": [
    "f(x) = coef(linearmodel)[2] * x + coef(linearmodel)[1]"
   ]
  },
  {
   "cell_type": "code",
   "execution_count": null,
   "metadata": {
    "collapsed": false
   },
   "outputs": [],
   "source": [
    "using Color\n",
    "plot4 = plot(\n",
    "            # top layer, red regression line\n",
    "            layer(x=1:20, y=f([1:20]), \n",
    "               Geom.line, \n",
    "               Theme(\n",
    "                   line_width=2px, \n",
    "                   default_color=color(\"Red\"))),\n",
    "            # second layer, blue data points\n",
    "            layer(\n",
    "               x=anscombe[:X1], y=anscombe[:Y1],\n",
    "               Geom.point, \n",
    "               Theme(\n",
    "                   default_point_size=8px,\n",
    "                   default_color=color(\"DarkBlue\"))),\n",
    "            # bottom layer, Aquamarine Gadfly smoothed line\n",
    "            layer(\n",
    "               x=anscombe[:X1], y=anscombe[:Y1],\n",
    "               Geom.smooth(method=:lm),\n",
    "               Theme(\n",
    "                   line_width=12px, \n",
    "                   default_color=color(\"Aquamarine\"))),\n",
    "           Guide.xlabel(\"X1\"), \n",
    "           Guide.ylabel(\"Y1\"),\n",
    "           Guide.title(\"Anscombe Quartet: 1\"),\n",
    "           Guide.manual_color_key(\"Key\", [\"Data\", \"Smoothed\", \"Model\"], [color(\"DarkBlue\"), color(\"Aquamarine\"), color(\"Red\")])\n",
    "       )"
   ]
  },
  {
   "cell_type": "code",
   "execution_count": null,
   "metadata": {
    "collapsed": false
   },
   "outputs": [],
   "source": [
    "Pkg.add(\"Color\")"
   ]
  },
  {
   "cell_type": "code",
   "execution_count": null,
   "metadata": {
    "collapsed": false
   },
   "outputs": [],
   "source": [
    "using Color\n",
    "plot4 = plot(\n",
    "            # top layer, red regression line\n",
    "            layer(x=1:20, y=f([1:20]), \n",
    "               Geom.line, \n",
    "               Theme(\n",
    "                   line_width=2px, \n",
    "                   default_color=color(\"Red\"))),\n",
    "            # second layer, blue data points\n",
    "            layer(\n",
    "               x=anscombe[:X1], y=anscombe[:Y1],\n",
    "               Geom.point, \n",
    "               Theme(\n",
    "                   default_point_size=8px,\n",
    "                   default_color=color(\"DarkBlue\"))),\n",
    "            # bottom layer, Aquamarine Gadfly smoothed line\n",
    "            layer(\n",
    "               x=anscombe[:X1], y=anscombe[:Y1],\n",
    "               Geom.smooth(method=:lm),\n",
    "               Theme(\n",
    "                   line_width=12px, \n",
    "                   default_color=color(\"Aquamarine\"))),\n",
    "           Guide.xlabel(\"X1\"), \n",
    "           Guide.ylabel(\"Y1\"),\n",
    "           Guide.title(\"Anscombe Quartet: 1\"),\n",
    "           Guide.manual_color_key(\"Key\", [\"Data\", \"Smoothed\", \"Model\"], [color(\"DarkBlue\"), color(\"Aquamarine\"), color(\"Red\")])\n",
    "       )"
   ]
  },
  {
   "cell_type": "code",
   "execution_count": null,
   "metadata": {
    "collapsed": false
   },
   "outputs": [],
   "source": [
    "using RDatasets, DataFrames, Bokeh, GLM\n",
    "anscombe = dataset(\"datasets\",\"anscombe\")\n",
    "linearmodel = fit(LinearModel, Y1 ~ X1, anscombe)\n",
    "f(x) = coef(linearmodel)[2] * x + coef(linearmodel)[1]\n",
    "plotfile(\"anscombe.html\")\n",
    "plot(anscombe[:X1], anscombe[:Y1], \"rs|bo|g*\")\n",
    "hold(true)\n",
    "plot([1:20], map(f, [1:20]))\n",
    "showplot()"
   ]
  },
  {
   "cell_type": "code",
   "execution_count": null,
   "metadata": {
    "collapsed": true
   },
   "outputs": [],
   "source": []
  },
  {
   "cell_type": "code",
   "execution_count": null,
   "metadata": {
    "collapsed": false
   },
   "outputs": [],
   "source": [
    "using Gadfly\n",
    "using RDatasets, DataFrames, Bokeh, GLM\n",
    "anscombe = dataset(\"datasets\",\"anscombe\")\n",
    "linearmodel = fit(LinearModel, Y1 ~ X1, anscombe)\n",
    "f(x) = coef(linearmodel)[2] * x + coef(linearmodel)[1]\n",
    "# plotfile(\"anscombe.html\")\n",
    "Gadfly.plot(x=anscombe[:X1], y=anscombe[:Y1])\n",
    "# Gadfly.hold(true)\n"
   ]
  },
  {
   "cell_type": "code",
   "execution_count": null,
   "metadata": {
    "collapsed": false
   },
   "outputs": [],
   "source": [
    "Gadfly.plot(x=[1:20], y=map(f, [1:20]))"
   ]
  },
  {
   "cell_type": "code",
   "execution_count": 2,
   "metadata": {
    "collapsed": false
   },
   "outputs": [
    {
     "name": "stderr",
     "output_type": "stream",
     "text": [
      "WARNING: Base.String is deprecated, use AbstractString instead.\n",
      "  likely near C:\\Users\\Vladimir Alencar\\.julia\\v0.4\\RDatasets\\src\\dataset.jl:1\n",
      "WARNING: Base.String is deprecated, use AbstractString instead.\n",
      "  likely near C:\\Users\\Vladimir Alencar\\.julia\\v0.4\\RDatasets\\src\\dataset.jl:1\n",
      "WARNING: Base.String is deprecated, use AbstractString instead.\n",
      "  likely near C:\\Users\\Vladimir Alencar\\.julia\\v0.4\\RDatasets\\src\\datasets.jl:1\n",
      "WARNING: Union(args...) is deprecated, use Union{args...} instead.\n",
      " in depwarn at deprecated.jl:73\n",
      " in include at boot.jl:261\n",
      " in include_from_node1 at loading.jl:304\n",
      " in include at boot.jl:261\n",
      " in include_from_node1 at loading.jl:304\n",
      " in require at loading.jl:243\n",
      " in include_string at loading.jl:266\n",
      " in execute_request_0x535c5df2 at C:\\Users\\Vladimir Alencar\\.julia\\v0.4\\IJulia\\src\\execute_request.jl:177\n",
      " in eventloop at C:\\Users\\Vladimir Alencar\\.julia\\v0.4\\IJulia\\src\\IJulia.jl:141\n",
      " in anonymous at task.jl:447\n",
      "while loading C:\\Users\\Vladimir Alencar\\.julia\\v0.4\\Bokeh\\src\\bokehjs.jl, in expression starting on line 6\n",
      "WARNING: Union(args...) is deprecated, use Union{args...} instead.\n",
      " in depwarn at deprecated.jl:73\n",
      " in include at boot.jl:261\n",
      " in include_from_node1 at loading.jl:304\n",
      " in include at boot.jl:261\n",
      " in include_from_node1 at loading.jl:304\n",
      " in require at loading.jl:243\n",
      " in include_string at loading.jl:266\n",
      " in execute_request_0x535c5df2 at C:\\Users\\Vladimir Alencar\\.julia\\v0.4\\IJulia\\src\\execute_request.jl:177\n",
      " in eventloop at C:\\Users\\Vladimir Alencar\\.julia\\v0.4\\IJulia\\src\\IJulia.jl:141\n",
      " in anonymous at task.jl:447\n",
      "while loading C:\\Users\\Vladimir Alencar\\.julia\\v0.4\\Bokeh\\src\\bokehjs.jl, in expression starting on line 7\n",
      "WARNING: Union(args...) is deprecated, use Union{args...} instead.\n",
      " in depwarn at deprecated.jl:73\n",
      " in include at boot.jl:261\n",
      " in include_from_node1 at loading.jl:304\n",
      " in include at boot.jl:261\n",
      " in include_from_node1 at loading.jl:304\n",
      " in require at loading.jl:243\n",
      " in include_string at loading.jl:266\n",
      " in execute_request_0x535c5df2 at C:\\Users\\Vladimir Alencar\\.julia\\v0.4\\IJulia\\src\\execute_request.jl:177\n",
      " in eventloop at C:\\Users\\Vladimir Alencar\\.julia\\v0.4\\IJulia\\src\\IJulia.jl:141\n",
      " in anonymous at task.jl:447\n",
      "while loading C:\\Users\\Vladimir Alencar\\.julia\\v0.4\\Bokeh\\src\\bokehjs.jl, in expression starting on line 8\n",
      "WARNING: Base.String is deprecated, use AbstractString instead.\n",
      "  likely near C:\\Users\\Vladimir Alencar\\.julia\\v0.4\\Bokeh\\src\\bokehjs.jl:13\n",
      "WARNING: Base.String is deprecated, use AbstractString instead.\n",
      "  likely near C:\\Users\\Vladimir Alencar\\.julia\\v0.4\\Bokeh\\src\\bokehjs.jl:17\n",
      "WARNING: Base.String is deprecated, use AbstractString instead.\n",
      "  likely near C:\\Users\\Vladimir Alencar\\.julia\\v0.4\\Bokeh\\src\\bokehjs.jl:17\n",
      "WARNING: Base.String is deprecated, use AbstractString instead.\n",
      "  likely near C:\\Users\\Vladimir Alencar\\.julia\\v0.4\\Bokeh\\src\\bokehjs.jl:17\n",
      "WARNING: Base.Nothing is deprecated, use Void instead.\n",
      "  likely near C:\\Users\\Vladimir Alencar\\.julia\\v0.4\\Bokeh\\src\\bokehjs.jl:21\n",
      "WARNING: Base.String is deprecated, use AbstractString instead.\n",
      "  likely near C:\\Users\\Vladimir Alencar\\.julia\\v0.4\\Bokeh\\src\\bokehjs.jl:21\n",
      "WARNING: Union(args...) is deprecated, use Union{args...} instead.\n",
      " in depwarn at deprecated.jl:73\n",
      " in include at boot.jl:261\n",
      " in include_from_node1 at loading.jl:304\n",
      " in include at boot.jl:261\n",
      " in include_from_node1 at loading.jl:304\n",
      " in require at loading.jl:243\n",
      " in include_string at loading.jl:266\n",
      " in execute_request_0x535c5df2 at C:\\Users\\Vladimir Alencar\\.julia\\v0.4\\IJulia\\src\\execute_request.jl:177\n",
      " in eventloop at C:\\Users\\Vladimir Alencar\\.julia\\v0.4\\IJulia\\src\\IJulia.jl:141\n",
      " in anonymous at task.jl:447\n",
      "while loading C:\\Users\\Vladimir Alencar\\.julia\\v0.4\\Bokeh\\src\\bokehjs.jl, in expression starting on line 21\n",
      "WARNING: Union(args...) is deprecated, use Union{args...} instead.\n",
      " in depwarn at deprecated.jl:73\n",
      " in include at boot.jl:261\n",
      " in include_from_node1 at loading.jl:304\n",
      " in include at boot.jl:261\n",
      " in include_from_node1 at loading.jl:304\n",
      " in require at loading.jl:243\n",
      " in include_string at loading.jl:266\n",
      " in execute_request_0x535c5df2 at C:\\Users\\Vladimir Alencar\\.julia\\v0.4\\IJulia\\src\\execute_request.jl:177\n",
      " in eventloop at C:\\Users\\Vladimir Alencar\\.julia\\v0.4\\IJulia\\src\\IJulia.jl:141\n",
      " in anonymous at task.jl:447\n",
      "while loading C:\\Users\\Vladimir Alencar\\.julia\\v0.4\\Bokeh\\src\\bokehjs.jl, in expression starting on line 22\n",
      "WARNING: Base.Nothing is deprecated, use Void instead.\n",
      "  likely near C:\\Users\\Vladimir Alencar\\.julia\\v0.4\\Bokeh\\src\\bokehjs.jl:24\n",
      "WARNING: Base.String is deprecated, use AbstractString instead.\n",
      "  likely near C:\\Users\\Vladimir Alencar\\.julia\\v0.4\\Bokeh\\src\\bokehjs.jl:24\n",
      "WARNING: Union(args...) is deprecated, use Union{args...} instead.\n",
      " in depwarn at deprecated.jl:73\n",
      " in include at boot.jl:261\n",
      " in include_from_node1 at loading.jl:304\n",
      " in include at boot.jl:261\n",
      " in include_from_node1 at loading.jl:304\n",
      " in require at loading.jl:243\n",
      " in include_string at loading.jl:266\n",
      " in execute_request_0x535c5df2 at C:\\Users\\Vladimir Alencar\\.julia\\v0.4\\IJulia\\src\\execute_request.jl:177\n",
      " in eventloop at C:\\Users\\Vladimir Alencar\\.julia\\v0.4\\IJulia\\src\\IJulia.jl:141\n",
      " in anonymous at task.jl:447\n",
      "while loading C:\\Users\\Vladimir Alencar\\.julia\\v0.4\\Bokeh\\src\\bokehjs.jl, in expression starting on line 24\n",
      "WARNING: Base.String is deprecated, use AbstractString instead.\n",
      "  likely near C:\\Users\\Vladimir Alencar\\.julia\\v0.4\\Bokeh\\src\\bokehjs.jl:25\n",
      "WARNING: Union(args...) is deprecated, use Union{args...} instead.\n",
      " in depwarn at deprecated.jl:73\n",
      " in include at boot.jl:261\n",
      " in include_from_node1 at loading.jl:304\n",
      " in include at boot.jl:261\n",
      " in include_from_node1 at loading.jl:304\n",
      " in require at loading.jl:243\n",
      " in include_string at loading.jl:266\n",
      " in execute_request_0x535c5df2 at C:\\Users\\Vladimir Alencar\\.julia\\v0.4\\IJulia\\src\\execute_request.jl:177\n",
      " in eventloop at C:\\Users\\Vladimir Alencar\\.julia\\v0.4\\IJulia\\src\\IJulia.jl:141\n",
      " in anonymous at task.jl:447\n",
      "while loading C:\\Users\\Vladimir Alencar\\.julia\\v0.4\\Bokeh\\src\\bokehjs.jl, in expression starting on line 25\n",
      "WARNING: Base.Nothing is deprecated, use Void instead.\n",
      "  likely near C:\\Users\\Vladimir Alencar\\.julia\\v0.4\\Bokeh\\src\\bokehjs.jl:27\n",
      "WARNING: Union(args...) is deprecated, use Union{args...} instead.\n",
      " in depwarn at deprecated.jl:73\n",
      " in include at boot.jl:261\n",
      " in include_from_node1 at loading.jl:304\n",
      " in include at boot.jl:261\n",
      " in include_from_node1 at loading.jl:304\n",
      " in require at loading.jl:243\n",
      " in include_string at loading.jl:266\n",
      " in execute_request_0x535c5df2 at C:\\Users\\Vladimir Alencar\\.julia\\v0.4\\IJulia\\src\\execute_request.jl:177\n",
      " in eventloop at C:\\Users\\Vladimir Alencar\\.julia\\v0.4\\IJulia\\src\\IJulia.jl:141\n",
      " in anonymous at task.jl:447\n",
      "while loading C:\\Users\\Vladimir Alencar\\.julia\\v0.4\\Bokeh\\src\\bokehjs.jl, in expression starting on line 27\n",
      "WARNING: Union(args...) is deprecated, use Union{args...} instead.\n",
      " in depwarn at deprecated.jl:73\n",
      " in include at boot.jl:261\n",
      " in include_from_node1 at loading.jl:304\n",
      " in include at boot.jl:261\n",
      " in include_from_node1 at loading.jl:304\n",
      " in require at loading.jl:243\n",
      " in include_string at loading.jl:266\n",
      " in execute_request_0x535c5df2 at C:\\Users\\Vladimir Alencar\\.julia\\v0.4\\IJulia\\src\\execute_request.jl:177\n",
      " in eventloop at C:\\Users\\Vladimir Alencar\\.julia\\v0.4\\IJulia\\src\\IJulia.jl:141\n",
      " in anonymous at task.jl:447\n",
      "while loading C:\\Users\\Vladimir Alencar\\.julia\\v0.4\\Bokeh\\src\\bokehjs.jl, in expression starting on line 28\n",
      "WARNING: Base.Nothing is deprecated, use Void instead.\n",
      "  likely near C:\\Users\\Vladimir Alencar\\.julia\\v0.4\\Bokeh\\src\\bokehjs.jl:30\n",
      "WARNING: Union(args...) is deprecated, use Union{args...} instead.\n",
      " in depwarn at deprecated.jl:73\n",
      " in include at boot.jl:261\n",
      " in include_from_node1 at loading.jl:304\n",
      " in include at boot.jl:261\n",
      " in include_from_node1 at loading.jl:304\n",
      " in require at loading.jl:243\n",
      " in include_string at loading.jl:266\n",
      " in execute_request_0x535c5df2 at C:\\Users\\Vladimir Alencar\\.julia\\v0.4\\IJulia\\src\\execute_request.jl:177\n",
      " in eventloop at C:\\Users\\Vladimir Alencar\\.julia\\v0.4\\IJulia\\src\\IJulia.jl:141\n",
      " in anonymous at task.jl:447\n",
      "while loading C:\\Users\\Vladimir Alencar\\.julia\\v0.4\\Bokeh\\src\\bokehjs.jl, in expression starting on line 30\n",
      "WARNING: Base.Nothing is deprecated, use Void instead.\n",
      "  likely near C:\\Users\\Vladimir Alencar\\.julia\\v0.4\\Bokeh\\src\\bokehjs.jl:32\n",
      "WARNING: Union(args...) is deprecated, use Union{args...} instead.\n",
      " in depwarn at deprecated.jl:73\n",
      " in include at boot.jl:261\n",
      " in include_from_node1 at loading.jl:304\n",
      " in include at boot.jl:261\n",
      " in include_from_node1 at loading.jl:304\n",
      " in require at loading.jl:243\n",
      " in include_string at loading.jl:266\n",
      " in execute_request_0x535c5df2 at C:\\Users\\Vladimir Alencar\\.julia\\v0.4\\IJulia\\src\\execute_request.jl:177\n",
      " in eventloop at C:\\Users\\Vladimir Alencar\\.julia\\v0.4\\IJulia\\src\\IJulia.jl:141\n",
      " in anonymous at task.jl:447\n",
      "while loading C:\\Users\\Vladimir Alencar\\.julia\\v0.4\\Bokeh\\src\\bokehjs.jl, in expression starting on line 32\n",
      "WARNING: Base.Nothing is deprecated, use Void instead.\n",
      "  likely near C:\\Users\\Vladimir Alencar\\.julia\\v0.4\\Bokeh\\src\\bokehjs.jl:41\n",
      "WARNING: Union(args...) is deprecated, use Union{args...} instead.\n",
      " in depwarn at deprecated.jl:73\n",
      " in include at boot.jl:261\n",
      " in include_from_node1 at loading.jl:304\n",
      " in include at boot.jl:261\n",
      " in include_from_node1 at loading.jl:304\n",
      " in require at loading.jl:243\n",
      " in include_string at loading.jl:266\n",
      " in execute_request_0x535c5df2 at C:\\Users\\Vladimir Alencar\\.julia\\v0.4\\IJulia\\src\\execute_request.jl:177\n",
      " in eventloop at C:\\Users\\Vladimir Alencar\\.julia\\v0.4\\IJulia\\src\\IJulia.jl:141\n",
      " in anonymous at task.jl:447\n",
      "while loading C:\\Users\\Vladimir Alencar\\.julia\\v0.4\\Bokeh\\src\\bokehjs.jl, in expression starting on line 41\n",
      "WARNING: Base.Nothing is deprecated, use Void instead.\n",
      "  likely near C:\\Users\\Vladimir Alencar\\.julia\\v0.4\\Bokeh\\src\\bokehjs.jl:47\n",
      "WARNING: Union(args...) is deprecated, use Union{args...} instead.\n",
      " in depwarn at deprecated.jl:73\n",
      " in include at boot.jl:261\n",
      " in include_from_node1 at loading.jl:304\n",
      " in include at boot.jl:261\n",
      " in include_from_node1 at loading.jl:304\n",
      " in require at loading.jl:243\n",
      " in include_string at loading.jl:266\n",
      " in execute_request_0x535c5df2 at C:\\Users\\Vladimir Alencar\\.julia\\v0.4\\IJulia\\src\\execute_request.jl:177\n",
      " in eventloop at C:\\Users\\Vladimir Alencar\\.julia\\v0.4\\IJulia\\src\\IJulia.jl:141\n",
      " in anonymous at task.jl:447\n",
      "while loading C:\\Users\\Vladimir Alencar\\.julia\\v0.4\\Bokeh\\src\\bokehjs.jl, in expression starting on line 47\n",
      "WARNING: Base.Nothing is deprecated, use Void instead.\n",
      "  likely near C:\\Users\\Vladimir Alencar\\.julia\\v0.4\\Bokeh\\src\\bokehjs.jl:47\n",
      "WARNING: Union(args...) is deprecated, use Union{args...} instead.\n",
      " in depwarn at deprecated.jl:73\n",
      " in include at boot.jl:261\n",
      " in include_from_node1 at loading.jl:304\n",
      " in include at boot.jl:261\n",
      " in include_from_node1 at loading.jl:304\n",
      " in require at loading.jl:243\n",
      " in include_string at loading.jl:266\n",
      " in execute_request_0x535c5df2 at C:\\Users\\Vladimir Alencar\\.julia\\v0.4\\IJulia\\src\\execute_request.jl:177\n",
      " in eventloop at C:\\Users\\Vladimir Alencar\\.julia\\v0.4\\IJulia\\src\\IJulia.jl:141\n",
      " in anonymous at task.jl:447\n",
      "while loading C:\\Users\\Vladimir Alencar\\.julia\\v0.4\\Bokeh\\src\\bokehjs.jl, in expression starting on line 47\n",
      "WARNING: Base.String is deprecated, use AbstractString instead.\n",
      "  likely near C:\\Users\\Vladimir Alencar\\.julia\\v0.4\\Bokeh\\src\\bokehjs.jl:55\n",
      "WARNING: Base.String is deprecated, use AbstractString instead.\n",
      "  likely near C:\\Users\\Vladimir Alencar\\.julia\\v0.4\\Bokeh\\src\\bokehjs.jl:55\n",
      "WARNING: Base.String is deprecated, use AbstractString instead.\n",
      "  likely near C:\\Users\\Vladimir Alencar\\.julia\\v0.4\\Bokeh\\src\\bokehjs.jl:95\n",
      "WARNING: Base.String is deprecated, use AbstractString instead.\n",
      "  likely near C:\\Users\\Vladimir Alencar\\.julia\\v0.4\\Bokeh\\src\\bokehjs.jl:120\n",
      "WARNING: Base.String is deprecated, use AbstractString instead.\n",
      "  likely near C:\\Users\\Vladimir Alencar\\.julia\\v0.4\\Bokeh\\src\\bokehjs.jl:120\n",
      "WARNING: Base.String is deprecated, use AbstractString instead.\n",
      "  likely near C:\\Users\\Vladimir Alencar\\.julia\\v0.4\\Bokeh\\src\\bokehjs.jl:120\n",
      "WARNING: Base.String is deprecated, use AbstractString instead.\n",
      "  likely near C:\\Users\\Vladimir Alencar\\.julia\\v0.4\\Bokeh\\src\\bokehjs.jl:120\n",
      "WARNING: Union(args...) is deprecated, use Union{args...} instead.\n",
      " in depwarn at deprecated.jl:73\n",
      " in include at boot.jl:261\n",
      " in include_from_node1 at loading.jl:304\n",
      " in include at boot.jl:261\n",
      " in include_from_node1 at loading.jl:304\n",
      " in require at loading.jl:243\n",
      " in include_string at loading.jl:266\n",
      " in execute_request_0x535c5df2 at C:\\Users\\Vladimir Alencar\\.julia\\v0.4\\IJulia\\src\\execute_request.jl:177\n",
      " in eventloop at C:\\Users\\Vladimir Alencar\\.julia\\v0.4\\IJulia\\src\\IJulia.jl:141\n",
      " in anonymous at task.jl:447\n",
      "while loading C:\\Users\\Vladimir Alencar\\.julia\\v0.4\\Bokeh\\src\\bokehjs.jl, in expression starting on line 173\n",
      "WARNING: Union(args...) is deprecated, use Union{args...} instead.\n",
      " in depwarn at deprecated.jl:73\n",
      " in include at boot.jl:261\n",
      " in include_from_node1 at loading.jl:304\n",
      " in include at boot.jl:261\n",
      " in include_from_node1 at loading.jl:304\n",
      " in require at loading.jl:243\n",
      " in include_string at loading.jl:266\n",
      " in execute_request_0x535c5df2 at C:\\Users\\Vladimir Alencar\\.julia\\v0.4\\IJulia\\src\\execute_request.jl:177\n",
      " in eventloop at C:\\Users\\Vladimir Alencar\\.julia\\v0.4\\IJulia\\src\\IJulia.jl:141\n",
      " in anonymous at task.jl:447\n",
      "while loading C:\\Users\\Vladimir Alencar\\.julia\\v0.4\\Bokeh\\src\\bokehjs.jl, in expression starting on line 173\n",
      "WARNING: Base.Nothing is deprecated, use Void instead.\n",
      "  likely near C:\\Users\\Vladimir Alencar\\.julia\\v0.4\\Bokeh\\src\\bokehjs.jl:187\n",
      "WARNING: Base.String is deprecated, use AbstractString instead.\n",
      "  likely near C:\\Users\\Vladimir Alencar\\.julia\\v0.4\\Bokeh\\src\\bokehjs.jl:187\n",
      "WARNING: Union(args...) is deprecated, use Union{args...} instead.\n",
      " in depwarn at deprecated.jl:73\n",
      " in include at boot.jl:261\n",
      " in include_from_node1 at loading.jl:304\n",
      " in include at boot.jl:261\n",
      " in include_from_node1 at loading.jl:304\n",
      " in require at loading.jl:243\n",
      " in include_string at loading.jl:266\n",
      " in execute_request_0x535c5df2 at C:\\Users\\Vladimir Alencar\\.julia\\v0.4\\IJulia\\src\\execute_request.jl:177\n",
      " in eventloop at C:\\Users\\Vladimir Alencar\\.julia\\v0.4\\IJulia\\src\\IJulia.jl:141\n",
      " in anonymous at task.jl:447\n",
      "while loading C:\\Users\\Vladimir Alencar\\.julia\\v0.4\\Bokeh\\src\\bokehjs.jl, in expression starting on line 187\n",
      "WARNING: Base.Nothing is deprecated, use Void instead.\n",
      "  likely near C:\\Users\\Vladimir Alencar\\.julia\\v0.4\\Bokeh\\src\\bokehjs.jl:187\n",
      "WARNING: Base.String is deprecated, use AbstractString instead.\n",
      "  likely near C:\\Users\\Vladimir Alencar\\.julia\\v0.4\\Bokeh\\src\\bokehjs.jl:187\n",
      "WARNING: Union(args...) is deprecated, use Union{args...} instead.\n",
      " in depwarn at deprecated.jl:73\n",
      " in include at boot.jl:261\n",
      " in include_from_node1 at loading.jl:304\n",
      " in include at boot.jl:261\n",
      " in include_from_node1 at loading.jl:304\n",
      " in require at loading.jl:243\n",
      " in include_string at loading.jl:266\n",
      " in execute_request_0x535c5df2 at C:\\Users\\Vladimir Alencar\\.julia\\v0.4\\IJulia\\src\\execute_request.jl:177\n",
      " in eventloop at C:\\Users\\Vladimir Alencar\\.julia\\v0.4\\IJulia\\src\\IJulia.jl:141\n",
      " in anonymous at task.jl:447\n",
      "while loading C:\\Users\\Vladimir Alencar\\.julia\\v0.4\\Bokeh\\src\\bokehjs.jl, in expression starting on line 187\n",
      "WARNING: Base.Nothing is deprecated, use Void instead.\n",
      "  likely near C:\\Users\\Vladimir Alencar\\.julia\\v0.4\\Bokeh\\src\\bokehjs.jl:197\n",
      "WARNING: Union(args...) is deprecated, use Union{args...} instead.\n",
      " in depwarn at deprecated.jl:73\n",
      " in include at boot.jl:261\n",
      " in include_from_node1 at loading.jl:304\n",
      " in include at boot.jl:261\n",
      " in include_from_node1 at loading.jl:304\n",
      " in require at loading.jl:243\n",
      " in include_string at loading.jl:266\n",
      " in execute_request_0x535c5df2 at C:\\Users\\Vladimir Alencar\\.julia\\v0.4\\IJulia\\src\\execute_request.jl:177\n",
      " in eventloop at C:\\Users\\Vladimir Alencar\\.julia\\v0.4\\IJulia\\src\\IJulia.jl:141\n",
      " in anonymous at task.jl:447\n",
      "while loading C:\\Users\\Vladimir Alencar\\.julia\\v0.4\\Bokeh\\src\\bokehjs.jl, in expression starting on line 197\n",
      "WARNING: Base.String is deprecated, use AbstractString instead.\n",
      "  likely near C:\\Users\\Vladimir Alencar\\.julia\\v0.4\\Bokeh\\src\\bokehjs.jl:210\n",
      "WARNING: Base.String is deprecated, use AbstractString instead.\n",
      "  likely near C:\\Users\\Vladimir Alencar\\.julia\\v0.4\\Bokeh\\src\\bokehjs.jl:210\n",
      "WARNING: Base.Nothing is deprecated, use Void instead.\n",
      "  likely near C:\\Users\\Vladimir Alencar\\.julia\\v0.4\\Bokeh\\src\\bokehjs.jl:210\n",
      "WARNING: Union(args...) is deprecated, use Union{args...} instead.\n",
      " in depwarn at deprecated.jl:73\n",
      " in include at boot.jl:261\n",
      " in include_from_node1 at loading.jl:304\n",
      " in include at boot.jl:261\n",
      " in include_from_node1 at loading.jl:304\n",
      " in require at loading.jl:243\n",
      " in include_string at loading.jl:266\n",
      " in execute_request_0x535c5df2 at C:\\Users\\Vladimir Alencar\\.julia\\v0.4\\IJulia\\src\\execute_request.jl:177\n",
      " in eventloop at C:\\Users\\Vladimir Alencar\\.julia\\v0.4\\IJulia\\src\\IJulia.jl:141\n",
      " in anonymous at task.jl:447\n",
      "while loading C:\\Users\\Vladimir Alencar\\.julia\\v0.4\\Bokeh\\src\\bokehjs.jl, in expression starting on line 210\n",
      "WARNING: Base.String is deprecated, use AbstractString instead.\n",
      "  likely near C:\\Users\\Vladimir Alencar\\.julia\\v0.4\\Bokeh\\src\\bokehjs.jl:210\n",
      "WARNING: Base.String is deprecated, use AbstractString instead.\n",
      "  likely near C:\\Users\\Vladimir Alencar\\.julia\\v0.4\\Bokeh\\src\\bokehjs.jl:210\n",
      "WARNING: Base.Nothing is deprecated, use Void instead.\n",
      "  likely near C:\\Users\\Vladimir Alencar\\.julia\\v0.4\\Bokeh\\src\\bokehjs.jl:210\n",
      "WARNING: Union(args...) is deprecated, use Union{args...} instead.\n",
      " in depwarn at deprecated.jl:73\n",
      " in include at boot.jl:261\n",
      " in include_from_node1 at loading.jl:304\n",
      " in include at boot.jl:261\n",
      " in include_from_node1 at loading.jl:304\n",
      " in require at loading.jl:243\n",
      " in include_string at loading.jl:266\n",
      " in execute_request_0x535c5df2 at C:\\Users\\Vladimir Alencar\\.julia\\v0.4\\IJulia\\src\\execute_request.jl:177\n",
      " in eventloop at C:\\Users\\Vladimir Alencar\\.julia\\v0.4\\IJulia\\src\\IJulia.jl:141\n",
      " in anonymous at task.jl:447\n",
      "while loading C:\\Users\\Vladimir Alencar\\.julia\\v0.4\\Bokeh\\src\\bokehjs.jl, in expression starting on line 210\n",
      "WARNING: Base.String is deprecated, use AbstractString instead.\n",
      "  likely near C:\\Users\\Vladimir Alencar\\.julia\\v0.4\\Bokeh\\src\\bokehjs.jl:217\n",
      "WARNING: Base.String is deprecated, use AbstractString instead.\n",
      "  likely near C:\\Users\\Vladimir Alencar\\.julia\\v0.4\\Bokeh\\src\\bokehjs.jl:222\n",
      "WARNING: Base.String is deprecated, use AbstractString instead.\n",
      "  likely near C:\\Users\\Vladimir Alencar\\.julia\\v0.4\\Bokeh\\src\\bokehjs.jl:246\n",
      "WARNING: Base.String is deprecated, use AbstractString instead.\n",
      "  likely near C:\\Users\\Vladimir Alencar\\.julia\\v0.4\\Bokeh\\src\\bokehjs.jl:246\n",
      "WARNING: Base.String is deprecated, use AbstractString instead.\n",
      "  likely near C:\\Users\\Vladimir Alencar\\.julia\\v0.4\\Bokeh\\src\\bokehjs.jl:246\n",
      "WARNING: Base.Nothing is deprecated, use Void instead.\n",
      "  likely near C:\\Users\\Vladimir Alencar\\.julia\\v0.4\\Bokeh\\src\\glyphs.jl:5\n",
      "WARNING: Union(args...) is deprecated, use Union{args...} instead.\n",
      " in depwarn at deprecated.jl:73\n",
      " in include at boot.jl:261\n",
      " in include_from_node1 at loading.jl:304\n",
      " in include at boot.jl:261\n",
      " in include_from_node1 at loading.jl:304\n",
      " in require at loading.jl:243\n",
      " in include_string at loading.jl:266\n",
      " in execute_request_0x535c5df2 at C:\\Users\\Vladimir Alencar\\.julia\\v0.4\\IJulia\\src\\execute_request.jl:177\n",
      " in eventloop at C:\\Users\\Vladimir Alencar\\.julia\\v0.4\\IJulia\\src\\IJulia.jl:141\n",
      " in anonymous at task.jl:447\n",
      "while loading C:\\Users\\Vladimir Alencar\\.julia\\v0.4\\Bokeh\\src\\glyphs.jl, in expression starting on line 5\n",
      "WARNING: Base.Nothing is deprecated, use Void instead.\n",
      "  likely near C:\\Users\\Vladimir Alencar\\.julia\\v0.4\\Bokeh\\src\\glyphs.jl:5\n",
      "WARNING: Union(args...) is deprecated, use Union{args...} instead.\n",
      " in depwarn at deprecated.jl:73\n",
      " in include at boot.jl:261\n",
      " in include_from_node1 at loading.jl:304\n",
      " in include at boot.jl:261\n",
      " in include_from_node1 at loading.jl:304\n",
      " in require at loading.jl:243\n",
      " in include_string at loading.jl:266\n",
      " in execute_request_0x535c5df2 at C:\\Users\\Vladimir Alencar\\.julia\\v0.4\\IJulia\\src\\execute_request.jl:177\n",
      " in eventloop at C:\\Users\\Vladimir Alencar\\.julia\\v0.4\\IJulia\\src\\IJulia.jl:141\n",
      " in anonymous at task.jl:447\n",
      "while loading C:\\Users\\Vladimir Alencar\\.julia\\v0.4\\Bokeh\\src\\glyphs.jl, in expression starting on line 5\n",
      "WARNING: Base.String is deprecated, use AbstractString instead.\n",
      "  likely near C:\\Users\\Vladimir Alencar\\.julia\\v0.4\\Bokeh\\src\\glyphs.jl:80\n",
      "WARNING: Base.String is deprecated, use AbstractString instead.\n",
      "  likely near C:\\Users\\Vladimir Alencar\\.julia\\v0.4\\Bokeh\\src\\glyphs.jl:80\n",
      "WARNING: Base.String is deprecated, use AbstractString instead.\n",
      "  likely near C:\\Users\\Vladimir Alencar\\.julia\\v0.4\\Bokeh\\src\\glyphs.jl:80\n",
      "WARNING: Base.String is deprecated, use AbstractString instead.\n",
      "  likely near C:\\Users\\Vladimir Alencar\\.julia\\v0.4\\Bokeh\\src\\glyphs.jl:80\n",
      "WARNING: Base.String is deprecated, use AbstractString instead.\n",
      "  likely near C:\\Users\\Vladimir Alencar\\.julia\\v0.4\\Bokeh\\src\\glyphs.jl:132\n",
      "WARNING: Base.String is deprecated, use AbstractString instead.\n",
      "  likely near C:\\Users\\Vladimir Alencar\\.julia\\v0.4\\Bokeh\\src\\glyphs.jl:136\n",
      "WARNING: Base.String is deprecated, use AbstractString instead.\n",
      "  likely near C:\\Users\\Vladimir Alencar\\.julia\\v0.4\\Bokeh\\src\\display.jl:1\n",
      "WARNING: Base.String is deprecated, use AbstractString instead.\n",
      "  likely near C:\\Users\\Vladimir Alencar\\.julia\\v0.4\\Bokeh\\src\\display.jl:38\n",
      "WARNING: Base.String is deprecated, use AbstractString instead.\n",
      "  likely near C:\\Users\\Vladimir Alencar\\.julia\\v0.4\\Bokeh\\src\\generate.jl:148\n",
      "WARNING: Base.String is deprecated, use AbstractString instead.\n",
      "  likely near C:\\Users\\Vladimir Alencar\\.julia\\v0.4\\Bokeh\\src\\generate.jl:148\n",
      "WARNING: Base.String is deprecated, use AbstractString instead.\n",
      "  likely near C:\\Users\\Vladimir Alencar\\.julia\\v0.4\\Bokeh\\src\\generate.jl:148\n",
      "WARNING: Base.Nothing is deprecated, use Void instead.\n",
      "  likely near C:\\Users\\Vladimir Alencar\\.julia\\v0.4\\Bokeh\\src\\generate.jl:148\n",
      "WARNING: Union(args...) is deprecated, use Union{args...} instead.\n",
      " in depwarn at deprecated.jl:73\n",
      " in include at boot.jl:261\n",
      " in include_from_node1 at loading.jl:304\n",
      " in include at boot.jl:261\n",
      " in include_from_node1 at loading.jl:304\n",
      " in require at loading.jl:243\n",
      " in include_string at loading.jl:266\n",
      " in execute_request_0x535c5df2 at C:\\Users\\Vladimir Alencar\\.julia\\v0.4\\IJulia\\src\\execute_request.jl:177\n",
      " in eventloop at C:\\Users\\Vladimir Alencar\\.julia\\v0.4\\IJulia\\src\\IJulia.jl:141\n",
      " in anonymous at task.jl:447\n",
      "while loading C:\\Users\\Vladimir Alencar\\.julia\\v0.4\\Bokeh\\src\\generate.jl, in expression starting on line 148\n",
      "WARNING: Base.String is deprecated, use AbstractString instead.\n",
      "  likely near C:\\Users\\Vladimir Alencar\\.julia\\v0.4\\Bokeh\\src\\generate.jl:161\n",
      "WARNING: Base.String is deprecated, use AbstractString instead.\n",
      "  likely near C:\\Users\\Vladimir Alencar\\.julia\\v0.4\\Bokeh\\src\\generate.jl:161\n",
      "WARNING: Base.String is deprecated, use AbstractString instead.\n",
      "  likely near C:\\Users\\Vladimir Alencar\\.julia\\v0.4\\Bokeh\\src\\generate.jl:172\n",
      "WARNING: Base.String is deprecated, use AbstractString instead.\n",
      "  likely near C:\\Users\\Vladimir Alencar\\.julia\\v0.4\\Bokeh\\src\\generate.jl:221\n",
      "WARNING: Union(args...) is deprecated, use Union{args...} instead.\n",
      " in depwarn at deprecated.jl:73\n",
      " in include at boot.jl:261\n",
      " in include_from_node1 at loading.jl:304\n",
      " in include at boot.jl:261\n",
      " in include_from_node1 at loading.jl:304\n",
      " in require at loading.jl:243\n",
      " in include_string at loading.jl:266\n",
      " in execute_request_0x535c5df2 at C:\\Users\\Vladimir Alencar\\.julia\\v0.4\\IJulia\\src\\execute_request.jl:177\n",
      " in eventloop at C:\\Users\\Vladimir Alencar\\.julia\\v0.4\\IJulia\\src\\IJulia.jl:141\n",
      " in anonymous at task.jl:447\n",
      "while loading C:\\Users\\Vladimir Alencar\\.julia\\v0.4\\Bokeh\\src\\plot.jl, in expression starting on line 7\n",
      "WARNING: Union(args...) is deprecated, use Union{args...} instead.\n",
      " in depwarn at deprecated.jl:73\n",
      " in include at boot.jl:261\n",
      " in include_from_node1 at loading.jl:304\n",
      " in include at boot.jl:261\n",
      " in include_from_node1 at loading.jl:304\n",
      " in require at loading.jl:243\n",
      " in include_string at loading.jl:266\n",
      " in execute_request_0x535c5df2 at C:\\Users\\Vladimir Alencar\\.julia\\v0.4\\IJulia\\src\\execute_request.jl:177\n",
      " in eventloop at C:\\Users\\Vladimir Alencar\\.julia\\v0.4\\IJulia\\src\\IJulia.jl:141\n",
      " in anonymous at task.jl:447\n",
      "while loading C:\\Users\\Vladimir Alencar\\.julia\\v0.4\\Bokeh\\src\\plot.jl, in expression starting on line 7\n",
      "WARNING: Union(args...) is deprecated, use Union{args...} instead.\n",
      " in depwarn at deprecated.jl:73\n",
      " in include at boot.jl:261\n",
      " in include_from_node1 at loading.jl:304\n",
      " in include at boot.jl:261\n",
      " in include_from_node1 at loading.jl:304\n",
      " in require at loading.jl:243\n",
      " in include_string at loading.jl:266\n",
      " in execute_request_0x535c5df2 at C:\\Users\\Vladimir Alencar\\.julia\\v0.4\\IJulia\\src\\execute_request.jl:177\n",
      " in eventloop at C:\\Users\\Vladimir Alencar\\.julia\\v0.4\\IJulia\\src\\IJulia.jl:141\n",
      " in anonymous at task.jl:447\n",
      "while loading C:\\Users\\Vladimir Alencar\\.julia\\v0.4\\Bokeh\\src\\plot.jl, in expression starting on line 9\n",
      "WARNING: Base.String is deprecated, use AbstractString instead.\n",
      "  likely near C:\\Users\\Vladimir Alencar\\.julia\\v0.4\\Bokeh\\src\\plot.jl:11\n",
      "WARNING: Union(args...) is deprecated, use Union{args...} instead.\n",
      " in depwarn at deprecated.jl:73\n",
      " in include at boot.jl:261\n",
      " in include_from_node1 at loading.jl:304\n",
      " in include at boot.jl:261\n",
      " in include_from_node1 at loading.jl:304\n",
      " in require at loading.jl:243\n",
      " in include_string at loading.jl:266\n",
      " in execute_request_0x535c5df2 at C:\\Users\\Vladimir Alencar\\.julia\\v0.4\\IJulia\\src\\execute_request.jl:177\n",
      " in eventloop at C:\\Users\\Vladimir Alencar\\.julia\\v0.4\\IJulia\\src\\IJulia.jl:141\n",
      " in anonymous at task.jl:447\n",
      "while loading C:\\Users\\Vladimir Alencar\\.julia\\v0.4\\Bokeh\\src\\plot.jl, in expression starting on line 11\n",
      "WARNING: Base.String is deprecated, use "
     ]
    },
    {
     "ename": "LoadError",
     "evalue": "LoadError: LoadError: MethodError: `convert` has no method matching convert(::Type{Bokeh.Bokehjs.Glyph}, ::Symbol, ::ASCIIString, ::Int32, ::Float64, ::Void, ::Void, ::Void, ::Array{Int32,1}, ::Void)\nThis may have arisen from a call to the constructor Bokeh.Bokehjs.Glyph(...),\nsince type constructors fall back to convert methods.\nClosest candidates are:\n  Bokeh.Bokehjs.Glyph(::Any, ::Any, ::Any, ::Any, ::Any, ::Any, ::Any, ::Any, ::Any, !Matched::Any, !Matched::Any)\n  Bokeh.Bokehjs.Glyph(::Symbol, ::Union{AbstractString,Void}, ::Union{Int32,Void}, ::Union{Float64,Void}, ::Union{AbstractString,Void}, ::Union{Float64,Void}, ::Union{Int32,Void}, !Matched::Union{Array{Int64,1},Void}, ::Union{Dict{Symbol,Symbol},Void})\n  Bokeh.Bokehjs.Glyph(::Symbol)\n  ...\nwhile loading C:\\Users\\Vladimir Alencar\\.julia\\v0.4\\Bokeh\\src\\Bokeh.jl, in expression starting on line 34\nwhile loading In[2], in expression starting on line 1",
     "output_type": "error",
     "traceback": [
      "LoadError: LoadError: MethodError: `convert` has no method matching convert(::Type{Bokeh.Bokehjs.Glyph}, ::Symbol, ::ASCIIString, ::Int32, ::Float64, ::Void, ::Void, ::Void, ::Array{Int32,1}, ::Void)\nThis may have arisen from a call to the constructor Bokeh.Bokehjs.Glyph(...),\nsince type constructors fall back to convert methods.\nClosest candidates are:\n  Bokeh.Bokehjs.Glyph(::Any, ::Any, ::Any, ::Any, ::Any, ::Any, ::Any, ::Any, ::Any, !Matched::Any, !Matched::Any)\n  Bokeh.Bokehjs.Glyph(::Symbol, ::Union{AbstractString,Void}, ::Union{Int32,Void}, ::Union{Float64,Void}, ::Union{AbstractString,Void}, ::Union{Float64,Void}, ::Union{Int32,Void}, !Matched::Union{Array{Int64,1},Void}, ::Union{Dict{Symbol,Symbol},Void})\n  Bokeh.Bokehjs.Glyph(::Symbol)\n  ...\nwhile loading C:\\Users\\Vladimir Alencar\\.julia\\v0.4\\Bokeh\\src\\Bokeh.jl, in expression starting on line 34\nwhile loading In[2], in expression starting on line 1",
      "",
      " in call at essentials.jl:57",
      " in convert at C:\\Users\\Vladimir Alencar\\.julia\\v0.4\\Bokeh\\src\\glyphs.jl:173",
      " in anonymous at C:\\Users\\Vladimir Alencar\\.julia\\v0.4\\Bokeh\\src\\glyphs.jl:133",
      " in map_to! at abstractarray.jl:1286",
      " in anonymous at C:\\Users\\Vladimir Alencar\\.julia\\v0.4\\Bokeh\\src\\glyphs.jl:133",
      " in map at abstractarray.jl:1308",
      " in convert at C:\\Users\\Vladimir Alencar\\.julia\\v0.4\\Bokeh\\src\\glyphs.jl:133",
      " in include at boot.jl:261",
      " in include_from_node1 at loading.jl:304",
      " in require at loading.jl:243"
     ]
    }
   ],
   "source": [
    "using RDatasets, DataFrames, Bokeh, GLM"
   ]
  },
  {
   "cell_type": "code",
   "execution_count": 3,
   "metadata": {
    "collapsed": false
   },
   "outputs": [
    {
     "data": {
      "text/html": [
       "<table class=\"data-frame\"><tr><th></th><th>Number</th><th>Name</th><th>AtomicWeight</th><th>Symbol</th><th>Discovered</th></tr><tr><th>1</th><td>1</td><td>Hydrogen</td><td>1.0079</td><td>H</td><td>1776</td></tr><tr><th>2</th><td>2</td><td>Helium</td><td>4.0026</td><td>He</td><td>1895</td></tr><tr><th>3</th><td>6</td><td>Carbon</td><td>12.0107</td><td>C</td><td>0</td></tr><tr><th>4</th><td>8</td><td>Oxygen</td><td>15.9994</td><td>O</td><td>1774</td></tr><tr><th>5</th><td>26</td><td>Iron</td><td>55.845</td><td>Fe</td><td>NA</td></tr></table>"
      ],
      "text/plain": [
       "5x5 DataFrames.DataFrame\n",
       "| Row | Number | Name       | AtomicWeight | Symbol | Discovered |\n",
       "|-----|--------|------------|--------------|--------|------------|\n",
       "| 1   | 1      | \"Hydrogen\" | 1.0079       | \"H\"    | 1776       |\n",
       "| 2   | 2      | \"Helium\"   | 4.0026       | \"He\"   | 1895       |\n",
       "| 3   | 6      | \"Carbon\"   | 12.0107      | \"C\"    | 0          |\n",
       "| 4   | 8      | \"Oxygen\"   | 15.9994      | \"O\"    | 1774       |\n",
       "| 5   | 26     | \"Iron\"     | 55.845       | \"Fe\"   | NA         |"
      ]
     },
     "execution_count": 3,
     "metadata": {},
     "output_type": "execute_result"
    },
    {
     "name": "stderr",
     "output_type": "stream",
     "text": [
      "AbstractString instead.\n",
      "  likely near C:\\Users\\Vladimir Alencar\\.julia\\v0.4\\Bokeh\\src\\plot.jl:19\n",
      "WARNING: Base.Nothing is deprecated, use Void instead.\n",
      "  likely near C:\\Users\\Vladimir Alencar\\.julia\\v0.4\\Bokeh\\src\\plot.jl:98\n",
      "WARNING: Union(args...) is deprecated, use Union{args...} instead.\n",
      " in depwarn at deprecated.jl:73\n",
      " in include at boot.jl:261\n",
      " in include_from_node1 at loading.jl:304\n",
      " in include at boot.jl:261\n",
      " in include_from_node1 at loading.jl:304\n",
      " in require at loading.jl:243\n",
      " in include_string at loading.jl:266\n",
      " in execute_request_0x535c5df2 at C:\\Users\\Vladimir Alencar\\.julia\\v0.4\\IJulia\\src\\execute_request.jl:177\n",
      " in eventloop at C:\\Users\\Vladimir Alencar\\.julia\\v0.4\\IJulia\\src\\IJulia.jl:141\n",
      " in anonymous at task.jl:447\n",
      "while loading C:\\Users\\Vladimir Alencar\\.julia\\v0.4\\Bokeh\\src\\plot.jl, in expression starting on line 98\n",
      "WARNING: Base.Nothing is deprecated, use Void instead.\n",
      "  likely near C:\\Users\\Vladimir Alencar\\.julia\\v0.4\\Bokeh\\src\\plot.jl:111\n",
      "WARNING: Union(args...) is deprecated, use Union{args...} instead.\n",
      " in depwarn at deprecated.jl:73\n",
      " in include at boot.jl:261\n",
      " in include_from_node1 at loading.jl:304\n",
      " in include at boot.jl:261\n",
      " in include_from_node1 at loading.jl:304\n",
      " in require at loading.jl:243\n",
      " in include_string at loading.jl:266\n",
      " in execute_request_0x535c5df2 at C:\\Users\\Vladimir Alencar\\.julia\\v0.4\\IJulia\\src\\execute_request.jl:177\n",
      " in eventloop at C:\\Users\\Vladimir Alencar\\.julia\\v0.4\\IJulia\\src\\IJulia.jl:141\n",
      " in anonymous at task.jl:447\n",
      "while loading C:\\Users\\Vladimir Alencar\\.julia\\v0.4\\Bokeh\\src\\plot.jl, in expression starting on line 111\n",
      "WARNING: Base.Nothing is deprecated, use Void instead.\n",
      "  likely near C:\\Users\\Vladimir Alencar\\.julia\\v0.4\\Bokeh\\src\\plot.jl:111\n",
      "WARNING: Union(args...) is deprecated, use Union{args...} instead.\n",
      " in depwarn at deprecated.jl:73\n",
      " in include at boot.jl:261\n",
      " in include_from_node1 at loading.jl:304\n",
      " in include at boot.jl:261\n",
      " in include_from_node1 at loading.jl:304\n",
      " in require at loading.jl:243\n",
      " in include_string at loading.jl:266\n",
      " in execute_request_0x535c5df2 at C:\\Users\\Vladimir Alencar\\.julia\\v0.4\\IJulia\\src\\execute_request.jl:177\n",
      " in eventloop at C:\\Users\\Vladimir Alencar\\.julia\\v0.4\\IJulia\\src\\IJulia.jl:141\n",
      " in anonymous at task.jl:447\n",
      "while loading C:\\Users\\Vladimir Alencar\\.julia\\v0.4\\Bokeh\\src\\plot.jl, in expression starting on line 111\n"
     ]
    }
   ],
   "source": [
    "ptable = DataFrame(  Number       =   @data([1,   2,    6,    8,    26    ]),\n",
    "                     Name         =   @data([\"Hydrogen\",   \"Helium\",   \"Carbon\",   \"Oxygen\",   \"Iron\"   ]),\n",
    "                     AtomicWeight =   @data([1.0079,    4.0026,  12.0107, 15.9994, 55.845   ]),\n",
    "                     Symbol       =   @data([\"H\",    \"He\",    \"C\",    \"O\",  \"Fe\"  ]),\n",
    "                     Discovered   =   @data([1776,   1895,    0,    1774,    NA    ])\n",
    ")"
   ]
  },
  {
   "cell_type": "code",
   "execution_count": 5,
   "metadata": {
    "collapsed": false
   },
   "outputs": [
    {
     "ename": "LoadError",
     "evalue": "LoadError: SystemError: opening file file.tsv: No such file or directory\nwhile loading In[5], in expression starting on line 1",
     "output_type": "error",
     "traceback": [
      "LoadError: SystemError: opening file file.tsv: No such file or directory\nwhile loading In[5], in expression starting on line 1",
      "",
      " in open at iostream.jl:90",
      " in startswith at strings/util.jl:34"
     ]
    }
   ],
   "source": [
    "pt1 = readtable(\"file.tsv\", nastrings=[\"NA\", \"na\", \"n/a\", \"missing\"])"
   ]
  },
  {
   "cell_type": "code",
   "execution_count": 4,
   "metadata": {
    "collapsed": false
   },
   "outputs": [
    {
     "name": "stdout",
     "output_type": "stream",
     "text": [
      "5x5 DataFrames.DataFrame\n",
      "| Col # | Name         | Eltype      | Missing |\n",
      "|-------|--------------|-------------|---------|\n",
      "| 1     | Number       | Int32       | 0       |\n",
      "| 2     | Name         | ASCIIString | 0       |\n",
      "| 3     | AtomicWeight | Float64     | 0       |\n",
      "| 4     | Symbol       | ASCIIString | 0       |\n",
      "| 5     | Discovered   | Int32       | 1       |"
     ]
    }
   ],
   "source": [
    "showcols(ptable)"
   ]
  },
  {
   "cell_type": "code",
   "execution_count": 6,
   "metadata": {
    "collapsed": false
   },
   "outputs": [
    {
     "data": {
      "text/plain": [
       "17.77312"
      ]
     },
     "execution_count": 6,
     "metadata": {},
     "output_type": "execute_result"
    }
   ],
   "source": [
    "mean(ptable[:AtomicWeight])"
   ]
  },
  {
   "cell_type": "code",
   "execution_count": 7,
   "metadata": {
    "collapsed": false
   },
   "outputs": [
    {
     "data": {
      "text/plain": [
       "NA"
      ]
     },
     "execution_count": 7,
     "metadata": {},
     "output_type": "execute_result"
    }
   ],
   "source": [
    "mean(ptable[:Discovered])"
   ]
  },
  {
   "cell_type": "code",
   "execution_count": 8,
   "metadata": {
    "collapsed": false
   },
   "outputs": [
    {
     "name": "stdout",
     "output_type": "stream",
     "text": [
      "Discovered value for Iron is NA\n"
     ]
    }
   ],
   "source": [
    "nrows, ncols = size(ptable)\n",
    "for row in 1:nrows\n",
    "     for col in 1:ncols\n",
    "       if  isna(ptable[row,col])\n",
    "        println(\"$(names(ptable)[col]) value for $(ptable[row,:Name]) is NA\")\n",
    "       end\n",
    "     end\n",
    "end"
   ]
  },
  {
   "cell_type": "code",
   "execution_count": 9,
   "metadata": {
    "collapsed": false
   },
   "outputs": [
    {
     "name": "stdout",
     "output_type": "stream",
     "text": [
      "it's zero"
     ]
    },
    {
     "ename": "LoadError",
     "evalue": "LoadError: TypeError: non-boolean (DataArrays.NAtype) used in boolean context\nwhile loading In[9], in expression starting on line 1",
     "output_type": "error",
     "traceback": [
      "LoadError: TypeError: non-boolean (DataArrays.NAtype) used in boolean context\nwhile loading In[9], in expression starting on line 1",
      "",
      " in anonymous at no file"
     ]
    },
    {
     "name": "stdout",
     "output_type": "stream",
     "text": [
      "\n"
     ]
    }
   ],
   "source": [
    "for row in 1:nrows\n",
    "     if ptable[row, :Discovered] == 0\n",
    "      println(\"it's zero\")\n",
    "     end\n",
    "end"
   ]
  },
  {
   "cell_type": "code",
   "execution_count": null,
   "metadata": {
    "collapsed": false
   },
   "outputs": [],
   "source": [
    "for row in 1:nrows\n",
    "     if isna(ptable[row, :Discovered])\n",
    "      println(\"skipping NA value\")\n",
    "     else\n",
    "      println(\"the value is $(ptable[row, :Discovered])\")\n",
    "     end\n",
    "end"
   ]
  },
  {
   "cell_type": "code",
   "execution_count": null,
   "metadata": {
    "collapsed": false
   },
   "outputs": [],
   "source": [
    "ptable[find(isna(ptable[:,:Discovered])), :]"
   ]
  },
  {
   "cell_type": "code",
   "execution_count": null,
   "metadata": {
    "collapsed": false
   },
   "outputs": [],
   "source": [
    "ptable[isna(ptable[:Discovered]), :Discovered] = 0"
   ]
  },
  {
   "cell_type": "code",
   "execution_count": 10,
   "metadata": {
    "collapsed": false
   },
   "outputs": [
    {
     "data": {
      "text/html": [
       "<table class=\"data-frame\"><tr><th></th><th>Number</th><th>Name</th><th>AtomicWeight</th><th>Symbol</th><th>Discovered</th></tr><tr><th>1</th><td>1</td><td>Hydrogen</td><td>1.0079</td><td>H</td><td>1776</td></tr><tr><th>2</th><td>2</td><td>Helium</td><td>4.0026</td><td>He</td><td>1895</td></tr><tr><th>3</th><td>6</td><td>Carbon</td><td>12.0107</td><td>C</td><td>0</td></tr><tr><th>4</th><td>8</td><td>Oxygen</td><td>15.9994</td><td>O</td><td>1774</td></tr><tr><th>5</th><td>26</td><td>Iron</td><td>55.845</td><td>Fe</td><td>NA</td></tr></table>"
      ],
      "text/plain": [
       "5x5 DataFrames.DataFrame\n",
       "| Row | Number | Name       | AtomicWeight | Symbol | Discovered |\n",
       "|-----|--------|------------|--------------|--------|------------|\n",
       "| 1   | 1      | \"Hydrogen\" | 1.0079       | \"H\"    | 1776       |\n",
       "| 2   | 2      | \"Helium\"   | 4.0026       | \"He\"   | 1895       |\n",
       "| 3   | 6      | \"Carbon\"   | 12.0107      | \"C\"    | 0          |\n",
       "| 4   | 8      | \"Oxygen\"   | 15.9994      | \"O\"    | 1774       |\n",
       "| 5   | 26     | \"Iron\"     | 55.845       | \"Fe\"   | NA         |"
      ]
     },
     "execution_count": 10,
     "metadata": {},
     "output_type": "execute_result"
    }
   ],
   "source": [
    "ptable"
   ]
  },
  {
   "cell_type": "code",
   "execution_count": null,
   "metadata": {
    "collapsed": false
   },
   "outputs": [],
   "source": [
    "for row in 1:nrows\n",
    "    for col in 1:ncols\n",
    "    println(\"processing row $row column $col \")\n",
    "    temp = ptable[row,col]\n",
    "    if isna(temp)\n",
    "     println(\"skipping NA\")\n",
    "    elseif temp == \"n/a\" || temp == \"0\" || temp == 0\n",
    "     ptable[row,col] = NA\n",
    "     println(\"changed row $row column $col \")\n",
    "    end\n",
    "    end\n",
    " end"
   ]
  },
  {
   "cell_type": "code",
   "execution_count": null,
   "metadata": {
    "collapsed": false
   },
   "outputs": [],
   "source": [
    "ptable"
   ]
  },
  {
   "cell_type": "code",
   "execution_count": 11,
   "metadata": {
    "collapsed": false
   },
   "outputs": [
    {
     "data": {
      "text/plain": [
       "4-element Array{Int32,1}:\n",
       " 1776\n",
       " 1895\n",
       "    0\n",
       " 1774"
      ]
     },
     "execution_count": 11,
     "metadata": {},
     "output_type": "execute_result"
    }
   ],
   "source": [
    "dropna(ptable[:Discovered])"
   ]
  },
  {
   "cell_type": "code",
   "execution_count": 12,
   "metadata": {
    "collapsed": false
   },
   "outputs": [
    {
     "data": {
      "text/plain": [
       "5-element DataArrays.DataArray{Int32,1}:\n",
       " -253\n",
       " -269\n",
       " 4827\n",
       " -183\n",
       " 2750"
      ]
     },
     "execution_count": 12,
     "metadata": {},
     "output_type": "execute_result"
    }
   ],
   "source": [
    "ptable[:MP] = @data([-259, -272, 3500, -218, 1535])\n",
    "ptable[:BP] = @data([-253, -269, 4827, -183, 2750])"
   ]
  },
  {
   "cell_type": "code",
   "execution_count": 13,
   "metadata": {
    "collapsed": false
   },
   "outputs": [
    {
     "data": {
      "text/plain": [
       "5-element DataArrays.DataArray{Int32,1}:\n",
       "    6\n",
       "    3\n",
       " 1327\n",
       "   35\n",
       " 1215"
      ]
     },
     "execution_count": 13,
     "metadata": {},
     "output_type": "execute_result"
    }
   ],
   "source": [
    " ptable[:Liquid] = map((x,y) -> y - x, ptable[:MP], ptable[:BP])"
   ]
  },
  {
   "cell_type": "code",
   "execution_count": 14,
   "metadata": {
    "collapsed": false
   },
   "outputs": [
    {
     "data": {
      "text/html": [
       "<table class=\"data-frame\"><tr><th></th><th>Number</th><th>Name</th><th>AtomicWeight</th><th>Symbol</th><th>Discovered</th><th>MP</th><th>BP</th><th>Liquid</th></tr><tr><th>1</th><td>1</td><td>Hydrogen</td><td>1.0079</td><td>H</td><td>1776</td><td>-259</td><td>-253</td><td>6</td></tr><tr><th>2</th><td>2</td><td>Helium</td><td>4.0026</td><td>He</td><td>1895</td><td>-272</td><td>-269</td><td>3</td></tr><tr><th>3</th><td>6</td><td>Carbon</td><td>12.0107</td><td>C</td><td>0</td><td>3500</td><td>4827</td><td>1327</td></tr><tr><th>4</th><td>8</td><td>Oxygen</td><td>15.9994</td><td>O</td><td>1774</td><td>-218</td><td>-183</td><td>35</td></tr><tr><th>5</th><td>26</td><td>Iron</td><td>55.845</td><td>Fe</td><td>NA</td><td>1535</td><td>2750</td><td>1215</td></tr></table>"
      ],
      "text/plain": [
       "5x8 DataFrames.DataFrame\n",
       "| Row | Number | Name       | AtomicWeight | Symbol | Discovered | MP   | BP   |\n",
       "|-----|--------|------------|--------------|--------|------------|------|------|\n",
       "| 1   | 1      | \"Hydrogen\" | 1.0079       | \"H\"    | 1776       | -259 | -253 |\n",
       "| 2   | 2      | \"Helium\"   | 4.0026       | \"He\"   | 1895       | -272 | -269 |\n",
       "| 3   | 6      | \"Carbon\"   | 12.0107      | \"C\"    | 0          | 3500 | 4827 |\n",
       "| 4   | 8      | \"Oxygen\"   | 15.9994      | \"O\"    | 1774       | -218 | -183 |\n",
       "| 5   | 26     | \"Iron\"     | 55.845       | \"Fe\"   | NA         | 1535 | 2750 |\n",
       "\n",
       "| Row | Liquid |\n",
       "|-----|--------|\n",
       "| 1   | 6      |\n",
       "| 2   | 3      |\n",
       "| 3   | 1327   |\n",
       "| 4   | 35     |\n",
       "| 5   | 1215   |"
      ]
     },
     "execution_count": 14,
     "metadata": {},
     "output_type": "execute_result"
    }
   ],
   "source": [
    "ptable"
   ]
  },
  {
   "cell_type": "code",
   "execution_count": 15,
   "metadata": {
    "collapsed": false
   },
   "outputs": [
    {
     "data": {
      "text/plain": [
       "5-element DataArrays.DataArray{Float64,1}:\n",
       "     6.0474\n",
       "    12.0078\n",
       " 15938.2   \n",
       "   559.979 \n",
       " 67851.7   "
      ]
     },
     "execution_count": 15,
     "metadata": {},
     "output_type": "execute_result"
    }
   ],
   "source": [
    "ptable[:Temp] = map((x,y) -> y * x, ptable[:Liquid], ptable[:AtomicWeight])"
   ]
  },
  {
   "cell_type": "code",
   "execution_count": 16,
   "metadata": {
    "collapsed": false
   },
   "outputs": [
    {
     "data": {
      "text/plain": [
       "5-element DataArrays.DataArray{Any,1}:\n",
       " -434.2\n",
       " -457.6\n",
       " 6332.0\n",
       " -360.4\n",
       " 2795.0"
      ]
     },
     "execution_count": 16,
     "metadata": {},
     "output_type": "execute_result"
    }
   ],
   "source": [
    "ptable[:MP_in_F] = map(deg -> 32 + (deg * 1.8), ptable[:MP])"
   ]
  },
  {
   "cell_type": "code",
   "execution_count": 17,
   "metadata": {
    "collapsed": false
   },
   "outputs": [
    {
     "data": {
      "text/html": [
       "<table class=\"data-frame\"><tr><th></th><th>Number</th><th>Name</th><th>AtomicWeight</th><th>Symbol</th><th>Discovered</th><th>MP</th><th>BP</th><th>Liquid</th><th>Junk</th><th>MP_in_F</th></tr><tr><th>1</th><td>1</td><td>Hydrogen</td><td>1.0079</td><td>H</td><td>1776</td><td>-259</td><td>-253</td><td>6</td><td>6.0474</td><td>-434.2</td></tr><tr><th>2</th><td>2</td><td>Helium</td><td>4.0026</td><td>He</td><td>1895</td><td>-272</td><td>-269</td><td>3</td><td>12.0078</td><td>-457.6</td></tr><tr><th>3</th><td>6</td><td>Carbon</td><td>12.0107</td><td>C</td><td>0</td><td>3500</td><td>4827</td><td>1327</td><td>15938.1989</td><td>6332.0</td></tr><tr><th>4</th><td>8</td><td>Oxygen</td><td>15.9994</td><td>O</td><td>1774</td><td>-218</td><td>-183</td><td>35</td><td>559.979</td><td>-360.40000000000003</td></tr><tr><th>5</th><td>26</td><td>Iron</td><td>55.845</td><td>Fe</td><td>NA</td><td>1535</td><td>2750</td><td>1215</td><td>67851.675</td><td>2795.0</td></tr></table>"
      ],
      "text/plain": [
       "5x10 DataFrames.DataFrame\n",
       "| Row | Number | Name       | AtomicWeight | Symbol | Discovered | MP   | BP   |\n",
       "|-----|--------|------------|--------------|--------|------------|------|------|\n",
       "| 1   | 1      | \"Hydrogen\" | 1.0079       | \"H\"    | 1776       | -259 | -253 |\n",
       "| 2   | 2      | \"Helium\"   | 4.0026       | \"He\"   | 1895       | -272 | -269 |\n",
       "| 3   | 6      | \"Carbon\"   | 12.0107      | \"C\"    | 0          | 3500 | 4827 |\n",
       "| 4   | 8      | \"Oxygen\"   | 15.9994      | \"O\"    | 1774       | -218 | -183 |\n",
       "| 5   | 26     | \"Iron\"     | 55.845       | \"Fe\"   | NA         | 1535 | 2750 |\n",
       "\n",
       "| Row | Liquid | Junk    | MP_in_F |\n",
       "|-----|--------|---------|---------|\n",
       "| 1   | 6      | 6.0474  | -434.2  |\n",
       "| 2   | 3      | 12.0078 | -457.6  |\n",
       "| 3   | 1327   | 15938.2 | 6332.0  |\n",
       "| 4   | 35     | 559.979 | -360.4  |\n",
       "| 5   | 1215   | 67851.7 | 2795.0  |"
      ]
     },
     "execution_count": 17,
     "metadata": {},
     "output_type": "execute_result"
    }
   ],
   "source": [
    "rename!(ptable, :Temp, :Junk)"
   ]
  },
  {
   "cell_type": "code",
   "execution_count": 18,
   "metadata": {
    "collapsed": false
   },
   "outputs": [
    {
     "data": {
      "text/html": [
       "<table class=\"data-frame\"><tr><th></th><th>Number</th><th>Name</th><th>AtomicWeight</th><th>Symbol</th><th>Discovered</th><th>Melt</th><th>Boil</th><th>Liquid</th><th>Junk</th><th>MP_in_F</th></tr><tr><th>1</th><td>1</td><td>Hydrogen</td><td>1.0079</td><td>H</td><td>1776</td><td>-259</td><td>-253</td><td>6</td><td>6.0474</td><td>-434.2</td></tr><tr><th>2</th><td>2</td><td>Helium</td><td>4.0026</td><td>He</td><td>1895</td><td>-272</td><td>-269</td><td>3</td><td>12.0078</td><td>-457.6</td></tr><tr><th>3</th><td>6</td><td>Carbon</td><td>12.0107</td><td>C</td><td>0</td><td>3500</td><td>4827</td><td>1327</td><td>15938.1989</td><td>6332.0</td></tr><tr><th>4</th><td>8</td><td>Oxygen</td><td>15.9994</td><td>O</td><td>1774</td><td>-218</td><td>-183</td><td>35</td><td>559.979</td><td>-360.40000000000003</td></tr><tr><th>5</th><td>26</td><td>Iron</td><td>55.845</td><td>Fe</td><td>NA</td><td>1535</td><td>2750</td><td>1215</td><td>67851.675</td><td>2795.0</td></tr></table>"
      ],
      "text/plain": [
       "5x10 DataFrames.DataFrame\n",
       "| Row | Number | Name       | AtomicWeight | Symbol | Discovered | Melt | Boil |\n",
       "|-----|--------|------------|--------------|--------|------------|------|------|\n",
       "| 1   | 1      | \"Hydrogen\" | 1.0079       | \"H\"    | 1776       | -259 | -253 |\n",
       "| 2   | 2      | \"Helium\"   | 4.0026       | \"He\"   | 1895       | -272 | -269 |\n",
       "| 3   | 6      | \"Carbon\"   | 12.0107      | \"C\"    | 0          | 3500 | 4827 |\n",
       "| 4   | 8      | \"Oxygen\"   | 15.9994      | \"O\"    | 1774       | -218 | -183 |\n",
       "| 5   | 26     | \"Iron\"     | 55.845       | \"Fe\"   | NA         | 1535 | 2750 |\n",
       "\n",
       "| Row | Liquid | Junk    | MP_in_F |\n",
       "|-----|--------|---------|---------|\n",
       "| 1   | 6      | 6.0474  | -434.2  |\n",
       "| 2   | 3      | 12.0078 | -457.6  |\n",
       "| 3   | 1327   | 15938.2 | 6332.0  |\n",
       "| 4   | 35     | 559.979 | -360.4  |\n",
       "| 5   | 1215   | 67851.7 | 2795.0  |"
      ]
     },
     "execution_count": 18,
     "metadata": {},
     "output_type": "execute_result"
    }
   ],
   "source": [
    "rename!(ptable, [:MP, :BP], [:Melt, :Boil])"
   ]
  },
  {
   "cell_type": "code",
   "execution_count": 19,
   "metadata": {
    "collapsed": false
   },
   "outputs": [
    {
     "data": {
      "text/html": [
       "<table class=\"data-frame\"><tr><th></th><th>Number</th><th>Name</th><th>AtomicWeight</th><th>Symbol</th><th>Discovered</th><th>Melt</th><th>Boil</th><th>Liquid</th><th>MP_in_F</th></tr><tr><th>1</th><td>1</td><td>Hydrogen</td><td>1.0079</td><td>H</td><td>1776</td><td>-259</td><td>-253</td><td>6</td><td>-434.2</td></tr><tr><th>2</th><td>2</td><td>Helium</td><td>4.0026</td><td>He</td><td>1895</td><td>-272</td><td>-269</td><td>3</td><td>-457.6</td></tr><tr><th>3</th><td>6</td><td>Carbon</td><td>12.0107</td><td>C</td><td>0</td><td>3500</td><td>4827</td><td>1327</td><td>6332.0</td></tr><tr><th>4</th><td>8</td><td>Oxygen</td><td>15.9994</td><td>O</td><td>1774</td><td>-218</td><td>-183</td><td>35</td><td>-360.40000000000003</td></tr><tr><th>5</th><td>26</td><td>Iron</td><td>55.845</td><td>Fe</td><td>NA</td><td>1535</td><td>2750</td><td>1215</td><td>2795.0</td></tr></table>"
      ],
      "text/plain": [
       "5x9 DataFrames.DataFrame\n",
       "| Row | Number | Name       | AtomicWeight | Symbol | Discovered | Melt | Boil |\n",
       "|-----|--------|------------|--------------|--------|------------|------|------|\n",
       "| 1   | 1      | \"Hydrogen\" | 1.0079       | \"H\"    | 1776       | -259 | -253 |\n",
       "| 2   | 2      | \"Helium\"   | 4.0026       | \"He\"   | 1895       | -272 | -269 |\n",
       "| 3   | 6      | \"Carbon\"   | 12.0107      | \"C\"    | 0          | 3500 | 4827 |\n",
       "| 4   | 8      | \"Oxygen\"   | 15.9994      | \"O\"    | 1774       | -218 | -183 |\n",
       "| 5   | 26     | \"Iron\"     | 55.845       | \"Fe\"   | NA         | 1535 | 2750 |\n",
       "\n",
       "| Row | Liquid | MP_in_F |\n",
       "|-----|--------|---------|\n",
       "| 1   | 6      | -434.2  |\n",
       "| 2   | 3      | -457.6  |\n",
       "| 3   | 1327   | 6332.0  |\n",
       "| 4   | 35     | -360.4  |\n",
       "| 5   | 1215   | 2795.0  |"
      ]
     },
     "execution_count": 19,
     "metadata": {},
     "output_type": "execute_result"
    }
   ],
   "source": [
    "delete!(ptable, :Junk)"
   ]
  },
  {
   "cell_type": "code",
   "execution_count": 21,
   "metadata": {
    "collapsed": false
   },
   "outputs": [],
   "source": [
    " push!(ptable, @data([6, \"Copper\", 63.546, \"Cu\", NA, 1083, 2567, NA, NA]))"
   ]
  },
  {
   "cell_type": "code",
   "execution_count": 22,
   "metadata": {
    "collapsed": false
   },
   "outputs": [
    {
     "data": {
      "text/html": [
       "<table class=\"data-frame\"><tr><th></th><th>Number</th><th>Name</th><th>AtomicWeight</th><th>Symbol</th><th>Discovered</th><th>Melt</th><th>Boil</th><th>Liquid</th><th>MP_in_F</th></tr><tr><th>1</th><td>1</td><td>Hydrogen</td><td>1.0079</td><td>H</td><td>1776</td><td>-259</td><td>-253</td><td>6</td><td>-434.2</td></tr><tr><th>2</th><td>2</td><td>Helium</td><td>4.0026</td><td>He</td><td>1895</td><td>-272</td><td>-269</td><td>3</td><td>-457.6</td></tr><tr><th>3</th><td>6</td><td>Carbon</td><td>12.0107</td><td>C</td><td>0</td><td>3500</td><td>4827</td><td>1327</td><td>6332.0</td></tr><tr><th>4</th><td>8</td><td>Oxygen</td><td>15.9994</td><td>O</td><td>1774</td><td>-218</td><td>-183</td><td>35</td><td>-360.40000000000003</td></tr><tr><th>5</th><td>26</td><td>Iron</td><td>55.845</td><td>Fe</td><td>NA</td><td>1535</td><td>2750</td><td>1215</td><td>2795.0</td></tr><tr><th>6</th><td>6</td><td>Copper</td><td>63.546</td><td>Cu</td><td>NA</td><td>1083</td><td>2567</td><td>NA</td><td>NA</td></tr></table>"
      ],
      "text/plain": [
       "6x9 DataFrames.DataFrame\n",
       "| Row | Number | Name       | AtomicWeight | Symbol | Discovered | Melt | Boil |\n",
       "|-----|--------|------------|--------------|--------|------------|------|------|\n",
       "| 1   | 1      | \"Hydrogen\" | 1.0079       | \"H\"    | 1776       | -259 | -253 |\n",
       "| 2   | 2      | \"Helium\"   | 4.0026       | \"He\"   | 1895       | -272 | -269 |\n",
       "| 3   | 6      | \"Carbon\"   | 12.0107      | \"C\"    | 0          | 3500 | 4827 |\n",
       "| 4   | 8      | \"Oxygen\"   | 15.9994      | \"O\"    | 1774       | -218 | -183 |\n",
       "| 5   | 26     | \"Iron\"     | 55.845       | \"Fe\"   | NA         | 1535 | 2750 |\n",
       "| 6   | 6      | \"Copper\"   | 63.546       | \"Cu\"   | NA         | 1083 | 2567 |\n",
       "\n",
       "| Row | Liquid | MP_in_F |\n",
       "|-----|--------|---------|\n",
       "| 1   | 6      | -434.2  |\n",
       "| 2   | 3      | -457.6  |\n",
       "| 3   | 1327   | 6332.0  |\n",
       "| 4   | 35     | -360.4  |\n",
       "| 5   | 1215   | 2795.0  |\n",
       "| 6   | NA     | NA      |"
      ]
     },
     "execution_count": 22,
     "metadata": {},
     "output_type": "execute_result"
    }
   ],
   "source": [
    "ptable"
   ]
  },
  {
   "cell_type": "code",
   "execution_count": 23,
   "metadata": {
    "collapsed": false
   },
   "outputs": [
    {
     "ename": "LoadError",
     "evalue": "LoadError: UndefVarError: findstringarray not defined\nwhile loading In[23], in expression starting on line 1",
     "output_type": "error",
     "traceback": [
      "LoadError: UndefVarError: findstringarray not defined\nwhile loading In[23], in expression starting on line 1",
      ""
     ]
    }
   ],
   "source": [
    "ptable[find(findstringarray(ptable[:,:Name], \"Copper\")), :][:Liquid] = 2567 - 1083"
   ]
  },
  {
   "cell_type": "code",
   "execution_count": 24,
   "metadata": {
    "collapsed": false
   },
   "outputs": [
    {
     "data": {
      "text/plain": [
       "1327"
      ]
     },
     "execution_count": 24,
     "metadata": {},
     "output_type": "execute_result"
    }
   ],
   "source": [
    "ptable[ptable[:, :Number] .== 6, :][:Liquid] = 4827 - 3500"
   ]
  },
  {
   "cell_type": "code",
   "execution_count": 25,
   "metadata": {
    "collapsed": false
   },
   "outputs": [
    {
     "data": {
      "text/html": [
       "<table class=\"data-frame\"><tr><th></th><th>Number</th><th>Name</th><th>AtomicWeight</th><th>Symbol</th><th>Discovered</th><th>Melt</th><th>Boil</th><th>Liquid</th><th>MP_in_F</th></tr><tr><th>1</th><td>1</td><td>Hydrogen</td><td>1.0079</td><td>H</td><td>1776</td><td>-259</td><td>-253</td><td>6</td><td>-434.2</td></tr><tr><th>2</th><td>2</td><td>Helium</td><td>4.0026</td><td>He</td><td>1895</td><td>-272</td><td>-269</td><td>3</td><td>-457.6</td></tr><tr><th>3</th><td>6</td><td>Carbon</td><td>12.0107</td><td>C</td><td>0</td><td>3500</td><td>4827</td><td>1327</td><td>6332.0</td></tr><tr><th>4</th><td>8</td><td>Oxygen</td><td>15.9994</td><td>O</td><td>1774</td><td>-218</td><td>-183</td><td>35</td><td>-360.40000000000003</td></tr><tr><th>5</th><td>26</td><td>Iron</td><td>55.845</td><td>Fe</td><td>NA</td><td>1535</td><td>2750</td><td>1215</td><td>2795.0</td></tr><tr><th>6</th><td>6</td><td>Copper</td><td>63.546</td><td>Cu</td><td>NA</td><td>1083</td><td>2567</td><td>NA</td><td>NA</td></tr></table>"
      ],
      "text/plain": [
       "6x9 DataFrames.DataFrame\n",
       "| Row | Number | Name       | AtomicWeight | Symbol | Discovered | Melt | Boil |\n",
       "|-----|--------|------------|--------------|--------|------------|------|------|\n",
       "| 1   | 1      | \"Hydrogen\" | 1.0079       | \"H\"    | 1776       | -259 | -253 |\n",
       "| 2   | 2      | \"Helium\"   | 4.0026       | \"He\"   | 1895       | -272 | -269 |\n",
       "| 3   | 6      | \"Carbon\"   | 12.0107      | \"C\"    | 0          | 3500 | 4827 |\n",
       "| 4   | 8      | \"Oxygen\"   | 15.9994      | \"O\"    | 1774       | -218 | -183 |\n",
       "| 5   | 26     | \"Iron\"     | 55.845       | \"Fe\"   | NA         | 1535 | 2750 |\n",
       "| 6   | 6      | \"Copper\"   | 63.546       | \"Cu\"   | NA         | 1083 | 2567 |\n",
       "\n",
       "| Row | Liquid | MP_in_F |\n",
       "|-----|--------|---------|\n",
       "| 1   | 6      | -434.2  |\n",
       "| 2   | 3      | -457.6  |\n",
       "| 3   | 1327   | 6332.0  |\n",
       "| 4   | 35     | -360.4  |\n",
       "| 5   | 1215   | 2795.0  |\n",
       "| 6   | NA     | NA      |"
      ]
     },
     "execution_count": 25,
     "metadata": {},
     "output_type": "execute_result"
    }
   ],
   "source": [
    "ptable"
   ]
  },
  {
   "cell_type": "code",
   "execution_count": 26,
   "metadata": {
    "collapsed": false
   },
   "outputs": [
    {
     "data": {
      "text/plain": [
       "2-element DataArrays.DataArray{Int32,1}:\n",
       " 1327  \n",
       "     NA"
      ]
     },
     "execution_count": 26,
     "metadata": {},
     "output_type": "execute_result"
    }
   ],
   "source": [
    "ptable[ptable[:, :Number] .== 6, :][:Liquid]"
   ]
  },
  {
   "cell_type": "code",
   "execution_count": 27,
   "metadata": {
    "collapsed": false
   },
   "outputs": [
    {
     "data": {
      "text/html": [
       "<table class=\"data-frame\"><tr><th></th><th>Number</th><th>Name</th><th>AtomicWeight</th><th>Symbol</th><th>Discovered</th><th>Melt</th><th>Boil</th><th>Liquid</th><th>MP_in_F</th></tr><tr><th>1</th><td>1</td><td>Hydrogen</td><td>1.0079</td><td>H</td><td>1776</td><td>-259</td><td>-253</td><td>6</td><td>-434.2</td></tr><tr><th>2</th><td>2</td><td>Helium</td><td>4.0026</td><td>He</td><td>1895</td><td>-272</td><td>-269</td><td>3</td><td>-457.6</td></tr><tr><th>3</th><td>6</td><td>Carbon</td><td>12.0107</td><td>C</td><td>0</td><td>3500</td><td>4827</td><td>1327</td><td>6332.0</td></tr><tr><th>4</th><td>8</td><td>Oxygen</td><td>15.9994</td><td>O</td><td>1774</td><td>-218</td><td>-183</td><td>35</td><td>-360.40000000000003</td></tr><tr><th>5</th><td>26</td><td>Iron</td><td>55.845</td><td>Fe</td><td>NA</td><td>1535</td><td>2750</td><td>1215</td><td>2795.0</td></tr><tr><th>6</th><td>6</td><td>Copper</td><td>63.546</td><td>Cu</td><td>NA</td><td>1083</td><td>2567</td><td>NA</td><td>NA</td></tr></table>"
      ],
      "text/plain": [
       "6x9 DataFrames.DataFrame\n",
       "| Row | Number | Name       | AtomicWeight | Symbol | Discovered | Melt | Boil |\n",
       "|-----|--------|------------|--------------|--------|------------|------|------|\n",
       "| 1   | 1      | \"Hydrogen\" | 1.0079       | \"H\"    | 1776       | -259 | -253 |\n",
       "| 2   | 2      | \"Helium\"   | 4.0026       | \"He\"   | 1895       | -272 | -269 |\n",
       "| 3   | 6      | \"Carbon\"   | 12.0107      | \"C\"    | 0          | 3500 | 4827 |\n",
       "| 4   | 8      | \"Oxygen\"   | 15.9994      | \"O\"    | 1774       | -218 | -183 |\n",
       "| 5   | 26     | \"Iron\"     | 55.845       | \"Fe\"   | NA         | 1535 | 2750 |\n",
       "| 6   | 6      | \"Copper\"   | 63.546       | \"Cu\"   | NA         | 1083 | 2567 |\n",
       "\n",
       "| Row | Liquid | MP_in_F |\n",
       "|-----|--------|---------|\n",
       "| 1   | 6      | -434.2  |\n",
       "| 2   | 3      | -457.6  |\n",
       "| 3   | 1327   | 6332.0  |\n",
       "| 4   | 35     | -360.4  |\n",
       "| 5   | 1215   | 2795.0  |\n",
       "| 6   | NA     | NA      |"
      ]
     },
     "execution_count": 27,
     "metadata": {},
     "output_type": "execute_result"
    }
   ],
   "source": [
    "ptable"
   ]
  },
  {
   "cell_type": "code",
   "execution_count": 28,
   "metadata": {
    "collapsed": false
   },
   "outputs": [
    {
     "data": {
      "text/html": [
       "<table class=\"data-frame\"><tr><th></th><th>Number</th><th>Name</th><th>AtomicWeight</th><th>Symbol</th><th>Discovered</th><th>Melt</th><th>Boil</th><th>Liquid</th><th>MP_in_F</th></tr><tr><th>1</th><td>6</td><td>Carbon</td><td>12.0107</td><td>C</td><td>0</td><td>3500</td><td>4827</td><td>1327</td><td>6332.0</td></tr><tr><th>2</th><td>26</td><td>Iron</td><td>55.845</td><td>Fe</td><td>NA</td><td>1535</td><td>2750</td><td>1215</td><td>2795.0</td></tr><tr><th>3</th><td>6</td><td>Copper</td><td>63.546</td><td>Cu</td><td>NA</td><td>1083</td><td>2567</td><td>NA</td><td>NA</td></tr></table>"
      ],
      "text/plain": [
       "3x9 DataFrames.DataFrame\n",
       "| Row | Number | Name     | AtomicWeight | Symbol | Discovered | Melt | Boil |\n",
       "|-----|--------|----------|--------------|--------|------------|------|------|\n",
       "| 1   | 6      | \"Carbon\" | 12.0107      | \"C\"    | 0          | 3500 | 4827 |\n",
       "| 2   | 26     | \"Iron\"   | 55.845       | \"Fe\"   | NA         | 1535 | 2750 |\n",
       "| 3   | 6      | \"Copper\" | 63.546       | \"Cu\"   | NA         | 1083 | 2567 |\n",
       "\n",
       "| Row | Liquid | MP_in_F |\n",
       "|-----|--------|---------|\n",
       "| 1   | 1327   | 6332.0  |\n",
       "| 2   | 1215   | 2795.0  |\n",
       "| 3   | NA     | NA      |"
      ]
     },
     "execution_count": 28,
     "metadata": {},
     "output_type": "execute_result"
    }
   ],
   "source": [
    "ptable1 = ptable[ptable[:Boil] .> 100, :]"
   ]
  },
  {
   "cell_type": "code",
   "execution_count": 29,
   "metadata": {
    "collapsed": false
   },
   "outputs": [
    {
     "data": {
      "text/plain": [
       "6-element DataArrays.DataArray{Bool,1}:\n",
       "  true\n",
       "  true\n",
       " false\n",
       "  true\n",
       " false\n",
       " false"
      ]
     },
     "execution_count": 29,
     "metadata": {},
     "output_type": "execute_result"
    }
   ],
   "source": [
    "ptable[:, :Melt] .< 100"
   ]
  },
  {
   "cell_type": "code",
   "execution_count": 32,
   "metadata": {
    "collapsed": false
   },
   "outputs": [
    {
     "data": {
      "text/html": [
       "<table class=\"data-frame\"><tr><th></th><th>Number</th><th>Name</th><th>AtomicWeight</th><th>Symbol</th><th>Discovered</th><th>Melt</th><th>Boil</th><th>Liquid</th><th>MP_in_F</th></tr><tr><th>1</th><td>1</td><td>Hydrogen</td><td>1.0079</td><td>H</td><td>1776</td><td>-259</td><td>-253</td><td>6</td><td>-434.2</td></tr><tr><th>2</th><td>2</td><td>Helium</td><td>4.0026</td><td>He</td><td>1895</td><td>-272</td><td>-269</td><td>3</td><td>-457.6</td></tr><tr><th>3</th><td>8</td><td>Oxygen</td><td>15.9994</td><td>O</td><td>1774</td><td>-218</td><td>-183</td><td>35</td><td>-360.40000000000003</td></tr></table>"
      ],
      "text/plain": [
       "3x9 DataFrames.DataFrame\n",
       "| Row | Number | Name       | AtomicWeight | Symbol | Discovered | Melt | Boil |\n",
       "|-----|--------|------------|--------------|--------|------------|------|------|\n",
       "| 1   | 1      | \"Hydrogen\" | 1.0079       | \"H\"    | 1776       | -259 | -253 |\n",
       "| 2   | 2      | \"Helium\"   | 4.0026       | \"He\"   | 1895       | -272 | -269 |\n",
       "| 3   | 8      | \"Oxygen\"   | 15.9994      | \"O\"    | 1774       | -218 | -183 |\n",
       "\n",
       "| Row | Liquid | MP_in_F |\n",
       "|-----|--------|---------|\n",
       "| 1   | 6      | -434.2  |\n",
       "| 2   | 3      | -457.6  |\n",
       "| 3   | 35     | -360.4  |"
      ]
     },
     "execution_count": 32,
     "metadata": {},
     "output_type": "execute_result"
    }
   ],
   "source": [
    "ptable[ptable[:Melt] .< 100,:]"
   ]
  },
  {
   "cell_type": "code",
   "execution_count": 33,
   "metadata": {
    "collapsed": false
   },
   "outputs": [
    {
     "data": {
      "text/plain": [
       "findstringarray (generic function with 1 method)"
      ]
     },
     "execution_count": 33,
     "metadata": {},
     "output_type": "execute_result"
    }
   ],
   "source": [
    "function findstringarray(ary, s)\n",
    "   res = Any[]\n",
    "   for e in ary\n",
    "    contains(e, s) ? push!(res, true) : push!(res, false)\n",
    "   end\n",
    "   return res\n",
    "end"
   ]
  },
  {
   "cell_type": "code",
   "execution_count": 34,
   "metadata": {
    "collapsed": false
   },
   "outputs": [
    {
     "data": {
      "text/html": [
       "<table class=\"data-frame\"><tr><th></th><th>Number</th><th>Name</th><th>AtomicWeight</th><th>Symbol</th><th>Discovered</th><th>Melt</th><th>Boil</th><th>Liquid</th><th>MP_in_F</th></tr><tr><th>1</th><td>1</td><td>Hydrogen</td><td>1.0079</td><td>H</td><td>1776</td><td>-259</td><td>-253</td><td>6</td><td>-434.2</td></tr><tr><th>2</th><td>8</td><td>Oxygen</td><td>15.9994</td><td>O</td><td>1774</td><td>-218</td><td>-183</td><td>35</td><td>-360.40000000000003</td></tr></table>"
      ],
      "text/plain": [
       "2x9 DataFrames.DataFrame\n",
       "| Row | Number | Name       | AtomicWeight | Symbol | Discovered | Melt | Boil |\n",
       "|-----|--------|------------|--------------|--------|------------|------|------|\n",
       "| 1   | 1      | \"Hydrogen\" | 1.0079       | \"H\"    | 1776       | -259 | -253 |\n",
       "| 2   | 8      | \"Oxygen\"   | 15.9994      | \"O\"    | 1774       | -218 | -183 |\n",
       "\n",
       "| Row | Liquid | MP_in_F |\n",
       "|-----|--------|---------|\n",
       "| 1   | 6      | -434.2  |\n",
       "| 2   | 35     | -360.4  |"
      ]
     },
     "execution_count": 34,
     "metadata": {},
     "output_type": "execute_result"
    }
   ],
   "source": [
    "ptable[find(findstringarray(ptable[:,:Name], \"en\")), :]"
   ]
  },
  {
   "cell_type": "code",
   "execution_count": 35,
   "metadata": {
    "collapsed": false
   },
   "outputs": [
    {
     "data": {
      "text/plain": [
       "findtypearray (generic function with 1 method)"
      ]
     },
     "execution_count": 35,
     "metadata": {},
     "output_type": "execute_result"
    }
   ],
   "source": [
    "function findtypearray(ary, dtype)\n",
    "      res = Any[]\n",
    "      for e in ary\n",
    "       typeof(e) == dtype ? push!(res, true) : push!(res, false)\n",
    "      end\n",
    "      return res\n",
    "     end"
   ]
  },
  {
   "cell_type": "code",
   "execution_count": 36,
   "metadata": {
    "collapsed": false
   },
   "outputs": [
    {
     "data": {
      "text/html": [
       "<table class=\"data-frame\"><tr><th></th><th>Number</th><th>Name</th><th>AtomicWeight</th><th>Symbol</th><th>Discovered</th><th>Melt</th><th>Boil</th><th>Liquid</th><th>MP_in_F</th></tr><tr><th>1</th><td>26</td><td>Iron</td><td>55.845</td><td>Fe</td><td>NA</td><td>1535</td><td>2750</td><td>1215</td><td>2795.0</td></tr><tr><th>2</th><td>6</td><td>Copper</td><td>63.546</td><td>Cu</td><td>NA</td><td>1083</td><td>2567</td><td>NA</td><td>NA</td></tr></table>"
      ],
      "text/plain": [
       "2x9 DataFrames.DataFrame\n",
       "| Row | Number | Name     | AtomicWeight | Symbol | Discovered | Melt | Boil |\n",
       "|-----|--------|----------|--------------|--------|------------|------|------|\n",
       "| 1   | 26     | \"Iron\"   | 55.845       | \"Fe\"   | NA         | 1535 | 2750 |\n",
       "| 2   | 6      | \"Copper\" | 63.546       | \"Cu\"   | NA         | 1083 | 2567 |\n",
       "\n",
       "| Row | Liquid | MP_in_F |\n",
       "|-----|--------|---------|\n",
       "| 1   | 1215   | 2795.0  |\n",
       "| 2   | NA     | NA      |"
      ]
     },
     "execution_count": 36,
     "metadata": {},
     "output_type": "execute_result"
    }
   ],
   "source": [
    " ptable[find(findtypearray(ptable[:,:Discovered], NAtype)), :]"
   ]
  },
  {
   "cell_type": "code",
   "execution_count": 38,
   "metadata": {
    "collapsed": false
   },
   "outputs": [
    {
     "data": {
      "text/plain": [
       "6-element DataArrays.DataArray{ASCIIString,1}:\n",
       " \"Gas\"  \n",
       " \"Gas\"  \n",
       " \"Solid\"\n",
       " \"Solid\"\n",
       " \"Solid\"\n",
       " \"Solid\""
      ]
     },
     "execution_count": 38,
     "metadata": {},
     "output_type": "execute_result"
    }
   ],
   "source": [
    "ptable[:Room] = @data([\"Gas\", \"Gas\", \"Solid\", \"Solid\", \"Solid\", \"Solid\"])"
   ]
  },
  {
   "cell_type": "code",
   "execution_count": 39,
   "metadata": {
    "collapsed": false
   },
   "outputs": [
    {
     "data": {
      "text/html": [
       "<table class=\"data-frame\"><tr><th></th><th>Number</th><th>Name</th><th>AtomicWeight</th><th>Symbol</th><th>Discovered</th><th>Melt</th><th>Boil</th><th>Liquid</th><th>MP_in_F</th><th>Room</th></tr><tr><th>1</th><td>1</td><td>Hydrogen</td><td>1.0079</td><td>H</td><td>1776</td><td>-259</td><td>-253</td><td>6</td><td>-434.2</td><td>Gas</td></tr><tr><th>2</th><td>2</td><td>Helium</td><td>4.0026</td><td>He</td><td>1895</td><td>-272</td><td>-269</td><td>3</td><td>-457.6</td><td>Gas</td></tr><tr><th>3</th><td>6</td><td>Carbon</td><td>12.0107</td><td>C</td><td>0</td><td>3500</td><td>4827</td><td>1327</td><td>6332.0</td><td>Solid</td></tr><tr><th>4</th><td>8</td><td>Oxygen</td><td>15.9994</td><td>O</td><td>1774</td><td>-218</td><td>-183</td><td>35</td><td>-360.40000000000003</td><td>Solid</td></tr><tr><th>5</th><td>26</td><td>Iron</td><td>55.845</td><td>Fe</td><td>NA</td><td>1535</td><td>2750</td><td>1215</td><td>2795.0</td><td>Solid</td></tr><tr><th>6</th><td>6</td><td>Copper</td><td>63.546</td><td>Cu</td><td>NA</td><td>1083</td><td>2567</td><td>NA</td><td>NA</td><td>Solid</td></tr></table>"
      ],
      "text/plain": [
       "6x10 DataFrames.DataFrame\n",
       "| Row | Number | Name       | AtomicWeight | Symbol | Discovered | Melt | Boil |\n",
       "|-----|--------|------------|--------------|--------|------------|------|------|\n",
       "| 1   | 1      | \"Hydrogen\" | 1.0079       | \"H\"    | 1776       | -259 | -253 |\n",
       "| 2   | 2      | \"Helium\"   | 4.0026       | \"He\"   | 1895       | -272 | -269 |\n",
       "| 3   | 6      | \"Carbon\"   | 12.0107      | \"C\"    | 0          | 3500 | 4827 |\n",
       "| 4   | 8      | \"Oxygen\"   | 15.9994      | \"O\"    | 1774       | -218 | -183 |\n",
       "| 5   | 26     | \"Iron\"     | 55.845       | \"Fe\"   | NA         | 1535 | 2750 |\n",
       "| 6   | 6      | \"Copper\"   | 63.546       | \"Cu\"   | NA         | 1083 | 2567 |\n",
       "\n",
       "| Row | Liquid | MP_in_F | Room    |\n",
       "|-----|--------|---------|---------|\n",
       "| 1   | 6      | -434.2  | \"Gas\"   |\n",
       "| 2   | 3      | -457.6  | \"Gas\"   |\n",
       "| 3   | 1327   | 6332.0  | \"Solid\" |\n",
       "| 4   | 35     | -360.4  | \"Solid\" |\n",
       "| 5   | 1215   | 2795.0  | \"Solid\" |\n",
       "| 6   | NA     | NA      | \"Solid\" |"
      ]
     },
     "execution_count": 39,
     "metadata": {},
     "output_type": "execute_result"
    }
   ],
   "source": [
    "ptable"
   ]
  },
  {
   "cell_type": "code",
   "execution_count": 40,
   "metadata": {
    "collapsed": false
   },
   "outputs": [
    {
     "data": {
      "text/plain": [
       "DataFrames.GroupedDataFrame  2 groups with keys: [:Room]\n",
       "First Group:\n",
       "2x10 DataFrames.SubDataFrame{Array{Int32,1}}\n",
       "| Row | Number | Name       | AtomicWeight | Symbol | Discovered | Melt | Boil |\n",
       "|-----|--------|------------|--------------|--------|------------|------|------|\n",
       "| 1   | 1      | \"Hydrogen\" | 1.0079       | \"H\"    | 1776       | -259 | -253 |\n",
       "| 2   | 2      | \"Helium\"   | 4.0026       | \"He\"   | 1895       | -272 | -269 |\n",
       "\n",
       "| Row | Liquid | MP_in_F | Room  |\n",
       "|-----|--------|---------|-------|\n",
       "| 1   | 6      | -434.2  | \"Gas\" |\n",
       "| 2   | 3      | -457.6  | \"Gas\" |\n",
       "⋮\n",
       "Last Group:\n",
       "4x10 DataFrames.SubDataFrame{Array{Int32,1}}\n",
       "| Row | Number | Name     | AtomicWeight | Symbol | Discovered | Melt | Boil |\n",
       "|-----|--------|----------|--------------|--------|------------|------|------|\n",
       "| 1   | 6      | \"Carbon\" | 12.0107      | \"C\"    | 0          | 3500 | 4827 |\n",
       "| 2   | 8      | \"Oxygen\" | 15.9994      | \"O\"    | 1774       | -218 | -183 |\n",
       "| 3   | 26     | \"Iron\"   | 55.845       | \"Fe\"   | NA         | 1535 | 2750 |\n",
       "| 4   | 6      | \"Copper\" | 63.546       | \"Cu\"   | NA         | 1083 | 2567 |\n",
       "\n",
       "| Row | Liquid | MP_in_F | Room    |\n",
       "|-----|--------|---------|---------|\n",
       "| 1   | 1327   | 6332.0  | \"Solid\" |\n",
       "| 2   | 35     | -360.4  | \"Solid\" |\n",
       "| 3   | 1215   | 2795.0  | \"Solid\" |\n",
       "| 4   | NA     | NA      | \"Solid\" |"
      ]
     },
     "execution_count": 40,
     "metadata": {},
     "output_type": "execute_result"
    }
   ],
   "source": [
    "groupby(ptable, [:Room])"
   ]
  },
  {
   "cell_type": "code",
   "execution_count": 41,
   "metadata": {
    "collapsed": false
   },
   "outputs": [
    {
     "data": {
      "text/html": [
       "<table class=\"data-frame\"><tr><th></th><th>Room</th><th>x1</th></tr><tr><th>1</th><td>Gas</td><td>-265.5</td></tr><tr><th>2</th><td>Solid</td><td>1475.0</td></tr></table>"
      ],
      "text/plain": [
       "2x2 DataFrames.DataFrame\n",
       "| Row | Room    | x1     |\n",
       "|-----|---------|--------|\n",
       "| 1   | \"Gas\"   | -265.5 |\n",
       "| 2   | \"Solid\" | 1475.0 |"
      ]
     },
     "execution_count": 41,
     "metadata": {},
     "output_type": "execute_result"
    }
   ],
   "source": [
    " by(ptable, [:Room], df -> mean(df[:Melt]))"
   ]
  },
  {
   "cell_type": "code",
   "execution_count": 42,
   "metadata": {
    "collapsed": false
   },
   "outputs": [
    {
     "data": {
      "text/html": [
       "<table class=\"data-frame\"><tr><th></th><th>Room</th><th>x1</th></tr><tr><th>1</th><td>Gas</td><td>2</td></tr><tr><th>2</th><td>Solid</td><td>4</td></tr></table>"
      ],
      "text/plain": [
       "2x2 DataFrames.DataFrame\n",
       "| Row | Room    | x1 |\n",
       "|-----|---------|----|\n",
       "| 1   | \"Gas\"   | 2  |\n",
       "| 2   | \"Solid\" | 4  |"
      ]
     },
     "execution_count": 42,
     "metadata": {},
     "output_type": "execute_result"
    }
   ],
   "source": [
    " by(ptable, :Room, nrow)"
   ]
  },
  {
   "cell_type": "code",
   "execution_count": 47,
   "metadata": {
    "collapsed": false
   },
   "outputs": [
    {
     "data": {
      "text/html": [
       "<table class=\"data-frame\"><tr><th></th><th>Number</th><th>Name</th><th>AtomicWeight</th><th>Symbol</th><th>Discovered</th><th>Melt</th><th>Boil</th><th>Liquid</th><th>MP_in_F</th><th>Room</th></tr><tr><th>1</th><td>1</td><td>Hydrogen</td><td>1.0079</td><td>H</td><td>1776</td><td>-259</td><td>-253</td><td>6</td><td>-434.2</td><td>Gas</td></tr><tr><th>2</th><td>2</td><td>Helium</td><td>4.0026</td><td>He</td><td>1895</td><td>-272</td><td>-269</td><td>3</td><td>-457.6</td><td>Gas</td></tr><tr><th>3</th><td>6</td><td>Carbon</td><td>12.0107</td><td>C</td><td>0</td><td>3500</td><td>4827</td><td>1327</td><td>6332.0</td><td>Solid</td></tr><tr><th>4</th><td>8</td><td>Oxygen</td><td>15.9994</td><td>O</td><td>1774</td><td>-218</td><td>-183</td><td>35</td><td>-360.40000000000003</td><td>Solid</td></tr><tr><th>5</th><td>26</td><td>Iron</td><td>55.845</td><td>Fe</td><td>NA</td><td>1535</td><td>2750</td><td>1215</td><td>2795.0</td><td>Solid</td></tr><tr><th>6</th><td>6</td><td>Copper</td><td>63.546</td><td>Cu</td><td>NA</td><td>1083</td><td>2567</td><td>NA</td><td>NA</td><td>Solid</td></tr></table>"
      ],
      "text/plain": [
       "6x10 DataFrames.DataFrame\n",
       "| Row | Number | Name       | AtomicWeight | Symbol | Discovered | Melt | Boil |\n",
       "|-----|--------|------------|--------------|--------|------------|------|------|\n",
       "| 1   | 1      | \"Hydrogen\" | 1.0079       | \"H\"    | 1776       | -259 | -253 |\n",
       "| 2   | 2      | \"Helium\"   | 4.0026       | \"He\"   | 1895       | -272 | -269 |\n",
       "| 3   | 6      | \"Carbon\"   | 12.0107      | \"C\"    | 0          | 3500 | 4827 |\n",
       "| 4   | 8      | \"Oxygen\"   | 15.9994      | \"O\"    | 1774       | -218 | -183 |\n",
       "| 5   | 26     | \"Iron\"     | 55.845       | \"Fe\"   | NA         | 1535 | 2750 |\n",
       "| 6   | 6      | \"Copper\"   | 63.546       | \"Cu\"   | NA         | 1083 | 2567 |\n",
       "\n",
       "| Row | Liquid | MP_in_F | Room    |\n",
       "|-----|--------|---------|---------|\n",
       "| 1   | 6      | -434.2  | \"Gas\"   |\n",
       "| 2   | 3      | -457.6  | \"Gas\"   |\n",
       "| 3   | 1327   | 6332.0  | \"Solid\" |\n",
       "| 4   | 35     | -360.4  | \"Solid\" |\n",
       "| 5   | 1215   | 2795.0  | \"Solid\" |\n",
       "| 6   | NA     | NA      | \"Solid\" |"
      ]
     },
     "execution_count": 47,
     "metadata": {},
     "output_type": "execute_result"
    }
   ],
   "source": [
    "sort!(ptable, cols = [ order(:AtomicWeight), order(:Name)])"
   ]
  },
  {
   "cell_type": "code",
   "execution_count": null,
   "metadata": {
    "collapsed": true
   },
   "outputs": [],
   "source": []
  }
 ],
 "metadata": {
  "kernelspec": {
   "display_name": "Julia 0.4.2",
   "language": "julia",
   "name": "julia-0.4"
  },
  "language_info": {
   "file_extension": ".jl",
   "mimetype": "application/julia",
   "name": "julia",
   "version": "0.4.2"
  }
 },
 "nbformat": 4,
 "nbformat_minor": 0
}
