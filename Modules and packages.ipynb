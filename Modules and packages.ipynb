{
 "cells": [
  {
   "cell_type": "code",
   "execution_count": 1,
   "metadata": {
    "collapsed": false
   },
   "outputs": [
    {
     "name": "stderr",
     "output_type": "stream",
     "text": [
      "INFO: No packages to install, update or remove\n",
      "INFO: Package database updated\n"
     ]
    }
   ],
   "source": [
    "Pkg.add(\"Calculus\")"
   ]
  },
  {
   "cell_type": "code",
   "execution_count": 2,
   "metadata": {
    "collapsed": false
   },
   "outputs": [
    {
     "data": {
      "text/plain": [
       "0.0"
      ]
     },
     "execution_count": 2,
     "metadata": {},
     "output_type": "execute_result"
    }
   ],
   "source": [
    "using Calculus\n",
    "derivative(sin, pi/2)"
   ]
  },
  {
   "cell_type": "code",
   "execution_count": 3,
   "metadata": {
    "collapsed": false
   },
   "outputs": [
    {
     "data": {
      "text/plain": [
       "0.0"
      ]
     },
     "execution_count": 3,
     "metadata": {},
     "output_type": "execute_result"
    }
   ],
   "source": [
    "Calculus.derivative(sin, pi/2)"
   ]
  },
  {
   "cell_type": "code",
   "execution_count": 4,
   "metadata": {
    "collapsed": false
   },
   "outputs": [
    {
     "data": {
      "text/plain": [
       "MyModule"
      ]
     },
     "execution_count": 4,
     "metadata": {},
     "output_type": "execute_result"
    }
   ],
   "source": [
    "module MyModule\n",
    "export mycoolfunction\n",
    "\n",
    "function mycoolfunction()\n",
    "   println(\"this is my cool function\")\n",
    "end\n",
    "\n",
    "function mysecretfunction()\n",
    "   println(\"this is my secret function\")\n",
    "end\n",
    "\n",
    "end"
   ]
  },
  {
   "cell_type": "code",
   "execution_count": 5,
   "metadata": {
    "collapsed": false
   },
   "outputs": [
    {
     "name": "stdout",
     "output_type": "stream",
     "text": [
      "this is my cool function\n"
     ]
    }
   ],
   "source": [
    "MyModule.mycoolfunction()"
   ]
  },
  {
   "cell_type": "code",
   "execution_count": 7,
   "metadata": {
    "collapsed": false
   },
   "outputs": [
    {
     "name": "stdout",
     "output_type": "stream",
     "text": [
      "this is my cool function\n"
     ]
    }
   ],
   "source": [
    "using MyModule\n",
    "mycoolfunction()"
   ]
  },
  {
   "cell_type": "code",
   "execution_count": 8,
   "metadata": {
    "collapsed": false
   },
   "outputs": [
    {
     "name": "stdout",
     "output_type": "stream",
     "text": [
      "this is my secret function\n"
     ]
    }
   ],
   "source": [
    "MyModule.mysecretfunction()"
   ]
  },
  {
   "cell_type": "code",
   "execution_count": 11,
   "metadata": {
    "collapsed": false
   },
   "outputs": [
    {
     "name": "stdout",
     "output_type": "stream",
     "text": [
      "this is my secret function\n"
     ]
    }
   ],
   "source": [
    "using MyModule\n",
    "MyModule.mysecretfunction()"
   ]
  },
  {
   "cell_type": "code",
   "execution_count": 12,
   "metadata": {
    "collapsed": false
   },
   "outputs": [
    {
     "data": {
      "text/plain": [
       "Dict{ASCIIString,VersionNumber} with 63 entries:\n",
       "  \"MacroTools\"        => v\"0.2.0\"\n",
       "  \"Reexport\"          => v\"0.0.3\"\n",
       "  \"ColorBrewer\"       => v\"0.3.0\"\n",
       "  \"DualNumbers\"       => v\"0.2.1\"\n",
       "  \"Grid\"              => v\"0.4.0\"\n",
       "  \"Measures\"          => v\"0.0.2\"\n",
       "  \"KernelDensity\"     => v\"0.1.2\"\n",
       "  \"ImmutableArrays\"   => v\"0.0.11\"\n",
       "  \"IJulia\"            => v\"1.1.8\"\n",
       "  \"Compat\"            => v\"0.7.8\"\n",
       "  \"FixedPointNumbers\" => v\"0.1.1\"\n",
       "  \"ArrayViews\"        => v\"0.6.4\"\n",
       "  \"StatsBase\"         => v\"0.7.4\"\n",
       "  \"Winston\"           => v\"0.11.13\"\n",
       "  \"Docile\"            => v\"0.5.23\"\n",
       "  \"StatsFuns\"         => v\"0.2.0\"\n",
       "  \"Graphics\"          => v\"0.1.3\"\n",
       "  \"Gadfly\"            => v\"0.4.1\"\n",
       "  \"PyCall\"            => v\"1.2.0\"\n",
       "  \"Contour\"           => v\"0.0.8\"\n",
       "  \"Tk\"                => v\"0.3.7\"\n",
       "  \"Iterators\"         => v\"0.1.9\"\n",
       "  \"PyPlot\"            => v\"2.1.1\"\n",
       "  \"Codecs\"            => v\"0.1.5\"\n",
       "  \"BinDeps\"           => v\"0.3.20\"\n",
       "  ⋮                   => ⋮"
      ]
     },
     "execution_count": 12,
     "metadata": {},
     "output_type": "execute_result"
    }
   ],
   "source": [
    "Pkg.installed()"
   ]
  },
  {
   "cell_type": "code",
   "execution_count": 13,
   "metadata": {
    "collapsed": false
   },
   "outputs": [
    {
     "name": "stdout",
     "output_type": "stream",
     "text": [
      "9 required packages:\n",
      " - ASCIIPlots                    0.0.3\n",
      " - Bokeh                         0.2.0\n",
      " - Calculus                      0.1.14\n",
      " - Gadfly                        0.4.1\n",
      " - IJulia                        1.1.8\n",
      " - PyPlot                        2.1.1\n",
      " - UnicodePlots                  0.1.2\n",
      " - Vega                          0.6.1\n",
      " - Winston                       0.11.13\n",
      "54 additional packages:\n",
      " - ArrayViews                    0.6.4\n",
      " - BinDeps                       0.3.20\n",
      " - Cairo                         0.2.31\n",
      " - Codecs                        0.1.5\n",
      " - ColorBrewer                   0.3.0\n",
      " - ColorTypes                    0.2.0\n",
      " - Colors                        0.6.2\n",
      " - Compat                        0.7.8\n",
      " - Compose                       0.4.1\n",
      " - Conda                         0.1.8\n",
      " - Contour                       0.0.8\n",
      " - DataArrays                    0.2.20\n",
      " - DataFrames                    0.6.10\n",
      " - DataStructures                0.4.2\n",
      " - Dates                         0.4.4\n",
      " - Distances                     0.3.0\n",
      " - Distributions                 0.8.9\n",
      " - Docile                        0.5.23\n",
      " - DualNumbers                   0.2.1\n",
      " - FixedPointNumbers             0.1.1\n",
      " - GZip                          0.2.18\n",
      " - Graphics                      0.1.3\n",
      " - Grid                          0.4.0\n",
      " - Hexagons                      0.0.4\n",
      " - ImmutableArrays               0.0.11\n",
      " - IniFile                       0.2.5\n",
      " - Iterators                     0.1.9\n",
      " - JSON                          0.5.0\n",
      " - KernelDensity                 0.1.2\n",
      " - LaTeXStrings                  0.1.6\n",
      " - LibExpat                      0.1.0\n",
      " - Loess                         0.0.6\n",
      " - MacroTools                    0.2.0\n",
      " - Measures                      0.0.2\n",
      " - Mustache                      0.0.14\n",
      " - NaNMath                       0.1.1\n",
      " - Nettle                        0.2.1\n",
      " - NoveltyColors                 0.0.3\n",
      " - Optim                         0.4.4\n",
      " - PDMats                        0.3.6\n",
      " - PyCall                        1.2.0\n",
      " - Reexport                      0.0.3\n",
      " - Requires                      0.2.1\n",
      " - SHA                           0.1.2\n",
      " - Showoff                       0.0.6\n",
      " - SortingAlgorithms             0.0.6\n",
      " - StatsBase                     0.7.4\n",
      " - StatsFuns                     0.2.0\n",
      " - Tk                            0.3.7\n",
      " - URIParser                     0.1.2\n",
      " - WinRPM                        0.1.13\n",
      " - WoodburyMatrices              0.1.4\n",
      " - ZMQ                           0.3.1\n",
      " - Zlib                          0.1.12\n"
     ]
    }
   ],
   "source": [
    "Pkg.status()"
   ]
  },
  {
   "cell_type": "code",
   "execution_count": 14,
   "metadata": {
    "collapsed": false
   },
   "outputs": [
    {
     "data": {
      "text/plain": [
       "Sundial"
      ]
     },
     "execution_count": 14,
     "metadata": {},
     "output_type": "execute_result"
    }
   ],
   "source": [
    "module Sundial\n",
    "global latitude = 52\n",
    "export latitude, get_lat, set_lat, use_lat\n",
    "function get_lat()\n",
    "   println(\"in Sundial.get_lat, latitude is $latitude\")\n",
    "end\n",
    "\n",
    "function set_lat(lat)\n",
    "   global latitude\n",
    "   latitude = lat\n",
    "   println(\"in Sundial.set_lat, latitude is now $latitude\")\n",
    "end\n",
    "\n",
    "function use_lat_fail()\n",
    "   try\n",
    "     println(\"in Sundial.use_lat_fail, latitude is $latitude\")\n",
    "   catch\n",
    "     println(\"couldn't find it\")\n",
    "   end\n",
    "   \n",
    "   latitude = 0\n",
    "   println(\"in Sundial.use_lat_fail, latitude was set to 0, is $latitude\")\n",
    "end\n",
    "\n",
    "function use_lat()\n",
    "   global latitude\n",
    "   try\n",
    "     println(\"in Sundial.use_lat, latitude is $latitude\")\n",
    "   catch\n",
    "     println(\"couldn't find it\")\n",
    "   end\n",
    "   \n",
    "   latitude = 0\n",
    "   println(\"in Sundial.use_lat, latitude was set to 0, is $latitude\")\n",
    "end\n",
    "end"
   ]
  },
  {
   "cell_type": "code",
   "execution_count": 15,
   "metadata": {
    "collapsed": true
   },
   "outputs": [],
   "source": [
    "using Sundial\n"
   ]
  },
  {
   "cell_type": "code",
   "execution_count": 19,
   "metadata": {
    "collapsed": false
   },
   "outputs": [
    {
     "data": {
      "text/plain": [
       "10"
      ]
     },
     "execution_count": 19,
     "metadata": {},
     "output_type": "execute_result"
    }
   ],
   "source": [
    "latitude"
   ]
  },
  {
   "cell_type": "code",
   "execution_count": 17,
   "metadata": {
    "collapsed": false
   },
   "outputs": [
    {
     "name": "stdout",
     "output_type": "stream",
     "text": [
      "in Sundial.get_lat, latitude is 52\n"
     ]
    }
   ],
   "source": [
    "Sundial.get_lat()"
   ]
  },
  {
   "cell_type": "code",
   "execution_count": 18,
   "metadata": {
    "collapsed": false
   },
   "outputs": [
    {
     "data": {
      "text/plain": [
       "10"
      ]
     },
     "execution_count": 18,
     "metadata": {},
     "output_type": "execute_result"
    },
    {
     "name": "stderr",
     "output_type": "stream",
     "text": [
      "WARNING: imported binding for latitude overwritten in module Main\n"
     ]
    }
   ],
   "source": [
    "latitude = 10"
   ]
  },
  {
   "cell_type": "code",
   "execution_count": 20,
   "metadata": {
    "collapsed": false
   },
   "outputs": [
    {
     "data": {
      "text/plain": [
       "52"
      ]
     },
     "execution_count": 20,
     "metadata": {},
     "output_type": "execute_result"
    }
   ],
   "source": [
    "Sundial.latitude"
   ]
  },
  {
   "cell_type": "code",
   "execution_count": 21,
   "metadata": {
    "collapsed": false
   },
   "outputs": [
    {
     "name": "stdout",
     "output_type": "stream",
     "text": [
      "in Sundial.get_lat, latitude is 52\n"
     ]
    }
   ],
   "source": [
    "Sundial.get_lat()"
   ]
  },
  {
   "cell_type": "code",
   "execution_count": 23,
   "metadata": {
    "collapsed": false
   },
   "outputs": [
    {
     "name": "stdout",
     "output_type": "stream",
     "text": [
      "in Sundial.set_lat, latitude is now 45\n"
     ]
    }
   ],
   "source": [
    "Sundial.set_lat(45)"
   ]
  },
  {
   "cell_type": "code",
   "execution_count": 24,
   "metadata": {
    "collapsed": false
   },
   "outputs": [
    {
     "name": "stdout",
     "output_type": "stream",
     "text": [
      "in Sundial.get_lat, latitude is 45\n"
     ]
    }
   ],
   "source": [
    "Sundial.get_lat()"
   ]
  },
  {
   "cell_type": "code",
   "execution_count": null,
   "metadata": {
    "collapsed": true
   },
   "outputs": [],
   "source": []
  },
  {
   "cell_type": "code",
   "execution_count": null,
   "metadata": {
    "collapsed": true
   },
   "outputs": [],
   "source": []
  },
  {
   "cell_type": "code",
   "execution_count": null,
   "metadata": {
    "collapsed": true
   },
   "outputs": [],
   "source": []
  },
  {
   "cell_type": "code",
   "execution_count": null,
   "metadata": {
    "collapsed": true
   },
   "outputs": [],
   "source": []
  },
  {
   "cell_type": "code",
   "execution_count": null,
   "metadata": {
    "collapsed": true
   },
   "outputs": [],
   "source": []
  },
  {
   "cell_type": "code",
   "execution_count": null,
   "metadata": {
    "collapsed": true
   },
   "outputs": [],
   "source": []
  },
  {
   "cell_type": "code",
   "execution_count": null,
   "metadata": {
    "collapsed": true
   },
   "outputs": [],
   "source": []
  },
  {
   "cell_type": "code",
   "execution_count": null,
   "metadata": {
    "collapsed": true
   },
   "outputs": [],
   "source": []
  }
 ],
 "metadata": {
  "kernelspec": {
   "display_name": "Julia 0.4.2",
   "language": "julia",
   "name": "julia-0.4"
  },
  "language_info": {
   "file_extension": ".jl",
   "mimetype": "application/julia",
   "name": "julia",
   "version": "0.4.2"
  }
 },
 "nbformat": 4,
 "nbformat_minor": 0
}
