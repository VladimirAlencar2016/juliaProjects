{
 "cells": [
  {
   "cell_type": "code",
   "execution_count": 1,
   "metadata": {
    "collapsed": false
   },
   "outputs": [
    {
     "data": {
      "text/plain": [
       "\"You owe me \\$50!\""
      ]
     },
     "execution_count": 1,
     "metadata": {},
     "output_type": "execute_result"
    }
   ],
   "source": [
    "demand = \"You owe me \\$50!\""
   ]
  },
  {
   "cell_type": "code",
   "execution_count": 2,
   "metadata": {
    "collapsed": false
   },
   "outputs": [
    {
     "name": "stdout",
     "output_type": "stream",
     "text": [
      "You owe me $50!"
     ]
    }
   ],
   "source": [
    "print (demand)"
   ]
  },
  {
   "cell_type": "code",
   "execution_count": 3,
   "metadata": {
    "collapsed": false
   },
   "outputs": [
    {
     "data": {
      "text/plain": [
       "\"He said, \\\"You owe me \\$50!\\\"\""
      ]
     },
     "execution_count": 3,
     "metadata": {},
     "output_type": "execute_result"
    }
   ],
   "source": [
    "demandquote = \"He said, \\\"You owe me \\$50!\\\"\""
   ]
  },
  {
   "cell_type": "code",
   "execution_count": 5,
   "metadata": {
    "collapsed": false
   },
   "outputs": [
    {
     "name": "stdout",
     "output_type": "stream",
     "text": [
      "He said, \"You owe me $50!\""
     ]
    }
   ],
   "source": [
    "print (demandquote)"
   ]
  },
  {
   "cell_type": "code",
   "execution_count": 7,
   "metadata": {
    "collapsed": false
   },
   "outputs": [
    {
     "data": {
      "text/plain": [
       "\"The value of x is 42.\""
      ]
     },
     "execution_count": 7,
     "metadata": {},
     "output_type": "execute_result"
    }
   ],
   "source": [
    "x = 42\n",
    "\n",
    "\"The value of x is $x.\""
   ]
  },
  {
   "cell_type": "code",
   "execution_count": 8,
   "metadata": {
    "collapsed": false
   },
   "outputs": [
    {
     "data": {
      "text/plain": [
       "\"The value of x is 42.\""
      ]
     },
     "execution_count": 8,
     "metadata": {},
     "output_type": "execute_result"
    }
   ],
   "source": [
    "x = 42\n",
    "\n",
    "\"The value of x is $x.\""
   ]
  },
  {
   "cell_type": "code",
   "execution_count": 9,
   "metadata": {
    "collapsed": false
   },
   "outputs": [
    {
     "data": {
      "text/plain": [
       "\"The value of x is 42.\""
      ]
     },
     "execution_count": 9,
     "metadata": {},
     "output_type": "execute_result"
    }
   ],
   "source": [
    "\"The value of x is $x.\""
   ]
  },
  {
   "cell_type": "code",
   "execution_count": 10,
   "metadata": {
    "collapsed": false
   },
   "outputs": [
    {
     "data": {
      "text/plain": [
       "\"The value of 2 + 2 is 4.\""
      ]
     },
     "execution_count": 10,
     "metadata": {},
     "output_type": "execute_result"
    }
   ],
   "source": [
    "\"The value of 2 + 2 is $(2 + 2).\""
   ]
  },
  {
   "cell_type": "code",
   "execution_count": 11,
   "metadata": {
    "collapsed": false
   },
   "outputs": [
    {
     "data": {
      "text/plain": [
       "\"a load of characters\""
      ]
     },
     "execution_count": 11,
     "metadata": {},
     "output_type": "execute_result"
    }
   ],
   "source": [
    "s = \"a load of characters\""
   ]
  },
  {
   "cell_type": "code",
   "execution_count": 12,
   "metadata": {
    "collapsed": false
   },
   "outputs": [
    {
     "data": {
      "text/plain": [
       "\"load\""
      ]
     },
     "execution_count": 12,
     "metadata": {},
     "output_type": "execute_result"
    }
   ],
   "source": [
    "s[3:6]"
   ]
  },
  {
   "cell_type": "code",
   "execution_count": 13,
   "metadata": {
    "collapsed": false
   },
   "outputs": [
    {
     "data": {
      "text/plain": [
       "\"load of char\""
      ]
     },
     "execution_count": 13,
     "metadata": {},
     "output_type": "execute_result"
    }
   ],
   "source": [
    "s[3:end-6]"
   ]
  },
  {
   "cell_type": "code",
   "execution_count": 14,
   "metadata": {
    "collapsed": false
   },
   "outputs": [
    {
     "data": {
      "text/plain": [
       "\"st\""
      ]
     },
     "execution_count": 14,
     "metadata": {},
     "output_type": "execute_result"
    }
   ],
   "source": [
    "\"s\" * \"t\""
   ]
  },
  {
   "cell_type": "code",
   "execution_count": 16,
   "metadata": {
    "collapsed": false
   },
   "outputs": [
    {
     "data": {
      "text/plain": [
       "\"load of char\""
      ]
     },
     "execution_count": 16,
     "metadata": {},
     "output_type": "execute_result"
    }
   ],
   "source": [
    "\"load \" *  \"of char\""
   ]
  },
  {
   "cell_type": "code",
   "execution_count": 17,
   "metadata": {
    "collapsed": false
   },
   "outputs": [
    {
     "data": {
      "text/plain": [
       "\"ssssssssssssssssss\""
      ]
     },
     "execution_count": 17,
     "metadata": {},
     "output_type": "execute_result"
    }
   ],
   "source": [
    "\"s\" ^ 18"
   ]
  },
  {
   "cell_type": "code",
   "execution_count": 30,
   "metadata": {
    "collapsed": false
   },
   "outputs": [
    {
     "data": {
      "text/plain": [
       "\"You know my methods, Watson.\""
      ]
     },
     "execution_count": 30,
     "metadata": {},
     "output_type": "execute_result"
    }
   ],
   "source": [
    "s = \"You know my methods, Watson.\""
   ]
  },
  {
   "cell_type": "code",
   "execution_count": 28,
   "metadata": {
    "collapsed": false
   },
   "outputs": [
    {
     "data": {
      "text/plain": [
       "5-element Array{SubString{ASCIIString},1}:\n",
       " \"You\"     \n",
       " \"know\"    \n",
       " \"my\"      \n",
       " \"methods,\"\n",
       " \"Watson.\" "
      ]
     },
     "execution_count": 28,
     "metadata": {},
     "output_type": "execute_result"
    }
   ],
   "source": [
    "split(s)"
   ]
  },
  {
   "cell_type": "code",
   "execution_count": 23,
   "metadata": {
    "collapsed": false
   },
   "outputs": [
    {
     "data": {
      "text/plain": [
       "2-element Array{SubString{ASCIIString},1}:\n",
       " \"You know my methods\"\n",
       " \" Watson.\"           "
      ]
     },
     "execution_count": 23,
     "metadata": {},
     "output_type": "execute_result"
    }
   ],
   "source": [
    "split(s, \",\")"
   ]
  },
  {
   "cell_type": "code",
   "execution_count": 29,
   "metadata": {
    "collapsed": false
   },
   "outputs": [
    {
     "data": {
      "text/plain": [
       "8-element Array{SubString{ASCIIString},1}:\n",
       " \"Y\"     \n",
       " \"\"      \n",
       " \" kn\"   \n",
       " \"w my m\"\n",
       " \"th\"    \n",
       " \"ds, W\" \n",
       " \"ts\"    \n",
       " \"n.\"    "
      ]
     },
     "execution_count": 29,
     "metadata": {},
     "output_type": "execute_result"
    }
   ],
   "source": [
    "split(s, r\"a|e|i|o|u\")"
   ]
  },
  {
   "cell_type": "code",
   "execution_count": 31,
   "metadata": {
    "collapsed": false
   },
   "outputs": [
    {
     "name": "stderr",
     "output_type": "stream",
     "text": [
      "WARNING: split(x,y,k::Bool) is deprecated, use split(x,y; keep=k) instead.\n"
     ]
    },
    {
     "data": {
      "text/plain": [
       "\"YX knXw my mXthXds, WXtsXn.\""
      ]
     },
     "execution_count": 31,
     "metadata": {},
     "output_type": "execute_result"
    },
    {
     "name": "stderr",
     "output_type": "stream",
     "text": [
      " in depwarn at deprecated.jl:73\n",
      " in include_string at loading.jl:266\n",
      " in execute_request_0x535c5df2 at C:\\Users\\Vladimir Alencar\\.julia\\v0.4\\IJulia\\src\\execute_request.jl:177\n",
      " in eventloop at C:\\Users\\Vladimir Alencar\\.julia\\v0.4\\IJulia\\src\\IJulia.jl:141\n",
      " in anonymous at task.jl:447\n",
      "while loading In[31], in expression starting on line 1\n"
     ]
    }
   ],
   "source": [
    "join(split(s, r\"a|e|i|o|u\", false), \"X\")"
   ]
  },
  {
   "cell_type": "code",
   "execution_count": 32,
   "metadata": {
    "collapsed": false
   },
   "outputs": [
    {
     "data": {
      "text/plain": [
       "'♀'"
      ]
     },
     "execution_count": 32,
     "metadata": {},
     "output_type": "execute_result"
    }
   ],
   "source": [
    "'\\u2640'"
   ]
  },
  {
   "cell_type": "code",
   "execution_count": 33,
   "metadata": {
    "collapsed": false
   },
   "outputs": [
    {
     "data": {
      "text/plain": [
       "'‽'"
      ]
     },
     "execution_count": 33,
     "metadata": {},
     "output_type": "execute_result"
    }
   ],
   "source": [
    "Char(0x203d)"
   ]
  },
  {
   "cell_type": "code",
   "execution_count": 34,
   "metadata": {
    "collapsed": false
   },
   "outputs": [
    {
     "data": {
      "text/plain": [
       "124"
      ]
     },
     "execution_count": 34,
     "metadata": {},
     "output_type": "execute_result"
    }
   ],
   "source": [
    "parse(Int, \"123\") + 1"
   ]
  },
  {
   "cell_type": "code",
   "execution_count": 36,
   "metadata": {
    "collapsed": false
   },
   "outputs": [
    {
     "name": "stdout",
     "output_type": "stream",
     "text": [
      "pi = 3.1415927"
     ]
    }
   ],
   "source": [
    " @printf(\"pi = %0.7f\", float(pi))"
   ]
  },
  {
   "cell_type": "code",
   "execution_count": 37,
   "metadata": {
    "collapsed": false
   },
   "outputs": [
    {
     "data": {
      "text/plain": [
       "\"pi = 3.14159265358979311600\""
      ]
     },
     "execution_count": 37,
     "metadata": {},
     "output_type": "execute_result"
    }
   ],
   "source": [
    "@sprintf(\"pi = %0.20f\", float(pi))"
   ]
  },
  {
   "cell_type": "code",
   "execution_count": 38,
   "metadata": {
    "collapsed": false
   },
   "outputs": [
    {
     "data": {
      "text/plain": [
       "\"1 2 3 4\\n       5 6 7 8\\n       9 0 1 2\""
      ]
     },
     "execution_count": 38,
     "metadata": {},
     "output_type": "execute_result"
    }
   ],
   "source": [
    "data=\"1 2 3 4\n",
    "       5 6 7 8\n",
    "       9 0 1 2\""
   ]
  },
  {
   "cell_type": "code",
   "execution_count": 39,
   "metadata": {
    "collapsed": false
   },
   "outputs": [
    {
     "data": {
      "text/plain": [
       "3x4 Array{Float64,2}:\n",
       " 1.0  2.0  3.0  4.0\n",
       " 5.0  6.0  7.0  8.0\n",
       " 9.0  0.0  1.0  2.0"
      ]
     },
     "execution_count": 39,
     "metadata": {},
     "output_type": "execute_result"
    }
   ],
   "source": [
    "readdlm(IOBuffer(data))"
   ]
  },
  {
   "cell_type": "code",
   "execution_count": 40,
   "metadata": {
    "collapsed": false
   },
   "outputs": [
    {
     "data": {
      "text/plain": [
       "3x4 Array{Int32,2}:\n",
       " 1  2  3  4\n",
       " 5  6  7  8\n",
       " 9  0  1  2"
      ]
     },
     "execution_count": 40,
     "metadata": {},
     "output_type": "execute_result"
    }
   ],
   "source": [
    "readdlm(IOBuffer(data), Int)"
   ]
  },
  {
   "cell_type": "code",
   "execution_count": 41,
   "metadata": {
    "collapsed": false
   },
   "outputs": [
    {
     "data": {
      "text/plain": [
       "\"/Users/me/Music/iTunes/iTunes Media/Mobile Applications\""
      ]
     },
     "execution_count": 41,
     "metadata": {},
     "output_type": "execute_result"
    }
   ],
   "source": [
    "i = \"/Users/me/Music/iTunes/iTunes Media/Mobile Applications\""
   ]
  },
  {
   "cell_type": "code",
   "execution_count": 42,
   "metadata": {
    "collapsed": false
   },
   "outputs": [
    {
     "data": {
      "text/plain": [
       "55-element Array{Char,1}:\n",
       " '/'\n",
       " 'U'\n",
       " 's'\n",
       " 'e'\n",
       " 'r'\n",
       " 's'\n",
       " '/'\n",
       " 'm'\n",
       " 'e'\n",
       " '/'\n",
       " 'M'\n",
       " 'u'\n",
       " 's'\n",
       " ⋮  \n",
       " 'A'\n",
       " 'p'\n",
       " 'p'\n",
       " 'l'\n",
       " 'i'\n",
       " 'c'\n",
       " 'a'\n",
       " 't'\n",
       " 'i'\n",
       " 'o'\n",
       " 'n'\n",
       " 's'"
      ]
     },
     "execution_count": 42,
     "metadata": {},
     "output_type": "execute_result"
    }
   ],
   "source": [
    "collect(i)"
   ]
  },
  {
   "cell_type": "code",
   "execution_count": 44,
   "metadata": {
    "collapsed": false
   },
   "outputs": [
    {
     "data": {
      "text/plain": [
       "2"
      ]
     },
     "execution_count": 44,
     "metadata": {},
     "output_type": "execute_result"
    }
   ],
   "source": [
    "count(c -> c =='a', collect(i))"
   ]
  },
  {
   "cell_type": "code",
   "execution_count": 48,
   "metadata": {
    "collapsed": false
   },
   "outputs": [
    {
     "data": {
      "text/plain": [
       "true"
      ]
     },
     "execution_count": 48,
     "metadata": {},
     "output_type": "execute_result"
    }
   ],
   "source": [
    "s = \"Elementary, my dear Watson\";\n",
    "contains(s,\"my\")"
   ]
  },
  {
   "cell_type": "code",
   "execution_count": 49,
   "metadata": {
    "collapsed": false
   },
   "outputs": [
    {
     "data": {
      "text/plain": [
       "true"
      ]
     },
     "execution_count": 49,
     "metadata": {},
     "output_type": "execute_result"
    }
   ],
   "source": [
    "contains(s, \"Wat\")"
   ]
  },
  {
   "cell_type": "code",
   "execution_count": 50,
   "metadata": {
    "collapsed": false
   },
   "outputs": [
    {
     "data": {
      "text/plain": [
       "16:16"
      ]
     },
     "execution_count": 50,
     "metadata": {},
     "output_type": "execute_result"
    }
   ],
   "source": [
    "s =\"You know my methods, Watson.\";\n",
    "search(s, \"h\")"
   ]
  },
  {
   "cell_type": "code",
   "execution_count": 51,
   "metadata": {
    "collapsed": false
   },
   "outputs": [
    {
     "data": {
      "text/plain": [
       "10:11"
      ]
     },
     "execution_count": 51,
     "metadata": {},
     "output_type": "execute_result"
    }
   ],
   "source": [
    "search(s, r\"m(y|e)\")"
   ]
  },
  {
   "cell_type": "code",
   "execution_count": 53,
   "metadata": {
    "collapsed": false
   },
   "outputs": [
    {
     "data": {
      "text/plain": [
       "\"my\""
      ]
     },
     "execution_count": 53,
     "metadata": {},
     "output_type": "execute_result"
    }
   ],
   "source": [
    "s[search(s, r\"m(y|e)\")]"
   ]
  },
  {
   "cell_type": "code",
   "execution_count": 54,
   "metadata": {
    "collapsed": false
   },
   "outputs": [
    {
     "data": {
      "text/plain": [
       "\"my\""
      ]
     },
     "execution_count": 54,
     "metadata": {},
     "output_type": "execute_result"
    }
   ],
   "source": [
    "s[10:11]"
   ]
  },
  {
   "cell_type": "code",
   "execution_count": 55,
   "metadata": {
    "collapsed": false
   },
   "outputs": [
    {
     "data": {
      "text/plain": [
       "\"Sheerlock Holmees\""
      ]
     },
     "execution_count": 55,
     "metadata": {},
     "output_type": "execute_result"
    }
   ],
   "source": [
    "replace(\"Sherlock Holmes\", \"e\", \"ee\")"
   ]
  },
  {
   "cell_type": "code",
   "execution_count": 56,
   "metadata": {
    "collapsed": false
   },
   "outputs": [
    {
     "data": {
      "text/plain": [
       "\"ShErlock HolmEs\""
      ]
     },
     "execution_count": 56,
     "metadata": {},
     "output_type": "execute_result"
    }
   ],
   "source": [
    "replace(\"Sherlock Holmes\", \"e\", uppercase)"
   ]
  },
  {
   "cell_type": "code",
   "execution_count": 58,
   "metadata": {
    "collapsed": false
   },
   "outputs": [],
   "source": [
    "f = \"C:\\\\Users\\\\Vladimir Alencar\\\\Desktop\\\\The-adventures-of-sherlock-holmes.txt\"\n",
    "text = readall(f);"
   ]
  },
  {
   "cell_type": "code",
   "execution_count": 60,
   "metadata": {
    "collapsed": false
   },
   "outputs": [
    {
     "ename": "LoadError",
     "evalue": "LoadError: UndefVarError: t not defined\nwhile loading In[60], in expression starting on line 1",
     "output_type": "error",
     "traceback": [
      "LoadError: UndefVarError: t not defined\nwhile loading In[60], in expression starting on line 1",
      ""
     ]
    }
   ],
   "source": [
    "t"
   ]
  },
  {
   "cell_type": "code",
   "execution_count": 61,
   "metadata": {
    "collapsed": false
   },
   "outputs": [
    {
     "data": {
      "text/plain": [
       "false"
      ]
     },
     "execution_count": 61,
     "metadata": {},
     "output_type": "execute_result"
    }
   ],
   "source": [
    "ismatch(r\"Opium\", text)"
   ]
  },
  {
   "cell_type": "code",
   "execution_count": 62,
   "metadata": {
    "collapsed": false
   },
   "outputs": [
    {
     "data": {
      "text/plain": [
       "true"
      ]
     },
     "execution_count": 62,
     "metadata": {},
     "output_type": "execute_result"
    }
   ],
   "source": [
    "ismatch(r\"(?i)Opium\", text)"
   ]
  },
  {
   "cell_type": "code",
   "execution_count": 63,
   "metadata": {
    "collapsed": false
   },
   "outputs": [
    {
     "name": "stdout",
     "output_type": "stream",
     "text": [
      "opium. The habit grew upon him, as I understand, from some\n",
      "he had, when the fit was on him, made use of an opium den in the\n",
      "brown opium smoke, and terraced with wooden berths, like the\n",
      "wrinkled, bent with age, an opium pipe dangling down from between\n",
      "very short time a decrepit figure had emerged from the opium den,\n",
      "opium-smoking to cocaine injections, and all the other little\n",
      "steps--for the house was none other than the opium den in which\n",
      "lives upon the second floor of the opium den, and who was\n",
      "learn to have been the lodger at the opium den, and to have been\n",
      "doing in the opium den, what happened to him when there, where is\n",
      "\"Had he ever showed any signs of having taken opium?\"\n",
      "room above the opium den when I looked out of my window and saw,\n"
     ]
    }
   ],
   "source": [
    "for l in split(text, \"\\n\")\n",
    "    ismatch(r\"opium\", l) && println(l)\n",
    "end"
   ]
  },
  {
   "cell_type": "code",
   "execution_count": 66,
   "metadata": {
    "collapsed": false
   },
   "outputs": [
    {
     "name": "stdout",
     "output_type": "stream",
     "text": [
      "as ever, deeply attracted by the study of crime, and occupied his\n",
      "strange features which were associated with the two crimes which\n",
      "crime.\n",
      "smaller crimes, and occasionally, indeed, where there is room for\n",
      "doubt whether any positive crime has been committed. As far as I\n",
      "case is an instance of crime or not, but the course of events is\n",
      "crimes which are really puzzling, just as a commonplace face is\n",
      "\"A considerable crime is in contemplation. I have every reason to\n",
      "charm to an investigation. The larger crimes are apt to be the\n",
      "simpler, for the bigger the crime the more obvious, as a rule, is\n",
      "relation to crime. It is a subject to which I have devoted some\n",
      "rise from crime to crime until he does something very bad, and\n",
      "clue. The more featureless and commonplace a crime is, the more\n",
      "happy until you had been on the scene of the crime.\"\n",
      "fireplace cross-indexing his records of crime, while I at the\n",
      "eccentric, anatomy unsystematic, sensational literature and crime\n",
      "abominable crime. The front room was plainly furnished as a\n",
      "hardly have been more than an accessory to the crime. His defence\n",
      "\"If I am Mr. Neville St. Clair, then it is obvious that no crime\n",
      "\"No crime, but a very great error has been committed,\" said\n",
      "some mystery and the punishment of some crime.\"\n",
      "\"No, no. No crime,\" said Sherlock Holmes, laughing. \"Only one of\n",
      "legal crime.\"\n",
      "you said just now, there has been no crime committed, and no harm\n",
      "focus of crime. Every good stone is. They are the devil's pet\n",
      "poor Horner in the dock for a crime of which he knew nothing.\"\n",
      "and when a clever man turns his brains to crime it is the worst\n",
      "crime.\"\n",
      "that my cousin Arthur is innocent of this crime.\"\n",
      "is upon the logic rather than upon the crime that you should\n",
      "in, a fair proportion do not treat of crime, in its legal sense,\n",
      "isolation and of the impunity with which crime may be committed\n",
      "\"Good heavens!\" I cried. \"Who would associate crime with these\n",
      "but a step between the crime and the dock. But look at these\n"
     ]
    }
   ],
   "source": [
    "for l in split(text, \"\\n\")\n",
    "    ismatch(r\"crime\", l) && println(l)\n",
    "end"
   ]
  },
  {
   "cell_type": "code",
   "execution_count": 71,
   "metadata": {
    "collapsed": false
   },
   "outputs": [],
   "source": [
    "bold = \"\\x1b[1m\"; default = \"\\x1b[0m\";\n"
   ]
  },
  {
   "cell_type": "code",
   "execution_count": 72,
   "metadata": {
    "collapsed": false
   },
   "outputs": [
    {
     "name": "stdout",
     "output_type": "stream",
     "text": [
      "5128 \u001b[1mopiummmm\u001b[1m\u001b[0m. The habit grew upon him, as I understand, from some\n",
      "5181 he had, when the fit was on him, made use of an \u001b[1mopiummmm\u001b[1m\u001b[0m den in the\n",
      "5214 brown \u001b[1mopiummmm\u001b[1m\u001b[0m smoke, and terraced with wooden berths, like the\n",
      "5278 wrinkled, bent with age, an \u001b[1mopiummmm\u001b[1m\u001b[0m pipe dangling down from between\n",
      "5314 very short time a decrepit figure had emerged from the \u001b[1mopiummmm\u001b[1m\u001b[0m den,\n",
      "5321 \u001b[1mopiummmm\u001b[1m\u001b[0m-smoking to cocaine injections, and all the other little\n",
      "5470 steps--for the house was none other than the \u001b[1mopiummmm\u001b[1m\u001b[0m den in which\n",
      "5527 lives upon the second floor of the \u001b[1mopiummmm\u001b[1m\u001b[0m den, and who was\n",
      "5551 learn to have been the lodger at the \u001b[1mopiummmm\u001b[1m\u001b[0m den, and to have been\n",
      "5634 doing in the \u001b[1mopiummmm\u001b[1m\u001b[0m den, what happened to him when there, where is\n",
      "5887 \"Had he ever showed any signs of having taken \u001b[1mopiummmm\u001b[1m\u001b[0m?\"\n",
      "6170 room above the \u001b[1mopiummmm\u001b[1m\u001b[0m den when I looked out of my window and saw,\n"
     ]
    }
   ],
   "source": [
    "for (n,l) in enumerate(split(text, \"\\n\"))\n",
    "           ismatch(r\"opium\", l) && println(\"$n $(replace(l, \"opium\", \"$(bold)opiummmm$(bold)$(default)\"))\")\n",
    "       end"
   ]
  },
  {
   "cell_type": "code",
   "execution_count": 73,
   "metadata": {
    "collapsed": true
   },
   "outputs": [],
   "source": [
    "lmatch = eachmatch(r\"L.*?ed\", text);"
   ]
  },
  {
   "cell_type": "code",
   "execution_count": 74,
   "metadata": {
    "collapsed": false
   },
   "outputs": [
    {
     "name": "stdout",
     "output_type": "stream",
     "text": [
      "License included\n",
      "London--quite so! Your Majesty, as I understand, became entangled\n",
      "Lodge. As it pulled\n",
      "Lord, Mr. Wilson, that I was a red\n",
      "League of the Red\n",
      "League was founded\n",
      "London when he was young, and he wanted\n",
      "LSON\" in white letters, upon a corner house, announced\n",
      "League, and the copying of the 'Encyclopaed\n",
      "Leadenhall Street Post Office, to be left till called\n",
      "Let the whole incident be a sealed\n",
      "Lestrade, being rather puzzled\n",
      "Lestrade would have noted\n",
      "Lestrade looked\n",
      "Lestrade laughed\n",
      "Lestrade shrugged\n",
      "Lestrade called\n",
      "Lestrade observed\n",
      "Lestrade showed\n",
      "Lestrade,\" he remarked\n",
      "Lestrade laughed\n",
      "Lestrade shrugged\n",
      "Look here, Watson,\" he said when the cloth was cleared\n",
      "Lord that I had shot him then, but I spared\n",
      "London we were forced\n",
      "Lee laid down his arms my uncle returned\n",
      "London. What do you ded\n",
      "Lone Star' had arrived\n",
      "Lone Star\" of Savannah, but none ever reached\n",
      "L. S.\" carved\n",
      "London Bridge. Between a slop-shop and a gin-shop, approached\n",
      "Lane on her way back to the station. Have you followed\n",
      "Lascar, but this fault was soon remed\n",
      "Lascar confed\n",
      "Let me introduce you,\" he shouted\n",
      "Last Monday I had finished\n",
      "Lascar, entreated\n",
      "Let you have five hundred\n",
      "Last week he hurled\n",
      "Leatherhead, where we hired\n",
      "Lysander Stark' engraved\n",
      "Lysander Stark stopped\n",
      "Lysander Stark. The name was strange to him. Had he observed\n",
      "Lost, on the 9th inst., Mr. Jeremiah Hayling, aged\n",
      "Large masses of nickel and of tin were discovered\n",
      "Lord Robert St. Simon,\" announced\n",
      "Lord St. Simon glanced\n",
      "London, then, and you renewed\n",
      "Lady St. Simon, then, returned\n",
      "Lord St. Simon shrugged\n",
      "Lady St. Simon was decoyed\n",
      "Lestrade,\" drawled\n",
      "Lestrade looked\n",
      "Lord St. Simon has not already arrived\n",
      "Lord St. Simon sank into a chair and passed\n",
      "Lord St. Simon had by no means relaxed\n",
      "Lordship. \"I may be forced\n",
      "London. What could have happened\n",
      "London, and I had placed\n",
      "License included\n",
      "License for all works posted\n",
      "License as specified\n",
      "Literary Archive Foundation was created\n",
      "Literary Archive Foundation are tax ded\n"
     ]
    }
   ],
   "source": [
    "for i in lmatch\n",
    "   println(i.match)\n",
    "end"
   ]
  },
  {
   "cell_type": "code",
   "execution_count": 75,
   "metadata": {
    "collapsed": false
   },
   "outputs": [
    {
     "data": {
      "text/plain": [
       "\"Sherlock Holmes, by Arthur Conan Doyle\\r\""
      ]
     },
     "execution_count": 75,
     "metadata": {},
     "output_type": "execute_result"
    }
   ],
   "source": [
    "match(r\"She.*\",text).match"
   ]
  },
  {
   "cell_type": "code",
   "execution_count": 76,
   "metadata": {
    "collapsed": false
   },
   "outputs": [
    {
     "data": {
      "text/plain": [
       "12-element Array{AbstractString,1}:\n",
       " \"opium. The habit grew upon him, as I understand, from some\"       \n",
       " \"he had, when the fit was on him, made use of an opium den in the\" \n",
       " \"brown opium smoke, and terraced with wooden berths, like the\"     \n",
       " \"wrinkled, bent with age, an opium pipe dangling down from between\"\n",
       " \"very short time a decrepit figure had emerged from the opium den,\"\n",
       " \"opium-smoking to cocaine injections, and all the other little\"    \n",
       " \"steps--for the house was none other than the opium den in which\"  \n",
       " \"lives upon the second floor of the opium den, and who was\"        \n",
       " \"learn to have been the lodger at the opium den, and to have been\" \n",
       " \"doing in the opium den, what happened to him when there, where is\"\n",
       " \"\\\"Had he ever showed any signs of having taken opium?\\\"\"          \n",
       " \"room above the opium den when I looked out of my window and saw,\" "
      ]
     },
     "execution_count": 76,
     "metadata": {},
     "output_type": "execute_result"
    }
   ],
   "source": [
    "filter(r\"(?i)Opium\", map(chomp, readlines(open(f))))"
   ]
  },
  {
   "cell_type": "code",
   "execution_count": 79,
   "metadata": {
    "collapsed": false
   },
   "outputs": [
    {
     "ename": "LoadError",
     "evalue": "LoadError: cannot define function f; it already has a value\nwhile loading In[79], in expression starting on line 1",
     "output_type": "error",
     "traceback": [
      "LoadError: cannot define function f; it already has a value\nwhile loading In[79], in expression starting on line 1",
      ""
     ]
    }
   ],
   "source": [
    "function f(io::IO, args...)\n",
    "    map( (a) -> print(io,\"<\",a, \">\"), args)\n",
    "end"
   ]
  },
  {
   "cell_type": "code",
   "execution_count": 80,
   "metadata": {
    "collapsed": false
   },
   "outputs": [
    {
     "data": {
      "text/plain": [
       "IOBuffer(data=UInt8[...], readable=true, writable=true, seekable=true, append=false, size=0, maxsize=Inf, ptr=1, mark=-1)"
      ]
     },
     "execution_count": 80,
     "metadata": {},
     "output_type": "execute_result"
    }
   ],
   "source": [
    "iobuffer = IOBuffer()"
   ]
  },
  {
   "cell_type": "code",
   "execution_count": 81,
   "metadata": {
    "collapsed": true
   },
   "outputs": [],
   "source": [
    "for i in 1:100\n",
    "           println(iobuffer, string(i))\n",
    "       end"
   ]
  },
  {
   "cell_type": "code",
   "execution_count": 82,
   "metadata": {
    "collapsed": false
   },
   "outputs": [
    {
     "data": {
      "text/plain": [
       "IOBuffer(data=UInt8[...], readable=true, writable=true, seekable=true, append=false, size=292, maxsize=Inf, ptr=293, mark=-1)"
      ]
     },
     "execution_count": 82,
     "metadata": {},
     "output_type": "execute_result"
    }
   ],
   "source": [
    "iobuffer"
   ]
  },
  {
   "cell_type": "code",
   "execution_count": 84,
   "metadata": {
    "collapsed": false
   },
   "outputs": [
    {
     "data": {
      "text/plain": [
       "\"1\\n2\\n3\\n4\\n5\\n6\\n7\\n8\\n9\\n10\\n11\\n12\\n13\\n14\\n15\\n16\\n17\\n18\\n19\\n20\\n21\\n22\\n23\\n24\\n25\\n26\\n27\\n28\\n29\\n30\\n31\\n32\\n33\\n34\\n35\\n36\\n37\\n38\\n39\\n40\\n41\\n42\\n43\\n44\\n45\\n46\\n47\\n48\\n49\\n50\\n51\\n52\\n53\\n54\\n55\\n56\\n57\\n58\\n59\\n60\\n61\\n62\\n63\\n64\\n65\\n66\\n67\\n68\\n69\\n70\\n71\\n72\\n73\\n74\\n75\\n76\\n77\\n78\\n79\\n80\\n81\\n82\\n83\\n84\\n85\\n86\\n87\\n88\\n89\\n90\\n91\\n92\\n93\\n94\\n95\\n96\\n97\\n98\\n99\\n100\\n\""
      ]
     },
     "execution_count": 84,
     "metadata": {},
     "output_type": "execute_result"
    }
   ],
   "source": [
    "takebuf_string(iobuffer)"
   ]
  },
  {
   "cell_type": "code",
   "execution_count": null,
   "metadata": {
    "collapsed": true
   },
   "outputs": [],
   "source": []
  }
 ],
 "metadata": {
  "kernelspec": {
   "display_name": "Julia 0.4.2",
   "language": "julia",
   "name": "julia-0.4"
  },
  "language_info": {
   "file_extension": ".jl",
   "mimetype": "application/julia",
   "name": "julia",
   "version": "0.4.2"
  }
 },
 "nbformat": 4,
 "nbformat_minor": 0
}
