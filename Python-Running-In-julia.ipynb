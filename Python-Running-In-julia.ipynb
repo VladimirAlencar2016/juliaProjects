{
 "cells": [
  {
   "cell_type": "code",
   "execution_count": 1,
   "metadata": {
    "collapsed": false
   },
   "outputs": [
    {
     "data": {
      "text/plain": [
       "0.0"
      ]
     },
     "execution_count": 1,
     "metadata": {},
     "output_type": "execute_result"
    }
   ],
   "source": [
    "using PyCall\n",
    "@pyimport math\n",
    "math.sin(math.pi / 4) - sin(pi / 4)  # returns 0.0"
   ]
  },
  {
   "cell_type": "code",
   "execution_count": 2,
   "metadata": {
    "collapsed": false
   },
   "outputs": [
    {
     "data": {
      "text/plain": [
       "3x4 Array{Float64,2}:\n",
       " 0.481181  0.69579   0.237779  0.570009\n",
       " 0.838036  0.136831  0.680571  0.348898\n",
       " 0.669293  0.608045  0.386695  0.512473"
      ]
     },
     "execution_count": 2,
     "metadata": {},
     "output_type": "execute_result"
    }
   ],
   "source": [
    "@pyimport numpy.random as nr\n",
    "nr.rand(3,4)"
   ]
  },
  {
   "cell_type": "code",
   "execution_count": 3,
   "metadata": {
    "collapsed": true
   },
   "outputs": [],
   "source": [
    "@pyimport matplotlib.pyplot as plt\n",
    "x = linspace(0,2*pi,1000); y = sin(3*x + 4*cos(2*x));\n",
    "plt.plot(x, y, color=\"red\", linewidth=2.0, linestyle=\"--\")\n",
    "plt.show()"
   ]
  },
  {
   "cell_type": "code",
   "execution_count": 19,
   "metadata": {
    "collapsed": false
   },
   "outputs": [
    {
     "ename": "LoadError",
     "evalue": "LoadError: PyError (:PyImport_ImportModule) <type 'exceptions.ImportError'>\nImportError('No module named scipy.optimize',)\n\nwhile loading In[19], in expression starting on line 341",
     "output_type": "error",
     "traceback": [
      "LoadError: PyError (:PyImport_ImportModule) <type 'exceptions.ImportError'>\nImportError('No module named scipy.optimize',)\n\nwhile loading In[19], in expression starting on line 341",
      "",
      " [inlined code] from C:\\Users\\Vladimir Alencar\\.julia\\v0.4\\PyCall\\src\\exception.jl:81",
      " in pyimport at C:\\Users\\Vladimir Alencar\\.julia\\v0.4\\PyCall\\src\\PyCall.jl:302"
     ]
    }
   ],
   "source": [
    "using PyCall\n",
    "@pyimport scipy.optimize as so\n",
    "so.newton(f,-3)"
   ]
  },
  {
   "cell_type": "code",
   "execution_count": 14,
   "metadata": {
    "collapsed": false
   },
   "outputs": [
    {
     "data": {
      "text/plain": [
       "f (generic function with 1 method)"
      ]
     },
     "execution_count": 14,
     "metadata": {},
     "output_type": "execute_result"
    }
   ],
   "source": [
    "function f(x)\n",
    "return x^3-3*x+1 end"
   ]
  },
  {
   "cell_type": "code",
   "execution_count": 12,
   "metadata": {
    "collapsed": false
   },
   "outputs": [
    {
     "ename": "LoadError",
     "evalue": "LoadError: PyError (:PyImport_ImportModule) <type 'exceptions.ImportError'>\nImportError('No module named Bio.Seq',)\n\nwhile loading In[12], in expression starting on line 341",
     "output_type": "error",
     "traceback": [
      "LoadError: PyError (:PyImport_ImportModule) <type 'exceptions.ImportError'>\nImportError('No module named Bio.Seq',)\n\nwhile loading In[12], in expression starting on line 341",
      "",
      " [inlined code] from C:\\Users\\Vladimir Alencar\\.julia\\v0.4\\PyCall\\src\\exception.jl:81",
      " in pyimport at C:\\Users\\Vladimir Alencar\\.julia\\v0.4\\PyCall\\src\\PyCall.jl:302"
     ]
    }
   ],
   "source": [
    "@pyimport Bio.Seq as s\n",
    "@pyimport Bio.Alphabet as a\n",
    "my_dna = s.Seq(\"AGTACACTGGT\", a.generic_dna)\n",
    "my_dna[:find](\"ACT\")"
   ]
  },
  {
   "cell_type": "code",
   "execution_count": null,
   "metadata": {
    "collapsed": true
   },
   "outputs": [],
   "source": []
  },
  {
   "cell_type": "code",
   "execution_count": null,
   "metadata": {
    "collapsed": true
   },
   "outputs": [],
   "source": []
  }
 ],
 "metadata": {
  "kernelspec": {
   "display_name": "Julia 0.4.2",
   "language": "julia",
   "name": "julia-0.4"
  },
  "language_info": {
   "file_extension": ".jl",
   "mimetype": "application/julia",
   "name": "julia",
   "version": "0.4.2"
  }
 },
 "nbformat": 4,
 "nbformat_minor": 0
}
