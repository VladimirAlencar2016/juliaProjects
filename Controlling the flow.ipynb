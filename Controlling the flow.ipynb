{
 "cells": [
  {
   "cell_type": "code",
   "execution_count": 5,
   "metadata": {
    "collapsed": false
   },
   "outputs": [
    {
     "data": {
      "text/plain": [
       "4"
      ]
     },
     "execution_count": 5,
     "metadata": {},
     "output_type": "execute_result"
    }
   ],
   "source": [
    "x=4\n"
   ]
  },
  {
   "cell_type": "code",
   "execution_count": 6,
   "metadata": {
    "collapsed": false
   },
   "outputs": [
    {
     "data": {
      "text/plain": [
       "\"yes\""
      ]
     },
     "execution_count": 6,
     "metadata": {},
     "output_type": "execute_result"
    }
   ],
   "source": [
    "x > 3 ? \"yes\" : \"no\""
   ]
  },
  {
   "cell_type": "code",
   "execution_count": 7,
   "metadata": {
    "collapsed": false
   },
   "outputs": [
    {
     "data": {
      "text/plain": [
       "\"It's a prime!\""
      ]
     },
     "execution_count": 7,
     "metadata": {},
     "output_type": "execute_result"
    }
   ],
   "source": [
    "n = 1000003\n",
    "\n",
    " isprime(n) && \"It's a prime!\""
   ]
  },
  {
   "cell_type": "code",
   "execution_count": 8,
   "metadata": {
    "collapsed": false
   },
   "outputs": [
    {
     "name": "stdout",
     "output_type": "stream",
     "text": [
      "Thank you, Brinkley\n",
      "and shut the door behind you\n"
     ]
    }
   ],
   "source": [
    "name = \"Brinkley\"\n",
    "\n",
    "     if name == \"Jeeves\"\n",
    "           println(\"Very Good Jeeves\")\n",
    "       elseif name == \"Brinkley\"\n",
    "           println(\"Thank you, Brinkley\")\n",
    "           println(\"and shut the door behind you\")\n",
    "       else\n",
    "           println(\"Fine, just ignore me\")\n",
    "       end"
   ]
  },
  {
   "cell_type": "code",
   "execution_count": 9,
   "metadata": {
    "collapsed": false
   },
   "outputs": [
    {
     "name": "stdout",
     "output_type": "stream",
     "text": [
      "0\n",
      "10\n",
      "20\n",
      "30\n",
      "40\n",
      "50\n",
      "60\n",
      "70\n",
      "80\n",
      "90\n",
      "100\n"
     ]
    }
   ],
   "source": [
    "for i in 0:10:100\n",
    "            println(i)\n",
    "       end"
   ]
  },
  {
   "cell_type": "code",
   "execution_count": 10,
   "metadata": {
    "collapsed": false
   },
   "outputs": [
    {
     "name": "stdout",
     "output_type": "stream",
     "text": [
      "red green blue "
     ]
    }
   ],
   "source": [
    "for color in [\"red\", \"green\", \"blue\"] # an array\n",
    "           print(color, \" \")\n",
    "       end"
   ]
  },
  {
   "cell_type": "code",
   "execution_count": 11,
   "metadata": {
    "collapsed": false
   },
   "outputs": [
    {
     "name": "stdout",
     "output_type": "stream",
     "text": [
      "j u l i a "
     ]
    }
   ],
   "source": [
    "for letter in \"julia\" # a string\n",
    "           print(letter, \" \")\n",
    "       end"
   ]
  },
  {
   "cell_type": "code",
   "execution_count": 12,
   "metadata": {
    "collapsed": false
   },
   "outputs": [
    {
     "name": "stdout",
     "output_type": "stream",
     "text": [
      "\"A\"=>1\n",
      "\"B\"=>2\n"
     ]
    }
   ],
   "source": [
    "for i in Dict(\"A\"=>1, \"B\"=>2) # a dictionary\n",
    "       println(i)\n",
    "       end"
   ]
  },
  {
   "cell_type": "code",
   "execution_count": 14,
   "metadata": {
    "collapsed": false
   },
   "outputs": [
    {
     "name": "stderr",
     "output_type": "stream",
     "text": [
      "WARNING: Dict(ks,vs) is deprecated, use Dict{Any,Any}(zip(ks,vs)) instead."
     ]
    },
    {
     "data": {
      "text/plain": [
       "Dict{Any,Any} with 1 entry:\n",
       "  'b' => 8"
      ]
     },
     "execution_count": 14,
     "metadata": {},
     "output_type": "execute_result"
    },
    {
     "name": "stderr",
     "output_type": "stream",
     "text": [
      "\n",
      " in depwarn at deprecated.jl:73\n",
      " in include_string at loading.jl:266\n",
      " in execute_request_0x535c5df2 at C:\\Users\\Vladimir Alencar\\.julia\\v0.4\\IJulia\\src\\execute_request.jl:177\n",
      " in eventloop at C:\\Users\\Vladimir Alencar\\.julia\\v0.4\\IJulia\\src\\IJulia.jl:141\n",
      " in anonymous at task.jl:447\n",
      "while loading In[14], in expression starting on line 1\n"
     ]
    }
   ],
   "source": [
    "d = Dict(\"b\",8)"
   ]
  },
  {
   "cell_type": "code",
   "execution_count": 15,
   "metadata": {
    "collapsed": false
   },
   "outputs": [
    {
     "data": {
      "text/plain": [
       "Dict{Any,Any} with 1 entry:\n",
       "  'b' => 8"
      ]
     },
     "execution_count": 15,
     "metadata": {},
     "output_type": "execute_result"
    }
   ],
   "source": [
    "d"
   ]
  },
  {
   "cell_type": "code",
   "execution_count": 16,
   "metadata": {
    "collapsed": false
   },
   "outputs": [
    {
     "name": "stderr",
     "output_type": "stream",
     "text": [
      "WARNING: Dict(ks,vs) is deprecated, use Dict{Any,Any}(zip(ks,vs)) instead."
     ]
    },
    {
     "ename": "LoadError",
     "evalue": "LoadError: MethodError: `+` has no method matching +(::Dict{Any,Any}, ::Dict{Any,Any})\nClosest candidates are:\n  +(::Any, ::Any, !Matched::Any, !Matched::Any...)\nwhile loading In[16], in expression starting on line 1",
     "output_type": "error",
     "traceback": [
      "LoadError: MethodError: `+` has no method matching +(::Dict{Any,Any}, ::Dict{Any,Any})\nClosest candidates are:\n  +(::Any, ::Any, !Matched::Any, !Matched::Any...)\nwhile loading In[16], in expression starting on line 1",
      ""
     ]
    },
    {
     "name": "stderr",
     "output_type": "stream",
     "text": [
      "\n",
      " in depwarn at deprecated.jl:73\n",
      " in include_string at loading.jl:266\n",
      " in execute_request_0x535c5df2 at C:\\Users\\Vladimir Alencar\\.julia\\v0.4\\IJulia\\src\\execute_request.jl:177\n",
      " in eventloop at C:\\Users\\Vladimir Alencar\\.julia\\v0.4\\IJulia\\src\\IJulia.jl:141\n",
      " in anonymous at task.jl:447\n",
      "while loading In[16], in expression starting on line 1\n"
     ]
    }
   ],
   "source": [
    "d += Dict(\"A\",1)"
   ]
  },
  {
   "cell_type": "code",
   "execution_count": 18,
   "metadata": {
    "collapsed": false
   },
   "outputs": [
    {
     "ename": "LoadError",
     "evalue": "LoadError: UndefVarError: d! not defined\nwhile loading In[18], in expression starting on line 1",
     "output_type": "error",
     "traceback": [
      "LoadError: UndefVarError: d! not defined\nwhile loading In[18], in expression starting on line 1",
      ""
     ]
    }
   ],
   "source": [
    "d!(\"A\",1)"
   ]
  },
  {
   "cell_type": "code",
   "execution_count": 19,
   "metadata": {
    "collapsed": false
   },
   "outputs": [
    {
     "data": {
      "text/plain": [
       "4"
      ]
     },
     "execution_count": 19,
     "metadata": {},
     "output_type": "execute_result"
    }
   ],
   "source": [
    "d[\"h\"] = 4"
   ]
  },
  {
   "cell_type": "code",
   "execution_count": 20,
   "metadata": {
    "collapsed": false
   },
   "outputs": [
    {
     "data": {
      "text/plain": [
       "Dict{Any,Any} with 2 entries:\n",
       "  'b' => 8\n",
       "  \"h\" => 4"
      ]
     },
     "execution_count": 20,
     "metadata": {},
     "output_type": "execute_result"
    }
   ],
   "source": [
    "d"
   ]
  },
  {
   "cell_type": "code",
   "execution_count": 21,
   "metadata": {
    "collapsed": false
   },
   "outputs": [
    {
     "name": "stdout",
     "output_type": "stream",
     "text": [
      "\"A\"=>1\n",
      "\"B\"=>2\n"
     ]
    }
   ],
   "source": [
    "for i in Dict(\"A\"=>1, \"B\"=>2) # a dictionary\n",
    "       println(i)\n",
    "       end"
   ]
  },
  {
   "cell_type": "code",
   "execution_count": 22,
   "metadata": {
    "collapsed": false
   },
   "outputs": [
    {
     "name": "stdout",
     "output_type": "stream",
     "text": [
      "i\n",
      "u\n",
      "a\n",
      "e\n",
      "o\n"
     ]
    }
   ],
   "source": [
    "for i in Set([\"a\", \"e\", \"a\", \"e\", \"i\", \"o\", \"i\", \"o\", \"u\"])\n",
    "       println(i)\n",
    "       end"
   ]
  },
  {
   "cell_type": "code",
   "execution_count": 23,
   "metadata": {
    "collapsed": false
   },
   "outputs": [
    {
     "data": {
      "text/plain": [
       "10x10 Array{Int32,2}:\n",
       "  1  11  21  31  41  51  61  71  81   91\n",
       "  2  12  22  32  42  52  62  72  82   92\n",
       "  3  13  23  33  43  53  63  73  83   93\n",
       "  4  14  24  34  44  54  64  74  84   94\n",
       "  5  15  25  35  45  55  65  75  85   95\n",
       "  6  16  26  36  46  56  66  76  86   96\n",
       "  7  17  27  37  47  57  67  77  87   97\n",
       "  8  18  28  38  48  58  68  78  88   98\n",
       "  9  19  29  39  49  59  69  79  89   99\n",
       " 10  20  30  40  50  60  70  80  90  100"
      ]
     },
     "execution_count": 23,
     "metadata": {},
     "output_type": "execute_result"
    }
   ],
   "source": [
    "a = reshape(1:100, (10, 10))"
   ]
  },
  {
   "cell_type": "code",
   "execution_count": 28,
   "metadata": {
    "collapsed": false
   },
   "outputs": [
    {
     "data": {
      "text/plain": [
       "3x2 Array{Int32,2}:\n",
       " 0  3\n",
       " 1  4\n",
       " 2  5"
      ]
     },
     "execution_count": 28,
     "metadata": {},
     "output_type": "execute_result"
    }
   ],
   "source": [
    "b = reshape(0:5,(3,2))"
   ]
  },
  {
   "cell_type": "code",
   "execution_count": 29,
   "metadata": {
    "collapsed": false
   },
   "outputs": [
    {
     "name": "stdout",
     "output_type": "stream",
     "text": [
      "1 2 3 4 5 6 7 8 9 10 11 12 13 14 15 16 17 18 19 20 21 22 23 24 25 26 27 28 29 30 31 32 33 34 35 36 37 38 39 40 41 42 43 44 45 46 47 48 49 50 51 52 53 54 55 56 57 58 59 60 61 62 63 64 65 66 67 68 69 70 71 72 73 74 75 76 77 78 79 80 81 82 83 84 85 86 87 88 89 90 91 92 93 94 95 96 97 98 99 100 "
     ]
    }
   ],
   "source": [
    "for n in a\n",
    "       print(n, \" \")\n",
    "       end"
   ]
  },
  {
   "cell_type": "code",
   "execution_count": 30,
   "metadata": {
    "collapsed": false
   },
   "outputs": [
    {
     "data": {
      "text/plain": [
       "10-element Array{Int32,1}:\n",
       "  1\n",
       "  2\n",
       "  3\n",
       "  4\n",
       "  5\n",
       "  6\n",
       "  7\n",
       "  8\n",
       "  9\n",
       " 10"
      ]
     },
     "execution_count": 30,
     "metadata": {},
     "output_type": "execute_result"
    }
   ],
   "source": [
    "S = [n for n in 1:10]"
   ]
  },
  {
   "cell_type": "code",
   "execution_count": 31,
   "metadata": {
    "collapsed": false
   },
   "outputs": [
    {
     "name": "stdout",
     "output_type": "stream",
     "text": [
      "[1,2,3,4,5,6,7,8,9,10]"
     ]
    }
   ],
   "source": [
    "print (S)"
   ]
  },
  {
   "cell_type": "code",
   "execution_count": 32,
   "metadata": {
    "collapsed": false
   },
   "outputs": [
    {
     "data": {
      "text/plain": [
       "10-element Array{Int32,1}:\n",
       "   1\n",
       "   4\n",
       "   9\n",
       "  16\n",
       "  25\n",
       "  36\n",
       "  49\n",
       "  64\n",
       "  81\n",
       " 100"
      ]
     },
     "execution_count": 32,
     "metadata": {},
     "output_type": "execute_result"
    }
   ],
   "source": [
    "[i^2 for i in 1:10]"
   ]
  },
  {
   "cell_type": "code",
   "execution_count": 33,
   "metadata": {
    "collapsed": false
   },
   "outputs": [
    {
     "data": {
      "text/plain": [
       "Dict{Int32,Int32} with 10 entries:\n",
       "  4  => 16\n",
       "  6  => 36\n",
       "  10 => 100\n",
       "  7  => 49\n",
       "  5  => 25\n",
       "  3  => 9\n",
       "  8  => 64\n",
       "  2  => 4\n",
       "  1  => 1\n",
       "  9  => 81"
      ]
     },
     "execution_count": 33,
     "metadata": {},
     "output_type": "execute_result"
    }
   ],
   "source": [
    "[i => i^2 for i in 1:10]"
   ]
  },
  {
   "cell_type": "code",
   "execution_count": 34,
   "metadata": {
    "collapsed": false
   },
   "outputs": [
    {
     "data": {
      "text/plain": [
       "5x5 Array{Tuple{Int32,Int32},2}:\n",
       " (1,1)  (1,2)  (1,3)  (1,4)  (1,5)\n",
       " (2,1)  (2,2)  (2,3)  (2,4)  (2,5)\n",
       " (3,1)  (3,2)  (3,3)  (3,4)  (3,5)\n",
       " (4,1)  (4,2)  (4,3)  (4,4)  (4,5)\n",
       " (5,1)  (5,2)  (5,3)  (5,4)  (5,5)"
      ]
     },
     "execution_count": 34,
     "metadata": {},
     "output_type": "execute_result"
    }
   ],
   "source": [
    "[(r,c) for r in 1:5, c in 1:5]"
   ]
  },
  {
   "cell_type": "code",
   "execution_count": 35,
   "metadata": {
    "collapsed": false
   },
   "outputs": [
    {
     "data": {
      "text/plain": [
       "3x3 Array{Int32,2}:\n",
       " 5  5  7\n",
       " 0  6  9\n",
       " 3  7  3"
      ]
     },
     "execution_count": 35,
     "metadata": {},
     "output_type": "execute_result"
    }
   ],
   "source": [
    "m = rand(0:9, 3, 3)"
   ]
  },
  {
   "cell_type": "code",
   "execution_count": 36,
   "metadata": {
    "collapsed": false
   },
   "outputs": [
    {
     "data": {
      "text/plain": [
       "9-element Array{Tuple{Int32,Any},1}:\n",
       " (1,5)\n",
       " (2,0)\n",
       " (3,3)\n",
       " (4,5)\n",
       " (5,6)\n",
       " (6,7)\n",
       " (7,7)\n",
       " (8,9)\n",
       " (9,3)"
      ]
     },
     "execution_count": 36,
     "metadata": {},
     "output_type": "execute_result"
    }
   ],
   "source": [
    "[i for i in enumerate(m)]"
   ]
  },
  {
   "cell_type": "code",
   "execution_count": 38,
   "metadata": {
    "collapsed": false
   },
   "outputs": [
    {
     "name": "stdout",
     "output_type": "stream",
     "text": [
      "(0,100,200)\n",
      "(1,101,201)\n",
      "(2,102,202)\n",
      "(3,103,203)\n",
      "(4,104,204)\n",
      "(5,105,205)\n",
      "(6,106,206)\n",
      "(7,107,207)\n",
      "(8,108,208)\n",
      "(9,109,209)\n",
      "(10,110,210)\n"
     ]
    }
   ],
   "source": [
    "for i in zip(0:10, 100:110, 200:210)\n",
    "    println(i) end"
   ]
  },
  {
   "cell_type": "code",
   "execution_count": 39,
   "metadata": {
    "collapsed": false
   },
   "outputs": [
    {
     "data": {
      "text/plain": [
       "51-element Array{Int32,1}:\n",
       "   0\n",
       "   2\n",
       "   4\n",
       "   6\n",
       "   8\n",
       "  10\n",
       "  12\n",
       "  14\n",
       "  16\n",
       "  18\n",
       "  20\n",
       "  22\n",
       "  24\n",
       "   ⋮\n",
       "  78\n",
       "  80\n",
       "  82\n",
       "  84\n",
       "  86\n",
       "  88\n",
       "  90\n",
       "  92\n",
       "  94\n",
       "  96\n",
       "  98\n",
       " 100"
      ]
     },
     "execution_count": 39,
     "metadata": {},
     "output_type": "execute_result"
    }
   ],
   "source": [
    "[i for i in 0:2:100]"
   ]
  },
  {
   "cell_type": "code",
   "execution_count": 40,
   "metadata": {
    "collapsed": false
   },
   "outputs": [
    {
     "data": {
      "text/plain": [
       "5-element Array{Int32,1}:\n",
       "   0\n",
       "  25\n",
       "  50\n",
       "  75\n",
       " 100"
      ]
     },
     "execution_count": 40,
     "metadata": {},
     "output_type": "execute_result"
    }
   ],
   "source": [
    "collect(0:25:100)"
   ]
  },
  {
   "cell_type": "code",
   "execution_count": 41,
   "metadata": {
    "collapsed": false
   },
   "outputs": [
    {
     "name": "stderr",
     "output_type": "stream",
     "text": [
      "WARNING: [a] concatenation is deprecated; use collect(a) instead"
     ]
    },
    {
     "data": {
      "text/plain": [
       "24-element Array{Array{Int32,1},1}:\n",
       " [1,2,3,4]\n",
       " [1,2,4,3]\n",
       " [1,3,2,4]\n",
       " [1,3,4,2]\n",
       " [1,4,2,3]\n",
       " [1,4,3,2]\n",
       " [2,1,3,4]\n",
       " [2,1,4,3]\n",
       " [2,3,1,4]\n",
       " [2,3,4,1]\n",
       " [2,4,1,3]\n",
       " [2,4,3,1]\n",
       " [3,1,2,4]\n",
       " [3,1,4,2]\n",
       " [3,2,1,4]\n",
       " [3,2,4,1]\n",
       " [3,4,1,2]\n",
       " [3,4,2,1]\n",
       " [4,1,2,3]\n",
       " [4,1,3,2]\n",
       " [4,2,1,3]\n",
       " [4,2,3,1]\n",
       " [4,3,1,2]\n",
       " [4,3,2,1]"
      ]
     },
     "execution_count": 41,
     "metadata": {},
     "output_type": "execute_result"
    },
    {
     "name": "stderr",
     "output_type": "stream",
     "text": [
      "\n",
      " in depwarn at deprecated.jl:73\n",
      " in include_string at loading.jl:266\n",
      " in execute_request_0x535c5df2 at C:\\Users\\Vladimir Alencar\\.julia\\v0.4\\IJulia\\src\\execute_request.jl:177\n",
      " in eventloop at C:\\Users\\Vladimir Alencar\\.julia\\v0.4\\IJulia\\src\\IJulia.jl:141\n",
      " in anonymous at task.jl:447\n",
      "while loading In[41], in expression starting on line 1\n"
     ]
    }
   ],
   "source": [
    "collect(permutations([1:4]))"
   ]
  },
  {
   "cell_type": "code",
   "execution_count": 42,
   "metadata": {
    "collapsed": false
   },
   "outputs": [
    {
     "name": "stdout",
     "output_type": "stream",
     "text": [
      "(x,y) = (1,1)\n",
      "(x,y) = (1,2)\n",
      "(x,y) = (1,3)\n",
      "(x,y) = (1,4)\n",
      "(x,y) = (1,5)\n",
      "(x,y) = (1,6)\n",
      "(x,y) = (1,7)\n",
      "(x,y) = (1,8)\n",
      "(x,y) = (1,9)\n",
      "(x,y) = (1,10)\n",
      "(x,y) = (2,1)\n",
      "(x,y) = (2,2)\n",
      "(x,y) = (2,3)\n",
      "(x,y) = (2,4)\n",
      "(x,y) = (2,5)\n",
      "(x,y) = (2,6)\n",
      "(x,y) = (2,7)\n",
      "(x,y) = (2,8)\n",
      "(x,y) = (2,9)\n",
      "(x,y) = (2,10)\n",
      "(x,y) = (3,1)\n",
      "(x,y) = (3,2)\n",
      "(x,y) = (3,3)\n",
      "(x,y) = (3,4)\n",
      "(x,y) = (3,5)\n",
      "(x,y) = (3,6)\n",
      "(x,y) = (3,7)\n",
      "(x,y) = (3,8)\n",
      "(x,y) = (3,9)\n",
      "(x,y) = (3,10)\n",
      "(x,y) = (4,1)\n",
      "(x,y) = (4,2)\n",
      "(x,y) = (4,3)\n",
      "(x,y) = (4,4)\n",
      "(x,y) = (4,5)\n",
      "(x,y) = (4,6)\n",
      "(x,y) = (4,7)\n",
      "(x,y) = (4,8)\n",
      "(x,y) = (4,9)\n",
      "(x,y) = (4,10)\n",
      "(x,y) = (5,1)\n",
      "(x,y) = (5,2)\n",
      "(x,y) = (5,3)\n",
      "(x,y) = (5,4)\n",
      "(x,y) = (5,5)\n",
      "(x,y) = (5,6)\n",
      "(x,y) = (5,7)\n",
      "(x,y) = (5,8)\n",
      "(x,y) = (5,9)\n",
      "(x,y) = (5,10)\n",
      "(x,y) = (6,1)\n",
      "(x,y) = (6,2)\n",
      "(x,y) = (6,3)\n",
      "(x,y) = (6,4)\n",
      "(x,y) = (6,5)\n",
      "(x,y) = (6,6)\n",
      "(x,y) = (6,7)\n",
      "(x,y) = (6,8)\n",
      "(x,y) = (6,9)\n",
      "(x,y) = (6,10)\n",
      "(x,y) = (7,1)\n",
      "(x,y) = (7,2)\n",
      "(x,y) = (7,3)\n",
      "(x,y) = (7,4)\n",
      "(x,y) = (7,5)\n",
      "(x,y) = (7,6)\n",
      "(x,y) = (7,7)\n",
      "(x,y) = (7,8)\n",
      "(x,y) = (7,9)\n",
      "(x,y) = (7,10)\n",
      "(x,y) = (8,1)\n",
      "(x,y) = (8,2)\n",
      "(x,y) = (8,3)\n",
      "(x,y) = (8,4)\n",
      "(x,y) = (8,5)\n",
      "(x,y) = (8,6)\n",
      "(x,y) = (8,7)\n",
      "(x,y) = (8,8)\n",
      "(x,y) = (8,9)\n",
      "(x,y) = (8,10)\n",
      "(x,y) = (9,1)\n",
      "(x,y) = (9,2)\n",
      "(x,y) = (9,3)\n",
      "(x,y) = (9,4)\n",
      "(x,y) = (9,5)\n",
      "(x,y) = (9,6)\n",
      "(x,y) = (9,7)\n",
      "(x,y) = (9,8)\n",
      "(x,y) = (9,9)\n",
      "(x,y) = (9,10)\n",
      "(x,y) = (10,1)\n",
      "(x,y) = (10,2)\n",
      "(x,y) = (10,3)\n",
      "(x,y) = (10,4)\n",
      "(x,y) = (10,5)\n",
      "(x,y) = (10,6)\n",
      "(x,y) = (10,7)\n",
      "(x,y) = (10,8)\n",
      "(x,y) = (10,9)\n",
      "(x,y) = (10,10)\n"
     ]
    }
   ],
   "source": [
    "for x in 1:10, y in 1:10\n",
    "          @show (x, y)\n",
    "       end"
   ]
  },
  {
   "cell_type": "code",
   "execution_count": 43,
   "metadata": {
    "collapsed": false
   },
   "outputs": [
    {
     "data": {
      "text/plain": [
       "0"
      ]
     },
     "execution_count": 43,
     "metadata": {},
     "output_type": "execute_result"
    }
   ],
   "source": [
    "x=0"
   ]
  },
  {
   "cell_type": "code",
   "execution_count": 44,
   "metadata": {
    "collapsed": false
   },
   "outputs": [
    {
     "name": "stdout",
     "output_type": "stream",
     "text": [
      "0\n",
      "1\n",
      "2\n",
      "3\n"
     ]
    }
   ],
   "source": [
    "while x < 4\n",
    "    println(x)\n",
    "    x += 1\n",
    "end"
   ]
  },
  {
   "cell_type": "code",
   "execution_count": 45,
   "metadata": {
    "collapsed": false
   },
   "outputs": [
    {
     "name": "stdout",
     "output_type": "stream",
     "text": [
      "caught an error MethodError(setindex!,(\"string\",\"p\",1))\n",
      "but we can continue with execution\n"
     ]
    }
   ],
   "source": [
    "s = \"string\";\n",
    "       try\n",
    "          s[1] = \"p\"\n",
    "       catch e\n",
    "          println(\"caught an error $e\")\n",
    "          println(\"but we can continue with execution\")\n",
    "       end"
   ]
  },
  {
   "cell_type": "code",
   "execution_count": 46,
   "metadata": {
    "collapsed": false
   },
   "outputs": [
    {
     "data": {
      "text/plain": [
       "10-element Array{Any,1}:\n",
       "  1\n",
       "  2\n",
       "  3\n",
       "  5\n",
       "  7\n",
       " 11\n",
       " 13\n",
       " 17\n",
       " 19\n",
       " 23"
      ]
     },
     "execution_count": 46,
     "metadata": {},
     "output_type": "execute_result"
    }
   ],
   "source": [
    "primes = {1\n",
    "  2\n",
    "  3\n",
    "  5\n",
    "  7\n",
    " 11\n",
    " 13\n",
    " 17\n",
    " 19\n",
    " 23}"
   ]
  },
  {
   "cell_type": "code",
   "execution_count": 47,
   "metadata": {
    "collapsed": false
   },
   "outputs": [
    {
     "data": {
      "text/plain": [
       "1-element Array{Int32,1}:\n",
       " 7"
      ]
     },
     "execution_count": 47,
     "metadata": {},
     "output_type": "execute_result"
    }
   ],
   "source": [
    "find(x -> x == 13, primes)"
   ]
  },
  {
   "cell_type": "code",
   "execution_count": null,
   "metadata": {
    "collapsed": true
   },
   "outputs": [],
   "source": []
  },
  {
   "cell_type": "code",
   "execution_count": null,
   "metadata": {
    "collapsed": true
   },
   "outputs": [],
   "source": []
  },
  {
   "cell_type": "code",
   "execution_count": null,
   "metadata": {
    "collapsed": true
   },
   "outputs": [],
   "source": []
  },
  {
   "cell_type": "code",
   "execution_count": null,
   "metadata": {
    "collapsed": true
   },
   "outputs": [],
   "source": []
  },
  {
   "cell_type": "code",
   "execution_count": null,
   "metadata": {
    "collapsed": true
   },
   "outputs": [],
   "source": []
  },
  {
   "cell_type": "code",
   "execution_count": null,
   "metadata": {
    "collapsed": true
   },
   "outputs": [],
   "source": []
  }
 ],
 "metadata": {
  "kernelspec": {
   "display_name": "Julia 0.4.2",
   "language": "julia",
   "name": "julia-0.4"
  },
  "language_info": {
   "file_extension": ".jl",
   "mimetype": "application/julia",
   "name": "julia",
   "version": "0.4.2"
  }
 },
 "nbformat": 4,
 "nbformat_minor": 0
}
